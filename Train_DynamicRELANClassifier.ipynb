{
 "cells": [
  {
   "cell_type": "code",
   "execution_count": null,
   "id": "22d41425",
   "metadata": {},
   "outputs": [
    {
     "name": "stdout",
     "output_type": "stream",
     "text": [
      "PyTorch version: 2.6.0+cu126\n",
      "CUDA available: True\n",
      "CUDA version: 12.6\n",
      "Device name: NVIDIA GeForce RTX 3060 Ti\n",
      "Looking for data in: c:\\Users\\Wangzy\\Desktop\\9444\\data\n",
      "Creating data loaders with batch size: 8, augmentation: strong, workers: 4\n",
      "Using device: cuda:0\n",
      "Number of classes: 4\n",
      " Stage 0: Using attention pattern: ('cbam', 'area', 'cbam')\n",
      " Stage 1: Using attention pattern: ('area', 'cbam', 'area')\n",
      " Stage 2: Using attention pattern: ('cbam', 'area', 'cbam')\n",
      " Stage 3: Using attention pattern: ('area', 'cbam', 'area')\n"
     ]
    },
    {
     "name": "stderr",
     "output_type": "stream",
     "text": [
      "c:\\Users\\Wangzy\\Desktop\\9444\\.venv\\Lib\\site-packages\\albumentations\\core\\validation.py:87: UserWarning: ShiftScaleRotate is a special case of Affine transform. Please use Affine transform instead.\n",
      "  original_init(self, **validated_kwargs)\n"
     ]
    },
    {
     "name": "stdout",
     "output_type": "stream",
     "text": [
      "\n",
      "----- Training Configuration -----\n",
      "Model: Attention\n",
      "Number of classes: 4\n",
      "Batch size: 8\n",
      "Max number of epochs: 10000\n",
      "Early Stopping Patience: 20\n",
      "Learning rate: 5e-05\n",
      "Optimizer: adamw\n",
      "  Weight Decay: 0.0005\n",
      "Loss function: label_smoothing\n",
      "  Label Smoothing Epsilon: 0.15\n",
      "Data Augmentation: strong\n",
      "Num Workers: 4\n",
      "Device: cuda:0\n",
      "----------------------------------\n",
      "----- Start Training -----\n",
      "Early stopping patience set to: 20 epochs\n",
      "Gradient Accumulation enabled. Accumulating over 2 steps.\n",
      "Actual Batch Size: 8, Effective Batch Size: 16\n",
      "\n",
      "Epoch 1/10000\n",
      "----------\n"
     ]
    },
    {
     "name": "stderr",
     "output_type": "stream",
     "text": [
      "                                                                                            \r"
     ]
    },
    {
     "name": "stdout",
     "output_type": "stream",
     "text": [
      "Train Loss: 1.3864 Acc: 0.3497\n"
     ]
    },
    {
     "name": "stderr",
     "output_type": "stream",
     "text": [
      "                                                                                   \r"
     ]
    },
    {
     "name": "stdout",
     "output_type": "stream",
     "text": [
      "Val Loss: 1.6903 Val Acc: 0.3614\n",
      "Validation loss decreased (inf --> 1.6903). Saving model...\n",
      "\n",
      "Epoch 2/10000\n",
      "----------\n"
     ]
    },
    {
     "name": "stderr",
     "output_type": "stream",
     "text": [
      "                                                                                            \r"
     ]
    },
    {
     "name": "stdout",
     "output_type": "stream",
     "text": [
      "Train Loss: 1.3668 Acc: 0.3823\n"
     ]
    },
    {
     "name": "stderr",
     "output_type": "stream",
     "text": [
      "                                                                                   \r"
     ]
    },
    {
     "name": "stdout",
     "output_type": "stream",
     "text": [
      "Val Loss: 1.8046 Val Acc: 0.3675\n",
      "Validation loss did not improve for 1 epoch(s). Current best: 1.6903\n",
      "\n",
      "Epoch 3/10000\n",
      "----------\n"
     ]
    },
    {
     "name": "stderr",
     "output_type": "stream",
     "text": [
      "                                                                                            \r"
     ]
    },
    {
     "name": "stdout",
     "output_type": "stream",
     "text": [
      "Train Loss: 1.3557 Acc: 0.4021\n"
     ]
    },
    {
     "name": "stderr",
     "output_type": "stream",
     "text": [
      "                                                                                   \r"
     ]
    },
    {
     "name": "stdout",
     "output_type": "stream",
     "text": [
      "Val Loss: 1.7298 Val Acc: 0.3645\n",
      "Validation loss did not improve for 2 epoch(s). Current best: 1.6903\n",
      "\n",
      "Epoch 4/10000\n",
      "----------\n"
     ]
    },
    {
     "name": "stderr",
     "output_type": "stream",
     "text": [
      "                                                                                            \r"
     ]
    },
    {
     "name": "stdout",
     "output_type": "stream",
     "text": [
      "Train Loss: 1.3607 Acc: 0.3935\n"
     ]
    },
    {
     "name": "stderr",
     "output_type": "stream",
     "text": [
      "                                                                                   \r"
     ]
    },
    {
     "name": "stdout",
     "output_type": "stream",
     "text": [
      "Val Loss: 2.3738 Val Acc: 0.3614\n",
      "Validation loss did not improve for 3 epoch(s). Current best: 1.6903\n",
      "\n",
      "Epoch 5/10000\n",
      "----------\n"
     ]
    },
    {
     "name": "stderr",
     "output_type": "stream",
     "text": [
      "                                                                                            \r"
     ]
    },
    {
     "name": "stdout",
     "output_type": "stream",
     "text": [
      "Train Loss: 1.3542 Acc: 0.3900\n"
     ]
    },
    {
     "name": "stderr",
     "output_type": "stream",
     "text": [
      "                                                                                   \r"
     ]
    },
    {
     "name": "stdout",
     "output_type": "stream",
     "text": [
      "Val Loss: 2.3456 Val Acc: 0.3705\n",
      "Validation loss did not improve for 4 epoch(s). Current best: 1.6903\n",
      "\n",
      "Epoch 6/10000\n",
      "----------\n"
     ]
    },
    {
     "name": "stderr",
     "output_type": "stream",
     "text": [
      "                                                                                            \r"
     ]
    },
    {
     "name": "stdout",
     "output_type": "stream",
     "text": [
      "Train Loss: 1.3552 Acc: 0.3840\n"
     ]
    },
    {
     "name": "stderr",
     "output_type": "stream",
     "text": [
      "                                                                                   \r"
     ]
    },
    {
     "name": "stdout",
     "output_type": "stream",
     "text": [
      "Val Loss: 1.6718 Val Acc: 0.4217\n",
      "Validation loss decreased (1.6903 --> 1.6718). Saving model...\n",
      "\n",
      "Epoch 7/10000\n",
      "----------\n"
     ]
    },
    {
     "name": "stderr",
     "output_type": "stream",
     "text": [
      "                                                                                            \r"
     ]
    },
    {
     "name": "stdout",
     "output_type": "stream",
     "text": [
      "Train Loss: 1.3620 Acc: 0.3814\n"
     ]
    },
    {
     "name": "stderr",
     "output_type": "stream",
     "text": [
      "                                                                                    \r"
     ]
    },
    {
     "name": "stdout",
     "output_type": "stream",
     "text": [
      "Val Loss: 3.4765 Val Acc: 0.4518\n",
      "Validation loss did not improve for 1 epoch(s). Current best: 1.6718\n",
      "\n",
      "Epoch 8/10000\n",
      "----------\n"
     ]
    },
    {
     "name": "stderr",
     "output_type": "stream",
     "text": [
      "                                                                                            \r"
     ]
    },
    {
     "name": "stdout",
     "output_type": "stream",
     "text": [
      "Train Loss: 1.3610 Acc: 0.3995\n"
     ]
    },
    {
     "name": "stderr",
     "output_type": "stream",
     "text": [
      "                                                                                   \r"
     ]
    },
    {
     "name": "stdout",
     "output_type": "stream",
     "text": [
      "Val Loss: 2.1449 Val Acc: 0.3614\n",
      "Validation loss did not improve for 2 epoch(s). Current best: 1.6718\n",
      "\n",
      "Epoch 9/10000\n",
      "----------\n"
     ]
    },
    {
     "name": "stderr",
     "output_type": "stream",
     "text": [
      "                                                                                            \r"
     ]
    },
    {
     "name": "stdout",
     "output_type": "stream",
     "text": [
      "Train Loss: 1.3518 Acc: 0.3883\n"
     ]
    },
    {
     "name": "stderr",
     "output_type": "stream",
     "text": [
      "                                                                                   \r"
     ]
    },
    {
     "name": "stdout",
     "output_type": "stream",
     "text": [
      "Val Loss: 2.1021 Val Acc: 0.3614\n",
      "Validation loss did not improve for 3 epoch(s). Current best: 1.6718\n",
      "\n",
      "Epoch 10/10000\n",
      "----------\n"
     ]
    },
    {
     "name": "stderr",
     "output_type": "stream",
     "text": [
      "                                                                                             \r"
     ]
    },
    {
     "name": "stdout",
     "output_type": "stream",
     "text": [
      "Train Loss: 1.3547 Acc: 0.3883\n"
     ]
    },
    {
     "name": "stderr",
     "output_type": "stream",
     "text": [
      "                                                                                    \r"
     ]
    },
    {
     "name": "stdout",
     "output_type": "stream",
     "text": [
      "Val Loss: 2.4469 Val Acc: 0.3916\n",
      "Validation loss did not improve for 4 epoch(s). Current best: 1.6718\n",
      "\n",
      "Epoch 11/10000\n",
      "----------\n"
     ]
    },
    {
     "name": "stderr",
     "output_type": "stream",
     "text": [
      "                                                                                             \r"
     ]
    },
    {
     "name": "stdout",
     "output_type": "stream",
     "text": [
      "Train Loss: 1.3429 Acc: 0.3943\n"
     ]
    },
    {
     "name": "stderr",
     "output_type": "stream",
     "text": [
      "                                                                                    \r"
     ]
    },
    {
     "name": "stdout",
     "output_type": "stream",
     "text": [
      "Val Loss: 2.7235 Val Acc: 0.4006\n",
      "Validation loss did not improve for 5 epoch(s). Current best: 1.6718\n",
      "\n",
      "Epoch 12/10000\n",
      "----------\n"
     ]
    },
    {
     "name": "stderr",
     "output_type": "stream",
     "text": [
      "                                                                                             \r"
     ]
    },
    {
     "name": "stdout",
     "output_type": "stream",
     "text": [
      "Train Loss: 1.3369 Acc: 0.4072\n"
     ]
    },
    {
     "name": "stderr",
     "output_type": "stream",
     "text": [
      "                                                                                     \r"
     ]
    },
    {
     "name": "stdout",
     "output_type": "stream",
     "text": [
      "Val Loss: 3.6566 Val Acc: 0.4367\n",
      "Validation loss did not improve for 6 epoch(s). Current best: 1.6718\n",
      "\n",
      "Epoch 13/10000\n",
      "----------\n"
     ]
    },
    {
     "name": "stderr",
     "output_type": "stream",
     "text": [
      "                                                                                             \r"
     ]
    },
    {
     "name": "stdout",
     "output_type": "stream",
     "text": [
      "Train Loss: 1.3472 Acc: 0.4046\n"
     ]
    },
    {
     "name": "stderr",
     "output_type": "stream",
     "text": [
      "                                                                                    \r"
     ]
    },
    {
     "name": "stdout",
     "output_type": "stream",
     "text": [
      "Val Loss: 2.4094 Val Acc: 0.4488\n",
      "Validation loss did not improve for 7 epoch(s). Current best: 1.6718\n",
      "\n",
      "Epoch 14/10000\n",
      "----------\n"
     ]
    },
    {
     "name": "stderr",
     "output_type": "stream",
     "text": [
      "                                                                                             \r"
     ]
    },
    {
     "name": "stdout",
     "output_type": "stream",
     "text": [
      "Train Loss: 1.3368 Acc: 0.4064\n"
     ]
    },
    {
     "name": "stderr",
     "output_type": "stream",
     "text": [
      "                                                                                     \r"
     ]
    },
    {
     "name": "stdout",
     "output_type": "stream",
     "text": [
      "Val Loss: 3.1565 Val Acc: 0.4367\n",
      "Validation loss did not improve for 8 epoch(s). Current best: 1.6718\n",
      "\n",
      "Epoch 15/10000\n",
      "----------\n"
     ]
    },
    {
     "name": "stderr",
     "output_type": "stream",
     "text": [
      "                                                                                             \r"
     ]
    },
    {
     "name": "stdout",
     "output_type": "stream",
     "text": [
      "Train Loss: 1.3321 Acc: 0.4055\n"
     ]
    },
    {
     "name": "stderr",
     "output_type": "stream",
     "text": [
      "                                                                                    \r"
     ]
    },
    {
     "name": "stdout",
     "output_type": "stream",
     "text": [
      "Val Loss: 1.4539 Val Acc: 0.4699\n",
      "Validation loss decreased (1.6718 --> 1.4539). Saving model...\n",
      "\n",
      "Epoch 16/10000\n",
      "----------\n"
     ]
    },
    {
     "name": "stderr",
     "output_type": "stream",
     "text": [
      "                                                                                             \r"
     ]
    },
    {
     "name": "stdout",
     "output_type": "stream",
     "text": [
      "Train Loss: 1.3329 Acc: 0.4175\n"
     ]
    },
    {
     "name": "stderr",
     "output_type": "stream",
     "text": [
      "                                                                                             \r"
     ]
    },
    {
     "name": "stdout",
     "output_type": "stream",
     "text": [
      "Val Loss: 3.0986 Val Acc: 0.4398\n",
      "Validation loss did not improve for 1 epoch(s). Current best: 1.4539\n",
      "\n",
      "Epoch 17/10000\n",
      "----------\n"
     ]
    },
    {
     "name": "stderr",
     "output_type": "stream",
     "text": [
      "                                                                                             \r"
     ]
    },
    {
     "name": "stdout",
     "output_type": "stream",
     "text": [
      "Train Loss: 1.3252 Acc: 0.4149\n"
     ]
    },
    {
     "name": "stderr",
     "output_type": "stream",
     "text": [
      "                                                                                    \r"
     ]
    },
    {
     "name": "stdout",
     "output_type": "stream",
     "text": [
      "Val Loss: 1.8516 Val Acc: 0.4729\n",
      "Validation loss did not improve for 2 epoch(s). Current best: 1.4539\n",
      "\n",
      "Epoch 18/10000\n",
      "----------\n"
     ]
    },
    {
     "name": "stderr",
     "output_type": "stream",
     "text": [
      "                                                                                             \r"
     ]
    },
    {
     "name": "stdout",
     "output_type": "stream",
     "text": [
      "Train Loss: 1.3191 Acc: 0.4321\n"
     ]
    },
    {
     "name": "stderr",
     "output_type": "stream",
     "text": [
      "                                                                                     \r"
     ]
    },
    {
     "name": "stdout",
     "output_type": "stream",
     "text": [
      "Val Loss: 3.8129 Val Acc: 0.4548\n",
      "Validation loss did not improve for 3 epoch(s). Current best: 1.4539\n",
      "\n",
      "Epoch 19/10000\n",
      "----------\n"
     ]
    },
    {
     "name": "stderr",
     "output_type": "stream",
     "text": [
      "                                                                                             \r"
     ]
    },
    {
     "name": "stdout",
     "output_type": "stream",
     "text": [
      "Train Loss: 1.3238 Acc: 0.4192\n"
     ]
    },
    {
     "name": "stderr",
     "output_type": "stream",
     "text": [
      "                                                                                    \r"
     ]
    },
    {
     "name": "stdout",
     "output_type": "stream",
     "text": [
      "Val Loss: 1.9514 Val Acc: 0.4699\n",
      "Validation loss did not improve for 4 epoch(s). Current best: 1.4539\n",
      "\n",
      "Epoch 20/10000\n",
      "----------\n"
     ]
    },
    {
     "name": "stderr",
     "output_type": "stream",
     "text": [
      "                                                                                             \r"
     ]
    },
    {
     "name": "stdout",
     "output_type": "stream",
     "text": [
      "Train Loss: 1.3146 Acc: 0.4167\n"
     ]
    },
    {
     "name": "stderr",
     "output_type": "stream",
     "text": [
      "                                                                                    \r"
     ]
    },
    {
     "name": "stdout",
     "output_type": "stream",
     "text": [
      "Val Loss: 1.5783 Val Acc: 0.4518\n",
      "Validation loss did not improve for 5 epoch(s). Current best: 1.4539\n",
      "\n",
      "Epoch 21/10000\n",
      "----------\n"
     ]
    },
    {
     "name": "stderr",
     "output_type": "stream",
     "text": [
      "                                                                                             \r"
     ]
    },
    {
     "name": "stdout",
     "output_type": "stream",
     "text": [
      "Train Loss: 1.3165 Acc: 0.4253\n"
     ]
    },
    {
     "name": "stderr",
     "output_type": "stream",
     "text": [
      "                                                                                            \r"
     ]
    },
    {
     "name": "stdout",
     "output_type": "stream",
     "text": [
      "Val Loss: 1.4811 Val Acc: 0.5151\n",
      "Validation loss did not improve for 6 epoch(s). Current best: 1.4539\n",
      "\n",
      "Epoch 22/10000\n",
      "----------\n"
     ]
    },
    {
     "name": "stderr",
     "output_type": "stream",
     "text": [
      "                                                                                             \r"
     ]
    },
    {
     "name": "stdout",
     "output_type": "stream",
     "text": [
      "Train Loss: 1.3034 Acc: 0.4442\n"
     ]
    },
    {
     "name": "stderr",
     "output_type": "stream",
     "text": [
      "                                                                                    \r"
     ]
    },
    {
     "name": "stdout",
     "output_type": "stream",
     "text": [
      "Val Loss: 2.3088 Val Acc: 0.5211\n",
      "Validation loss did not improve for 7 epoch(s). Current best: 1.4539\n",
      "\n",
      "Epoch 23/10000\n",
      "----------\n"
     ]
    },
    {
     "name": "stderr",
     "output_type": "stream",
     "text": [
      "                                                                                             \r"
     ]
    },
    {
     "name": "stdout",
     "output_type": "stream",
     "text": [
      "Train Loss: 1.2829 Acc: 0.4545\n"
     ]
    },
    {
     "name": "stderr",
     "output_type": "stream",
     "text": [
      "                                                                                            \r"
     ]
    },
    {
     "name": "stdout",
     "output_type": "stream",
     "text": [
      "Val Loss: 2.6867 Val Acc: 0.4398\n",
      "Validation loss did not improve for 8 epoch(s). Current best: 1.4539\n",
      "\n",
      "Epoch 24/10000\n",
      "----------\n"
     ]
    },
    {
     "name": "stderr",
     "output_type": "stream",
     "text": [
      "                                                                                             \r"
     ]
    },
    {
     "name": "stdout",
     "output_type": "stream",
     "text": [
      "Train Loss: 1.2310 Acc: 0.4991\n"
     ]
    },
    {
     "name": "stderr",
     "output_type": "stream",
     "text": [
      "                                                                                    \r"
     ]
    },
    {
     "name": "stdout",
     "output_type": "stream",
     "text": [
      "Val Loss: 2.1996 Val Acc: 0.5693\n",
      "Validation loss did not improve for 9 epoch(s). Current best: 1.4539\n",
      "\n",
      "Epoch 25/10000\n",
      "----------\n"
     ]
    },
    {
     "name": "stderr",
     "output_type": "stream",
     "text": [
      "                                                                                             \r"
     ]
    },
    {
     "name": "stdout",
     "output_type": "stream",
     "text": [
      "Train Loss: 1.1902 Acc: 0.5395\n"
     ]
    },
    {
     "name": "stderr",
     "output_type": "stream",
     "text": [
      "                                                                                     \r"
     ]
    },
    {
     "name": "stdout",
     "output_type": "stream",
     "text": [
      "Val Loss: 3.1578 Val Acc: 0.5331\n",
      "Validation loss did not improve for 10 epoch(s). Current best: 1.4539\n",
      "\n",
      "Epoch 26/10000\n",
      "----------\n"
     ]
    },
    {
     "name": "stderr",
     "output_type": "stream",
     "text": [
      "                                                                                             \r"
     ]
    },
    {
     "name": "stdout",
     "output_type": "stream",
     "text": [
      "Train Loss: 1.1867 Acc: 0.5326\n"
     ]
    },
    {
     "name": "stderr",
     "output_type": "stream",
     "text": [
      "                                                                                    \r"
     ]
    },
    {
     "name": "stdout",
     "output_type": "stream",
     "text": [
      "Val Loss: 1.3996 Val Acc: 0.6386\n",
      "Validation loss decreased (1.4539 --> 1.3996). Saving model...\n",
      "\n",
      "Epoch 27/10000\n",
      "----------\n"
     ]
    },
    {
     "name": "stderr",
     "output_type": "stream",
     "text": [
      "                                                                                             \r"
     ]
    },
    {
     "name": "stdout",
     "output_type": "stream",
     "text": [
      "Train Loss: 1.1280 Acc: 0.6091\n"
     ]
    },
    {
     "name": "stderr",
     "output_type": "stream",
     "text": [
      "                                                                                    \r"
     ]
    },
    {
     "name": "stdout",
     "output_type": "stream",
     "text": [
      "Val Loss: 1.5232 Val Acc: 0.6446\n",
      "Validation loss did not improve for 1 epoch(s). Current best: 1.3996\n",
      "\n",
      "Epoch 28/10000\n",
      "----------\n"
     ]
    },
    {
     "name": "stderr",
     "output_type": "stream",
     "text": [
      "                                                                                             \r"
     ]
    },
    {
     "name": "stdout",
     "output_type": "stream",
     "text": [
      "Train Loss: 1.1189 Acc: 0.6125\n"
     ]
    },
    {
     "name": "stderr",
     "output_type": "stream",
     "text": [
      "                                                                                     \r"
     ]
    },
    {
     "name": "stdout",
     "output_type": "stream",
     "text": [
      "Val Loss: 2.7946 Val Acc: 0.6054\n",
      "Validation loss did not improve for 2 epoch(s). Current best: 1.3996\n",
      "\n",
      "Epoch 29/10000\n",
      "----------\n"
     ]
    },
    {
     "name": "stderr",
     "output_type": "stream",
     "text": [
      "                                                                                             \r"
     ]
    },
    {
     "name": "stdout",
     "output_type": "stream",
     "text": [
      "Train Loss: 1.1347 Acc: 0.5902\n"
     ]
    },
    {
     "name": "stderr",
     "output_type": "stream",
     "text": [
      "                                                                                     \r"
     ]
    },
    {
     "name": "stdout",
     "output_type": "stream",
     "text": [
      "Val Loss: 6.2155 Val Acc: 0.5723\n",
      "Validation loss did not improve for 3 epoch(s). Current best: 1.3996\n",
      "\n",
      "Epoch 30/10000\n",
      "----------\n"
     ]
    },
    {
     "name": "stderr",
     "output_type": "stream",
     "text": [
      "                                                                                             \r"
     ]
    },
    {
     "name": "stdout",
     "output_type": "stream",
     "text": [
      "Train Loss: 1.0933 Acc: 0.6426\n"
     ]
    },
    {
     "name": "stderr",
     "output_type": "stream",
     "text": [
      "                                                                                     \r"
     ]
    },
    {
     "name": "stdout",
     "output_type": "stream",
     "text": [
      "Val Loss: 4.4053 Val Acc: 0.5964\n",
      "Validation loss did not improve for 4 epoch(s). Current best: 1.3996\n",
      "\n",
      "Epoch 31/10000\n",
      "----------\n"
     ]
    },
    {
     "name": "stderr",
     "output_type": "stream",
     "text": [
      "                                                                                             \r"
     ]
    },
    {
     "name": "stdout",
     "output_type": "stream",
     "text": [
      "Train Loss: 1.0732 Acc: 0.6375\n"
     ]
    },
    {
     "name": "stderr",
     "output_type": "stream",
     "text": [
      "                                                                                            \r"
     ]
    },
    {
     "name": "stdout",
     "output_type": "stream",
     "text": [
      "Val Loss: 2.2981 Val Acc: 0.6416\n",
      "Validation loss did not improve for 5 epoch(s). Current best: 1.3996\n",
      "\n",
      "Epoch 32/10000\n",
      "----------\n"
     ]
    },
    {
     "name": "stderr",
     "output_type": "stream",
     "text": [
      "                                                                                             \r"
     ]
    },
    {
     "name": "stdout",
     "output_type": "stream",
     "text": [
      "Train Loss: 1.0838 Acc: 0.6521\n"
     ]
    },
    {
     "name": "stderr",
     "output_type": "stream",
     "text": [
      "                                                                                    \r"
     ]
    },
    {
     "name": "stdout",
     "output_type": "stream",
     "text": [
      "Val Loss: 1.4970 Val Acc: 0.6295\n",
      "Validation loss did not improve for 6 epoch(s). Current best: 1.3996\n",
      "\n",
      "Epoch 33/10000\n",
      "----------\n"
     ]
    },
    {
     "name": "stderr",
     "output_type": "stream",
     "text": [
      "                                                                                             \r"
     ]
    },
    {
     "name": "stdout",
     "output_type": "stream",
     "text": [
      "Train Loss: 1.0735 Acc: 0.6572\n"
     ]
    },
    {
     "name": "stderr",
     "output_type": "stream",
     "text": [
      "                                                                                     \r"
     ]
    },
    {
     "name": "stdout",
     "output_type": "stream",
     "text": [
      "Val Loss: 2.4637 Val Acc: 0.6024\n",
      "Validation loss did not improve for 7 epoch(s). Current best: 1.3996\n",
      "\n",
      "Epoch 34/10000\n",
      "----------\n"
     ]
    },
    {
     "name": "stderr",
     "output_type": "stream",
     "text": [
      "                                                                                             \r"
     ]
    },
    {
     "name": "stdout",
     "output_type": "stream",
     "text": [
      "Train Loss: 1.0694 Acc: 0.6503\n"
     ]
    },
    {
     "name": "stderr",
     "output_type": "stream",
     "text": [
      "                                                                                             \r"
     ]
    },
    {
     "name": "stdout",
     "output_type": "stream",
     "text": [
      "Val Loss: 2.4222 Val Acc: 0.5934\n",
      "Validation loss did not improve for 8 epoch(s). Current best: 1.3996\n",
      "\n",
      "Epoch 35/10000\n",
      "----------\n"
     ]
    },
    {
     "name": "stderr",
     "output_type": "stream",
     "text": [
      "                                                                                             \r"
     ]
    },
    {
     "name": "stdout",
     "output_type": "stream",
     "text": [
      "Train Loss: 1.0623 Acc: 0.6607\n"
     ]
    },
    {
     "name": "stderr",
     "output_type": "stream",
     "text": [
      "                                                                                     \r"
     ]
    },
    {
     "name": "stdout",
     "output_type": "stream",
     "text": [
      "Val Loss: 3.5824 Val Acc: 0.5994\n",
      "Validation loss did not improve for 9 epoch(s). Current best: 1.3996\n",
      "\n",
      "Epoch 36/10000\n",
      "----------\n"
     ]
    },
    {
     "name": "stderr",
     "output_type": "stream",
     "text": [
      "                                                                                             \r"
     ]
    },
    {
     "name": "stdout",
     "output_type": "stream",
     "text": [
      "Train Loss: 1.0362 Acc: 0.6856\n"
     ]
    },
    {
     "name": "stderr",
     "output_type": "stream",
     "text": [
      "                                                                                     \r"
     ]
    },
    {
     "name": "stdout",
     "output_type": "stream",
     "text": [
      "Val Loss: 3.7301 Val Acc: 0.6536\n",
      "Validation loss did not improve for 10 epoch(s). Current best: 1.3996\n",
      "\n",
      "Epoch 37/10000\n",
      "----------\n"
     ]
    },
    {
     "name": "stderr",
     "output_type": "stream",
     "text": [
      "                                                                                             \r"
     ]
    },
    {
     "name": "stdout",
     "output_type": "stream",
     "text": [
      "Train Loss: 1.0422 Acc: 0.6821\n"
     ]
    },
    {
     "name": "stderr",
     "output_type": "stream",
     "text": [
      "                                                                                    \r"
     ]
    },
    {
     "name": "stdout",
     "output_type": "stream",
     "text": [
      "Val Loss: 1.6569 Val Acc: 0.6446\n",
      "Validation loss did not improve for 11 epoch(s). Current best: 1.3996\n",
      "\n",
      "Epoch 38/10000\n",
      "----------\n"
     ]
    },
    {
     "name": "stderr",
     "output_type": "stream",
     "text": [
      "                                                                                             \r"
     ]
    },
    {
     "name": "stdout",
     "output_type": "stream",
     "text": [
      "Train Loss: 1.0448 Acc: 0.6976\n"
     ]
    },
    {
     "name": "stderr",
     "output_type": "stream",
     "text": [
      "                                                                                    \r"
     ]
    },
    {
     "name": "stdout",
     "output_type": "stream",
     "text": [
      "Val Loss: 1.1791 Val Acc: 0.6807\n",
      "Validation loss decreased (1.3996 --> 1.1791). Saving model...\n",
      "\n",
      "Epoch 39/10000\n",
      "----------\n"
     ]
    },
    {
     "name": "stderr",
     "output_type": "stream",
     "text": [
      "                                                                                             \r"
     ]
    },
    {
     "name": "stdout",
     "output_type": "stream",
     "text": [
      "Train Loss: 1.0276 Acc: 0.6890\n"
     ]
    },
    {
     "name": "stderr",
     "output_type": "stream",
     "text": [
      "                                                                                     \r"
     ]
    },
    {
     "name": "stdout",
     "output_type": "stream",
     "text": [
      "Val Loss: 2.9842 Val Acc: 0.6596\n",
      "Validation loss did not improve for 1 epoch(s). Current best: 1.1791\n",
      "\n",
      "Epoch 40/10000\n",
      "----------\n"
     ]
    },
    {
     "name": "stderr",
     "output_type": "stream",
     "text": [
      "                                                                                             \r"
     ]
    },
    {
     "name": "stdout",
     "output_type": "stream",
     "text": [
      "Train Loss: 1.0273 Acc: 0.6890\n"
     ]
    },
    {
     "name": "stderr",
     "output_type": "stream",
     "text": [
      "                                                                                     \r"
     ]
    },
    {
     "name": "stdout",
     "output_type": "stream",
     "text": [
      "Val Loss: 3.2064 Val Acc: 0.6235\n",
      "Validation loss did not improve for 2 epoch(s). Current best: 1.1791\n",
      "\n",
      "Epoch 41/10000\n",
      "----------\n"
     ]
    },
    {
     "name": "stderr",
     "output_type": "stream",
     "text": [
      "                                                                                             \r"
     ]
    },
    {
     "name": "stdout",
     "output_type": "stream",
     "text": [
      "Train Loss: 1.0151 Acc: 0.7070\n"
     ]
    },
    {
     "name": "stderr",
     "output_type": "stream",
     "text": [
      "                                                                                              \r"
     ]
    },
    {
     "name": "stdout",
     "output_type": "stream",
     "text": [
      "Val Loss: 2.7940 Val Acc: 0.6446\n",
      "Validation loss did not improve for 3 epoch(s). Current best: 1.1791\n",
      "\n",
      "Epoch 42/10000\n",
      "----------\n"
     ]
    },
    {
     "name": "stderr",
     "output_type": "stream",
     "text": [
      "                                                                                             \r"
     ]
    },
    {
     "name": "stdout",
     "output_type": "stream",
     "text": [
      "Train Loss: 1.0071 Acc: 0.7148\n"
     ]
    },
    {
     "name": "stderr",
     "output_type": "stream",
     "text": [
      "                                                                                     \r"
     ]
    },
    {
     "name": "stdout",
     "output_type": "stream",
     "text": [
      "Val Loss: 4.3465 Val Acc: 0.6566\n",
      "Validation loss did not improve for 4 epoch(s). Current best: 1.1791\n",
      "\n",
      "Epoch 43/10000\n",
      "----------\n"
     ]
    },
    {
     "name": "stderr",
     "output_type": "stream",
     "text": [
      "                                                                                             \r"
     ]
    },
    {
     "name": "stdout",
     "output_type": "stream",
     "text": [
      "Train Loss: 1.0135 Acc: 0.7019\n"
     ]
    },
    {
     "name": "stderr",
     "output_type": "stream",
     "text": [
      "                                                                                     \r"
     ]
    },
    {
     "name": "stdout",
     "output_type": "stream",
     "text": [
      "Val Loss: 2.9331 Val Acc: 0.6837\n",
      "Validation loss did not improve for 5 epoch(s). Current best: 1.1791\n",
      "\n",
      "Epoch 44/10000\n",
      "----------\n"
     ]
    },
    {
     "name": "stderr",
     "output_type": "stream",
     "text": [
      "                                                                                             \r"
     ]
    },
    {
     "name": "stdout",
     "output_type": "stream",
     "text": [
      "Train Loss: 0.9985 Acc: 0.7242\n"
     ]
    },
    {
     "name": "stderr",
     "output_type": "stream",
     "text": [
      "                                                                                     \r"
     ]
    },
    {
     "name": "stdout",
     "output_type": "stream",
     "text": [
      "Val Loss: 4.1482 Val Acc: 0.6205\n",
      "Validation loss did not improve for 6 epoch(s). Current best: 1.1791\n",
      "\n",
      "Epoch 45/10000\n",
      "----------\n"
     ]
    },
    {
     "name": "stderr",
     "output_type": "stream",
     "text": [
      "                                                                                             \r"
     ]
    },
    {
     "name": "stdout",
     "output_type": "stream",
     "text": [
      "Train Loss: 1.0033 Acc: 0.7139\n"
     ]
    },
    {
     "name": "stderr",
     "output_type": "stream",
     "text": [
      "                                                                                    \r"
     ]
    },
    {
     "name": "stdout",
     "output_type": "stream",
     "text": [
      "Val Loss: 1.4179 Val Acc: 0.6596\n",
      "Validation loss did not improve for 7 epoch(s). Current best: 1.1791\n",
      "\n",
      "Epoch 46/10000\n",
      "----------\n"
     ]
    },
    {
     "name": "stderr",
     "output_type": "stream",
     "text": [
      "                                                                                             \r"
     ]
    },
    {
     "name": "stdout",
     "output_type": "stream",
     "text": [
      "Train Loss: 0.9892 Acc: 0.7251\n"
     ]
    },
    {
     "name": "stderr",
     "output_type": "stream",
     "text": [
      "                                                                                     \r"
     ]
    },
    {
     "name": "stdout",
     "output_type": "stream",
     "text": [
      "Val Loss: 3.5404 Val Acc: 0.6205\n",
      "Validation loss did not improve for 8 epoch(s). Current best: 1.1791\n",
      "\n",
      "Epoch 47/10000\n",
      "----------\n"
     ]
    },
    {
     "name": "stderr",
     "output_type": "stream",
     "text": [
      "                                                                                             \r"
     ]
    },
    {
     "name": "stdout",
     "output_type": "stream",
     "text": [
      "Train Loss: 0.9820 Acc: 0.7242\n"
     ]
    },
    {
     "name": "stderr",
     "output_type": "stream",
     "text": [
      "                                                                                             \r"
     ]
    },
    {
     "name": "stdout",
     "output_type": "stream",
     "text": [
      "Val Loss: 2.4871 Val Acc: 0.6596\n",
      "Validation loss did not improve for 9 epoch(s). Current best: 1.1791\n",
      "\n",
      "Epoch 48/10000\n",
      "----------\n"
     ]
    },
    {
     "name": "stderr",
     "output_type": "stream",
     "text": [
      "                                                                                             \r"
     ]
    },
    {
     "name": "stdout",
     "output_type": "stream",
     "text": [
      "Train Loss: 0.9877 Acc: 0.7285\n"
     ]
    },
    {
     "name": "stderr",
     "output_type": "stream",
     "text": [
      "                                                                                    \r"
     ]
    },
    {
     "name": "stdout",
     "output_type": "stream",
     "text": [
      "Val Loss: 1.3869 Val Acc: 0.6657\n",
      "Validation loss did not improve for 10 epoch(s). Current best: 1.1791\n",
      "\n",
      "Epoch 49/10000\n",
      "----------\n"
     ]
    },
    {
     "name": "stderr",
     "output_type": "stream",
     "text": [
      "                                                                                             \r"
     ]
    },
    {
     "name": "stdout",
     "output_type": "stream",
     "text": [
      "Train Loss: 0.9800 Acc: 0.7251\n"
     ]
    },
    {
     "name": "stderr",
     "output_type": "stream",
     "text": [
      "                                                                                     \r"
     ]
    },
    {
     "name": "stdout",
     "output_type": "stream",
     "text": [
      "Val Loss: 2.3887 Val Acc: 0.6536\n",
      "Validation loss did not improve for 11 epoch(s). Current best: 1.1791\n",
      "\n",
      "Epoch 50/10000\n",
      "----------\n"
     ]
    },
    {
     "name": "stderr",
     "output_type": "stream",
     "text": [
      "                                                                                             \r"
     ]
    },
    {
     "name": "stdout",
     "output_type": "stream",
     "text": [
      "Train Loss: 0.9454 Acc: 0.7534\n"
     ]
    },
    {
     "name": "stderr",
     "output_type": "stream",
     "text": [
      "                                                                                    \r"
     ]
    },
    {
     "name": "stdout",
     "output_type": "stream",
     "text": [
      "Val Loss: 1.4394 Val Acc: 0.7349\n",
      "Validation loss did not improve for 12 epoch(s). Current best: 1.1791\n",
      "\n",
      "Epoch 51/10000\n",
      "----------\n"
     ]
    },
    {
     "name": "stderr",
     "output_type": "stream",
     "text": [
      "                                                                                             \r"
     ]
    },
    {
     "name": "stdout",
     "output_type": "stream",
     "text": [
      "Train Loss: 0.9768 Acc: 0.7414\n"
     ]
    },
    {
     "name": "stderr",
     "output_type": "stream",
     "text": [
      "                                                                                    \r"
     ]
    },
    {
     "name": "stdout",
     "output_type": "stream",
     "text": [
      "Val Loss: 1.3726 Val Acc: 0.6657\n",
      "Validation loss did not improve for 13 epoch(s). Current best: 1.1791\n",
      "\n",
      "Epoch 52/10000\n",
      "----------\n"
     ]
    },
    {
     "name": "stderr",
     "output_type": "stream",
     "text": [
      "                                                                                             \r"
     ]
    },
    {
     "name": "stdout",
     "output_type": "stream",
     "text": [
      "Train Loss: 0.9490 Acc: 0.7595\n"
     ]
    },
    {
     "name": "stderr",
     "output_type": "stream",
     "text": [
      "                                                                                     \r"
     ]
    },
    {
     "name": "stdout",
     "output_type": "stream",
     "text": [
      "Val Loss: 3.0037 Val Acc: 0.6867\n",
      "Validation loss did not improve for 14 epoch(s). Current best: 1.1791\n",
      "\n",
      "Epoch 53/10000\n",
      "----------\n"
     ]
    },
    {
     "name": "stderr",
     "output_type": "stream",
     "text": [
      "                                                                                             \r"
     ]
    },
    {
     "name": "stdout",
     "output_type": "stream",
     "text": [
      "Train Loss: 0.9633 Acc: 0.7569\n"
     ]
    },
    {
     "name": "stderr",
     "output_type": "stream",
     "text": [
      "                                                                                    \r"
     ]
    },
    {
     "name": "stdout",
     "output_type": "stream",
     "text": [
      "Val Loss: 2.0159 Val Acc: 0.6717\n",
      "Validation loss did not improve for 15 epoch(s). Current best: 1.1791\n",
      "\n",
      "Epoch 54/10000\n",
      "----------\n"
     ]
    },
    {
     "name": "stderr",
     "output_type": "stream",
     "text": [
      "                                                                                             \r"
     ]
    },
    {
     "name": "stdout",
     "output_type": "stream",
     "text": [
      "Train Loss: 0.9538 Acc: 0.7457\n"
     ]
    },
    {
     "name": "stderr",
     "output_type": "stream",
     "text": [
      "                                                                                            \r"
     ]
    },
    {
     "name": "stdout",
     "output_type": "stream",
     "text": [
      "Val Loss: 2.0555 Val Acc: 0.6837\n",
      "Validation loss did not improve for 16 epoch(s). Current best: 1.1791\n",
      "\n",
      "Epoch 55/10000\n",
      "----------\n"
     ]
    },
    {
     "name": "stderr",
     "output_type": "stream",
     "text": [
      "                                                                                             \r"
     ]
    },
    {
     "name": "stdout",
     "output_type": "stream",
     "text": [
      "Train Loss: 0.9482 Acc: 0.7569\n"
     ]
    },
    {
     "name": "stderr",
     "output_type": "stream",
     "text": [
      "                                                                                    \r"
     ]
    },
    {
     "name": "stdout",
     "output_type": "stream",
     "text": [
      "Val Loss: 2.1830 Val Acc: 0.6898\n",
      "Validation loss did not improve for 17 epoch(s). Current best: 1.1791\n",
      "\n",
      "Epoch 56/10000\n",
      "----------\n"
     ]
    },
    {
     "name": "stderr",
     "output_type": "stream",
     "text": [
      "                                                                                             \r"
     ]
    },
    {
     "name": "stdout",
     "output_type": "stream",
     "text": [
      "Train Loss: 0.9288 Acc: 0.7775\n"
     ]
    },
    {
     "name": "stderr",
     "output_type": "stream",
     "text": [
      "                                                                                     \r"
     ]
    },
    {
     "name": "stdout",
     "output_type": "stream",
     "text": [
      "Val Loss: 2.1591 Val Acc: 0.7048\n",
      "Validation loss did not improve for 18 epoch(s). Current best: 1.1791\n",
      "\n",
      "Epoch 57/10000\n",
      "----------\n"
     ]
    },
    {
     "name": "stderr",
     "output_type": "stream",
     "text": [
      "                                                                                             \r"
     ]
    },
    {
     "name": "stdout",
     "output_type": "stream",
     "text": [
      "Train Loss: 0.9532 Acc: 0.7526\n"
     ]
    },
    {
     "name": "stderr",
     "output_type": "stream",
     "text": [
      "                                                                                    \r"
     ]
    },
    {
     "name": "stdout",
     "output_type": "stream",
     "text": [
      "Val Loss: 1.1991 Val Acc: 0.7199\n",
      "Validation loss did not improve for 19 epoch(s). Current best: 1.1791\n",
      "\n",
      "Epoch 58/10000\n",
      "----------\n"
     ]
    },
    {
     "name": "stderr",
     "output_type": "stream",
     "text": [
      "                                                                                             \r"
     ]
    },
    {
     "name": "stdout",
     "output_type": "stream",
     "text": [
      "Train Loss: 0.9483 Acc: 0.7637\n"
     ]
    },
    {
     "name": "stderr",
     "output_type": "stream",
     "text": [
      "                                                                                    \r"
     ]
    },
    {
     "name": "stdout",
     "output_type": "stream",
     "text": [
      "Val Loss: 1.1122 Val Acc: 0.7349\n",
      "Validation loss decreased (1.1791 --> 1.1122). Saving model...\n",
      "\n",
      "Epoch 59/10000\n",
      "----------\n"
     ]
    },
    {
     "name": "stderr",
     "output_type": "stream",
     "text": [
      "                                                                                             \r"
     ]
    },
    {
     "name": "stdout",
     "output_type": "stream",
     "text": [
      "Train Loss: 0.9282 Acc: 0.7809\n"
     ]
    },
    {
     "name": "stderr",
     "output_type": "stream",
     "text": [
      "                                                                                    \r"
     ]
    },
    {
     "name": "stdout",
     "output_type": "stream",
     "text": [
      "Val Loss: 1.6416 Val Acc: 0.6898\n",
      "Validation loss did not improve for 1 epoch(s). Current best: 1.1122\n",
      "\n",
      "Epoch 60/10000\n",
      "----------\n"
     ]
    },
    {
     "name": "stderr",
     "output_type": "stream",
     "text": [
      "                                                                                             \r"
     ]
    },
    {
     "name": "stdout",
     "output_type": "stream",
     "text": [
      "Train Loss: 0.9230 Acc: 0.7715\n"
     ]
    },
    {
     "name": "stderr",
     "output_type": "stream",
     "text": [
      "                                                                                    \r"
     ]
    },
    {
     "name": "stdout",
     "output_type": "stream",
     "text": [
      "Val Loss: 1.8088 Val Acc: 0.6717\n",
      "Validation loss did not improve for 2 epoch(s). Current best: 1.1122\n",
      "\n",
      "Epoch 61/10000\n",
      "----------\n"
     ]
    },
    {
     "name": "stderr",
     "output_type": "stream",
     "text": [
      "                                                                                             \r"
     ]
    },
    {
     "name": "stdout",
     "output_type": "stream",
     "text": [
      "Train Loss: 0.9075 Acc: 0.7895\n"
     ]
    },
    {
     "name": "stderr",
     "output_type": "stream",
     "text": [
      "                                                                                     \r"
     ]
    },
    {
     "name": "stdout",
     "output_type": "stream",
     "text": [
      "Val Loss: 3.1404 Val Acc: 0.7048\n",
      "Validation loss did not improve for 3 epoch(s). Current best: 1.1122\n",
      "\n",
      "Epoch 62/10000\n",
      "----------\n"
     ]
    },
    {
     "name": "stderr",
     "output_type": "stream",
     "text": [
      "                                                                                             \r"
     ]
    },
    {
     "name": "stdout",
     "output_type": "stream",
     "text": [
      "Train Loss: 0.9203 Acc: 0.7869\n"
     ]
    },
    {
     "name": "stderr",
     "output_type": "stream",
     "text": [
      "                                                                                    \r"
     ]
    },
    {
     "name": "stdout",
     "output_type": "stream",
     "text": [
      "Val Loss: 2.0802 Val Acc: 0.7108\n",
      "Validation loss did not improve for 4 epoch(s). Current best: 1.1122\n",
      "\n",
      "Epoch 63/10000\n",
      "----------\n"
     ]
    },
    {
     "name": "stderr",
     "output_type": "stream",
     "text": [
      "                                                                                             \r"
     ]
    },
    {
     "name": "stdout",
     "output_type": "stream",
     "text": [
      "Train Loss: 0.9282 Acc: 0.7732\n"
     ]
    },
    {
     "name": "stderr",
     "output_type": "stream",
     "text": [
      "                                                                                             \r"
     ]
    },
    {
     "name": "stdout",
     "output_type": "stream",
     "text": [
      "Val Loss: 1.1543 Val Acc: 0.7169\n",
      "Validation loss did not improve for 5 epoch(s). Current best: 1.1122\n",
      "\n",
      "Epoch 64/10000\n",
      "----------\n"
     ]
    },
    {
     "name": "stderr",
     "output_type": "stream",
     "text": [
      "                                                                                             \r"
     ]
    },
    {
     "name": "stdout",
     "output_type": "stream",
     "text": [
      "Train Loss: 0.9197 Acc: 0.7887\n"
     ]
    },
    {
     "name": "stderr",
     "output_type": "stream",
     "text": [
      "                                                                                             \r"
     ]
    },
    {
     "name": "stdout",
     "output_type": "stream",
     "text": [
      "Val Loss: 1.7226 Val Acc: 0.7259\n",
      "Validation loss did not improve for 6 epoch(s). Current best: 1.1122\n",
      "\n",
      "Epoch 65/10000\n",
      "----------\n"
     ]
    },
    {
     "name": "stderr",
     "output_type": "stream",
     "text": [
      "                                                                                             \r"
     ]
    },
    {
     "name": "stdout",
     "output_type": "stream",
     "text": [
      "Train Loss: 0.9144 Acc: 0.7826\n"
     ]
    },
    {
     "name": "stderr",
     "output_type": "stream",
     "text": [
      "                                                                                            \r"
     ]
    },
    {
     "name": "stdout",
     "output_type": "stream",
     "text": [
      "Val Loss: 2.2901 Val Acc: 0.6777\n",
      "Validation loss did not improve for 7 epoch(s). Current best: 1.1122\n",
      "\n",
      "Epoch 66/10000\n",
      "----------\n"
     ]
    },
    {
     "name": "stderr",
     "output_type": "stream",
     "text": [
      "                                                                                             \r"
     ]
    },
    {
     "name": "stdout",
     "output_type": "stream",
     "text": [
      "Train Loss: 0.9142 Acc: 0.7878\n"
     ]
    },
    {
     "name": "stderr",
     "output_type": "stream",
     "text": [
      "                                                                                     \r"
     ]
    },
    {
     "name": "stdout",
     "output_type": "stream",
     "text": [
      "Val Loss: 2.8201 Val Acc: 0.7440\n",
      "Validation loss did not improve for 8 epoch(s). Current best: 1.1122\n",
      "\n",
      "Epoch 67/10000\n",
      "----------\n"
     ]
    },
    {
     "name": "stderr",
     "output_type": "stream",
     "text": [
      "                                                                                             \r"
     ]
    },
    {
     "name": "stdout",
     "output_type": "stream",
     "text": [
      "Train Loss: 0.8962 Acc: 0.8033\n"
     ]
    },
    {
     "name": "stderr",
     "output_type": "stream",
     "text": [
      "                                                                                             \r"
     ]
    },
    {
     "name": "stdout",
     "output_type": "stream",
     "text": [
      "Val Loss: 3.5877 Val Acc: 0.7259\n",
      "Validation loss did not improve for 9 epoch(s). Current best: 1.1122\n",
      "\n",
      "Epoch 68/10000\n",
      "----------\n"
     ]
    },
    {
     "name": "stderr",
     "output_type": "stream",
     "text": [
      "                                                                                             \r"
     ]
    },
    {
     "name": "stdout",
     "output_type": "stream",
     "text": [
      "Train Loss: 0.9074 Acc: 0.7852\n"
     ]
    },
    {
     "name": "stderr",
     "output_type": "stream",
     "text": [
      "                                                                                     \r"
     ]
    },
    {
     "name": "stdout",
     "output_type": "stream",
     "text": [
      "Val Loss: 2.5121 Val Acc: 0.7139\n",
      "Validation loss did not improve for 10 epoch(s). Current best: 1.1122\n",
      "\n",
      "Epoch 69/10000\n",
      "----------\n"
     ]
    },
    {
     "name": "stderr",
     "output_type": "stream",
     "text": [
      "                                                                                             \r"
     ]
    },
    {
     "name": "stdout",
     "output_type": "stream",
     "text": [
      "Train Loss: 0.8916 Acc: 0.8101\n"
     ]
    },
    {
     "name": "stderr",
     "output_type": "stream",
     "text": [
      "                                                                                     \r"
     ]
    },
    {
     "name": "stdout",
     "output_type": "stream",
     "text": [
      "Val Loss: 3.5007 Val Acc: 0.7410\n",
      "Validation loss did not improve for 11 epoch(s). Current best: 1.1122\n",
      "\n",
      "Epoch 70/10000\n",
      "----------\n"
     ]
    },
    {
     "name": "stderr",
     "output_type": "stream",
     "text": [
      "                                                                                             \r"
     ]
    },
    {
     "name": "stdout",
     "output_type": "stream",
     "text": [
      "Train Loss: 0.8897 Acc: 0.8213\n"
     ]
    },
    {
     "name": "stderr",
     "output_type": "stream",
     "text": [
      "                                                                                    \r"
     ]
    },
    {
     "name": "stdout",
     "output_type": "stream",
     "text": [
      "Val Loss: 1.9260 Val Acc: 0.7410\n",
      "Validation loss did not improve for 12 epoch(s). Current best: 1.1122\n",
      "\n",
      "Epoch 71/10000\n",
      "----------\n"
     ]
    },
    {
     "name": "stderr",
     "output_type": "stream",
     "text": [
      "                                                                                             \r"
     ]
    },
    {
     "name": "stdout",
     "output_type": "stream",
     "text": [
      "Train Loss: 0.8858 Acc: 0.7998\n"
     ]
    },
    {
     "name": "stderr",
     "output_type": "stream",
     "text": [
      "                                                                                    \r"
     ]
    },
    {
     "name": "stdout",
     "output_type": "stream",
     "text": [
      "Val Loss: 1.1106 Val Acc: 0.7590\n",
      "Validation loss decreased (1.1122 --> 1.1106). Saving model...\n",
      "\n",
      "Epoch 72/10000\n",
      "----------\n"
     ]
    },
    {
     "name": "stderr",
     "output_type": "stream",
     "text": [
      "                                                                                             \r"
     ]
    },
    {
     "name": "stdout",
     "output_type": "stream",
     "text": [
      "Train Loss: 0.8755 Acc: 0.8187\n"
     ]
    },
    {
     "name": "stderr",
     "output_type": "stream",
     "text": [
      "                                                                                            \r"
     ]
    },
    {
     "name": "stdout",
     "output_type": "stream",
     "text": [
      "Val Loss: 1.6549 Val Acc: 0.7229\n",
      "Validation loss did not improve for 1 epoch(s). Current best: 1.1106\n",
      "\n",
      "Epoch 73/10000\n",
      "----------\n"
     ]
    },
    {
     "name": "stderr",
     "output_type": "stream",
     "text": [
      "                                                                                             \r"
     ]
    },
    {
     "name": "stdout",
     "output_type": "stream",
     "text": [
      "Train Loss: 0.8703 Acc: 0.8136\n"
     ]
    },
    {
     "name": "stderr",
     "output_type": "stream",
     "text": [
      "                                                                                     \r"
     ]
    },
    {
     "name": "stdout",
     "output_type": "stream",
     "text": [
      "Val Loss: 3.2179 Val Acc: 0.7560\n",
      "Validation loss did not improve for 2 epoch(s). Current best: 1.1106\n",
      "\n",
      "Epoch 74/10000\n",
      "----------\n"
     ]
    },
    {
     "name": "stderr",
     "output_type": "stream",
     "text": [
      "                                                                                             \r"
     ]
    },
    {
     "name": "stdout",
     "output_type": "stream",
     "text": [
      "Train Loss: 0.9099 Acc: 0.8119\n"
     ]
    },
    {
     "name": "stderr",
     "output_type": "stream",
     "text": [
      "                                                                                     \r"
     ]
    },
    {
     "name": "stdout",
     "output_type": "stream",
     "text": [
      "Val Loss: 4.6344 Val Acc: 0.6596\n",
      "Validation loss did not improve for 3 epoch(s). Current best: 1.1106\n",
      "\n",
      "Epoch 75/10000\n",
      "----------\n"
     ]
    },
    {
     "name": "stderr",
     "output_type": "stream",
     "text": [
      "                                                                                             \r"
     ]
    },
    {
     "name": "stdout",
     "output_type": "stream",
     "text": [
      "Train Loss: 0.8812 Acc: 0.8093\n"
     ]
    },
    {
     "name": "stderr",
     "output_type": "stream",
     "text": [
      "                                                                                     \r"
     ]
    },
    {
     "name": "stdout",
     "output_type": "stream",
     "text": [
      "Val Loss: 2.3919 Val Acc: 0.7500\n",
      "Validation loss did not improve for 4 epoch(s). Current best: 1.1106\n",
      "\n",
      "Epoch 76/10000\n",
      "----------\n"
     ]
    },
    {
     "name": "stderr",
     "output_type": "stream",
     "text": [
      "                                                                                             \r"
     ]
    },
    {
     "name": "stdout",
     "output_type": "stream",
     "text": [
      "Train Loss: 0.8790 Acc: 0.8204\n"
     ]
    },
    {
     "name": "stderr",
     "output_type": "stream",
     "text": [
      "                                                                                    \r"
     ]
    },
    {
     "name": "stdout",
     "output_type": "stream",
     "text": [
      "Val Loss: 1.2844 Val Acc: 0.7620\n",
      "Validation loss did not improve for 5 epoch(s). Current best: 1.1106\n",
      "\n",
      "Epoch 77/10000\n",
      "----------\n"
     ]
    },
    {
     "name": "stderr",
     "output_type": "stream",
     "text": [
      "                                                                                             \r"
     ]
    },
    {
     "name": "stdout",
     "output_type": "stream",
     "text": [
      "Train Loss: 0.8629 Acc: 0.8230\n"
     ]
    },
    {
     "name": "stderr",
     "output_type": "stream",
     "text": [
      "                                                                                             \r"
     ]
    },
    {
     "name": "stdout",
     "output_type": "stream",
     "text": [
      "Val Loss: 2.7725 Val Acc: 0.7259\n",
      "Validation loss did not improve for 6 epoch(s). Current best: 1.1106\n",
      "\n",
      "Epoch 78/10000\n",
      "----------\n"
     ]
    },
    {
     "name": "stderr",
     "output_type": "stream",
     "text": [
      "                                                                                             \r"
     ]
    },
    {
     "name": "stdout",
     "output_type": "stream",
     "text": [
      "Train Loss: 0.8866 Acc: 0.7973\n"
     ]
    },
    {
     "name": "stderr",
     "output_type": "stream",
     "text": [
      "                                                                                     \r"
     ]
    },
    {
     "name": "stdout",
     "output_type": "stream",
     "text": [
      "Val Loss: 5.2414 Val Acc: 0.6867\n",
      "Validation loss did not improve for 7 epoch(s). Current best: 1.1106\n",
      "\n",
      "Epoch 79/10000\n",
      "----------\n"
     ]
    },
    {
     "name": "stderr",
     "output_type": "stream",
     "text": [
      "                                                                                             \r"
     ]
    },
    {
     "name": "stdout",
     "output_type": "stream",
     "text": [
      "Train Loss: 0.8746 Acc: 0.8230\n"
     ]
    },
    {
     "name": "stderr",
     "output_type": "stream",
     "text": [
      "                                                                                     \r"
     ]
    },
    {
     "name": "stdout",
     "output_type": "stream",
     "text": [
      "Val Loss: 3.5101 Val Acc: 0.7199\n",
      "Validation loss did not improve for 8 epoch(s). Current best: 1.1106\n",
      "\n",
      "Epoch 80/10000\n",
      "----------\n"
     ]
    },
    {
     "name": "stderr",
     "output_type": "stream",
     "text": [
      "                                                                                             \r"
     ]
    },
    {
     "name": "stdout",
     "output_type": "stream",
     "text": [
      "Train Loss: 0.8507 Acc: 0.8351\n"
     ]
    },
    {
     "name": "stderr",
     "output_type": "stream",
     "text": [
      "                                                                                     \r"
     ]
    },
    {
     "name": "stdout",
     "output_type": "stream",
     "text": [
      "Val Loss: 4.8918 Val Acc: 0.6898\n",
      "Validation loss did not improve for 9 epoch(s). Current best: 1.1106\n",
      "\n",
      "Epoch 81/10000\n",
      "----------\n"
     ]
    },
    {
     "name": "stderr",
     "output_type": "stream",
     "text": [
      "                                                                                             \r"
     ]
    },
    {
     "name": "stdout",
     "output_type": "stream",
     "text": [
      "Train Loss: 0.8598 Acc: 0.8239\n"
     ]
    },
    {
     "name": "stderr",
     "output_type": "stream",
     "text": [
      "                                                                                    \r"
     ]
    },
    {
     "name": "stdout",
     "output_type": "stream",
     "text": [
      "Val Loss: 1.0948 Val Acc: 0.8012\n",
      "Validation loss decreased (1.1106 --> 1.0948). Saving model...\n",
      "\n",
      "Epoch 82/10000\n",
      "----------\n"
     ]
    },
    {
     "name": "stderr",
     "output_type": "stream",
     "text": [
      "                                                                                             \r"
     ]
    },
    {
     "name": "stdout",
     "output_type": "stream",
     "text": [
      "Train Loss: 0.8660 Acc: 0.8265\n"
     ]
    },
    {
     "name": "stderr",
     "output_type": "stream",
     "text": [
      "                                                                                             \r"
     ]
    },
    {
     "name": "stdout",
     "output_type": "stream",
     "text": [
      "Val Loss: 1.6176 Val Acc: 0.7470\n",
      "Validation loss did not improve for 1 epoch(s). Current best: 1.0948\n",
      "\n",
      "Epoch 83/10000\n",
      "----------\n"
     ]
    },
    {
     "name": "stderr",
     "output_type": "stream",
     "text": [
      "                                                                                             \r"
     ]
    },
    {
     "name": "stdout",
     "output_type": "stream",
     "text": [
      "Train Loss: 0.8622 Acc: 0.8273\n"
     ]
    },
    {
     "name": "stderr",
     "output_type": "stream",
     "text": [
      "                                                                                     \r"
     ]
    },
    {
     "name": "stdout",
     "output_type": "stream",
     "text": [
      "Val Loss: 3.7160 Val Acc: 0.6717\n",
      "Validation loss did not improve for 2 epoch(s). Current best: 1.0948\n",
      "\n",
      "Epoch 84/10000\n",
      "----------\n"
     ]
    },
    {
     "name": "stderr",
     "output_type": "stream",
     "text": [
      "                                                                                             \r"
     ]
    },
    {
     "name": "stdout",
     "output_type": "stream",
     "text": [
      "Train Loss: 0.8863 Acc: 0.8170\n"
     ]
    },
    {
     "name": "stderr",
     "output_type": "stream",
     "text": [
      "                                                                                    \r"
     ]
    },
    {
     "name": "stdout",
     "output_type": "stream",
     "text": [
      "Val Loss: 1.5871 Val Acc: 0.7319\n",
      "Validation loss did not improve for 3 epoch(s). Current best: 1.0948\n",
      "\n",
      "Epoch 85/10000\n",
      "----------\n"
     ]
    },
    {
     "name": "stderr",
     "output_type": "stream",
     "text": [
      "                                                                                             \r"
     ]
    },
    {
     "name": "stdout",
     "output_type": "stream",
     "text": [
      "Train Loss: 0.8477 Acc: 0.8308\n"
     ]
    },
    {
     "name": "stderr",
     "output_type": "stream",
     "text": [
      "                                                                                    \r"
     ]
    },
    {
     "name": "stdout",
     "output_type": "stream",
     "text": [
      "Val Loss: 1.3749 Val Acc: 0.7500\n",
      "Validation loss did not improve for 4 epoch(s). Current best: 1.0948\n",
      "\n",
      "Epoch 86/10000\n",
      "----------\n"
     ]
    },
    {
     "name": "stderr",
     "output_type": "stream",
     "text": [
      "                                                                                             \r"
     ]
    },
    {
     "name": "stdout",
     "output_type": "stream",
     "text": [
      "Train Loss: 0.8575 Acc: 0.8282\n"
     ]
    },
    {
     "name": "stderr",
     "output_type": "stream",
     "text": [
      "                                                                                     \r"
     ]
    },
    {
     "name": "stdout",
     "output_type": "stream",
     "text": [
      "Val Loss: 2.8628 Val Acc: 0.7199\n",
      "Validation loss did not improve for 5 epoch(s). Current best: 1.0948\n",
      "\n",
      "Epoch 87/10000\n",
      "----------\n"
     ]
    },
    {
     "name": "stderr",
     "output_type": "stream",
     "text": [
      "                                                                                             \r"
     ]
    },
    {
     "name": "stdout",
     "output_type": "stream",
     "text": [
      "Train Loss: 0.8497 Acc: 0.8351\n"
     ]
    },
    {
     "name": "stderr",
     "output_type": "stream",
     "text": [
      "                                                                                            \r"
     ]
    },
    {
     "name": "stdout",
     "output_type": "stream",
     "text": [
      "Val Loss: 0.9530 Val Acc: 0.8253\n",
      "Validation loss decreased (1.0948 --> 0.9530). Saving model...\n",
      "\n",
      "Epoch 88/10000\n",
      "----------\n"
     ]
    },
    {
     "name": "stderr",
     "output_type": "stream",
     "text": [
      "                                                                                             \r"
     ]
    },
    {
     "name": "stdout",
     "output_type": "stream",
     "text": [
      "Train Loss: 0.8508 Acc: 0.8436\n"
     ]
    },
    {
     "name": "stderr",
     "output_type": "stream",
     "text": [
      "                                                                                    \r"
     ]
    },
    {
     "name": "stdout",
     "output_type": "stream",
     "text": [
      "Val Loss: 1.0561 Val Acc: 0.8313\n",
      "Validation loss did not improve for 1 epoch(s). Current best: 0.9530\n",
      "\n",
      "Epoch 89/10000\n",
      "----------\n"
     ]
    },
    {
     "name": "stderr",
     "output_type": "stream",
     "text": [
      "                                                                                             \r"
     ]
    },
    {
     "name": "stdout",
     "output_type": "stream",
     "text": [
      "Train Loss: 0.8485 Acc: 0.8333\n"
     ]
    },
    {
     "name": "stderr",
     "output_type": "stream",
     "text": [
      "                                                                                    \r"
     ]
    },
    {
     "name": "stdout",
     "output_type": "stream",
     "text": [
      "Val Loss: 0.9814 Val Acc: 0.8133\n",
      "Validation loss did not improve for 2 epoch(s). Current best: 0.9530\n",
      "\n",
      "Epoch 90/10000\n",
      "----------\n"
     ]
    },
    {
     "name": "stderr",
     "output_type": "stream",
     "text": [
      "                                                                                             \r"
     ]
    },
    {
     "name": "stdout",
     "output_type": "stream",
     "text": [
      "Train Loss: 0.8457 Acc: 0.8454\n"
     ]
    },
    {
     "name": "stderr",
     "output_type": "stream",
     "text": [
      "                                                                                    \r"
     ]
    },
    {
     "name": "stdout",
     "output_type": "stream",
     "text": [
      "Val Loss: 1.2682 Val Acc: 0.7982\n",
      "Validation loss did not improve for 3 epoch(s). Current best: 0.9530\n",
      "\n",
      "Epoch 91/10000\n",
      "----------\n"
     ]
    },
    {
     "name": "stderr",
     "output_type": "stream",
     "text": [
      "                                                                                             \r"
     ]
    },
    {
     "name": "stdout",
     "output_type": "stream",
     "text": [
      "Train Loss: 0.8380 Acc: 0.8436\n"
     ]
    },
    {
     "name": "stderr",
     "output_type": "stream",
     "text": [
      "                                                                                    \r"
     ]
    },
    {
     "name": "stdout",
     "output_type": "stream",
     "text": [
      "Val Loss: 2.4731 Val Acc: 0.7259\n",
      "Validation loss did not improve for 4 epoch(s). Current best: 0.9530\n",
      "\n",
      "Epoch 92/10000\n",
      "----------\n"
     ]
    },
    {
     "name": "stderr",
     "output_type": "stream",
     "text": [
      "                                                                                             \r"
     ]
    },
    {
     "name": "stdout",
     "output_type": "stream",
     "text": [
      "Train Loss: 0.8366 Acc: 0.8471\n"
     ]
    },
    {
     "name": "stderr",
     "output_type": "stream",
     "text": [
      "                                                                                     \r"
     ]
    },
    {
     "name": "stdout",
     "output_type": "stream",
     "text": [
      "Val Loss: 3.1449 Val Acc: 0.7470\n",
      "Validation loss did not improve for 5 epoch(s). Current best: 0.9530\n",
      "\n",
      "Epoch 93/10000\n",
      "----------\n"
     ]
    },
    {
     "name": "stderr",
     "output_type": "stream",
     "text": [
      "                                                                                             \r"
     ]
    },
    {
     "name": "stdout",
     "output_type": "stream",
     "text": [
      "Train Loss: 0.8525 Acc: 0.8308\n"
     ]
    },
    {
     "name": "stderr",
     "output_type": "stream",
     "text": [
      "                                                                                    \r"
     ]
    },
    {
     "name": "stdout",
     "output_type": "stream",
     "text": [
      "Val Loss: 1.0876 Val Acc: 0.7530\n",
      "Validation loss did not improve for 6 epoch(s). Current best: 0.9530\n",
      "\n",
      "Epoch 94/10000\n",
      "----------\n"
     ]
    },
    {
     "name": "stderr",
     "output_type": "stream",
     "text": [
      "                                                                                             \r"
     ]
    },
    {
     "name": "stdout",
     "output_type": "stream",
     "text": [
      "Train Loss: 0.8516 Acc: 0.8290\n"
     ]
    },
    {
     "name": "stderr",
     "output_type": "stream",
     "text": [
      "                                                                                             \r"
     ]
    },
    {
     "name": "stdout",
     "output_type": "stream",
     "text": [
      "Val Loss: 2.3219 Val Acc: 0.7560\n",
      "Validation loss did not improve for 7 epoch(s). Current best: 0.9530\n",
      "\n",
      "Epoch 95/10000\n",
      "----------\n"
     ]
    },
    {
     "name": "stderr",
     "output_type": "stream",
     "text": [
      "                                                                                             \r"
     ]
    },
    {
     "name": "stdout",
     "output_type": "stream",
     "text": [
      "Train Loss: 0.8452 Acc: 0.8436\n"
     ]
    },
    {
     "name": "stderr",
     "output_type": "stream",
     "text": [
      "                                                                                     \r"
     ]
    },
    {
     "name": "stdout",
     "output_type": "stream",
     "text": [
      "Val Loss: 3.2571 Val Acc: 0.7380\n",
      "Validation loss did not improve for 8 epoch(s). Current best: 0.9530\n",
      "\n",
      "Epoch 96/10000\n",
      "----------\n"
     ]
    },
    {
     "name": "stderr",
     "output_type": "stream",
     "text": [
      "                                                                                             \r"
     ]
    },
    {
     "name": "stdout",
     "output_type": "stream",
     "text": [
      "Train Loss: 0.8231 Acc: 0.8540\n"
     ]
    },
    {
     "name": "stderr",
     "output_type": "stream",
     "text": [
      "                                                                                            \r"
     ]
    },
    {
     "name": "stdout",
     "output_type": "stream",
     "text": [
      "Val Loss: 0.9535 Val Acc: 0.7982\n",
      "Validation loss did not improve for 9 epoch(s). Current best: 0.9530\n",
      "\n",
      "Epoch 97/10000\n",
      "----------\n"
     ]
    },
    {
     "name": "stderr",
     "output_type": "stream",
     "text": [
      "                                                                                             \r"
     ]
    },
    {
     "name": "stdout",
     "output_type": "stream",
     "text": [
      "Train Loss: 0.8401 Acc: 0.8531\n"
     ]
    },
    {
     "name": "stderr",
     "output_type": "stream",
     "text": [
      "                                                                                     \r"
     ]
    },
    {
     "name": "stdout",
     "output_type": "stream",
     "text": [
      "Val Loss: 6.4211 Val Acc: 0.6777\n",
      "Validation loss did not improve for 10 epoch(s). Current best: 0.9530\n",
      "\n",
      "Epoch 98/10000\n",
      "----------\n"
     ]
    },
    {
     "name": "stderr",
     "output_type": "stream",
     "text": [
      "                                                                                             \r"
     ]
    },
    {
     "name": "stdout",
     "output_type": "stream",
     "text": [
      "Train Loss: 0.8165 Acc: 0.8565\n"
     ]
    },
    {
     "name": "stderr",
     "output_type": "stream",
     "text": [
      "                                                                                             \r"
     ]
    },
    {
     "name": "stdout",
     "output_type": "stream",
     "text": [
      "Val Loss: 2.8907 Val Acc: 0.7470\n",
      "Validation loss did not improve for 11 epoch(s). Current best: 0.9530\n",
      "\n",
      "Epoch 99/10000\n",
      "----------\n"
     ]
    },
    {
     "name": "stderr",
     "output_type": "stream",
     "text": [
      "                                                                                             \r"
     ]
    },
    {
     "name": "stdout",
     "output_type": "stream",
     "text": [
      "Train Loss: 0.8302 Acc: 0.8514\n"
     ]
    },
    {
     "name": "stderr",
     "output_type": "stream",
     "text": [
      "                                                                                    \r"
     ]
    },
    {
     "name": "stdout",
     "output_type": "stream",
     "text": [
      "Val Loss: 1.1098 Val Acc: 0.7651\n",
      "Validation loss did not improve for 12 epoch(s). Current best: 0.9530\n",
      "\n",
      "Epoch 100/10000\n",
      "----------\n"
     ]
    },
    {
     "name": "stderr",
     "output_type": "stream",
     "text": [
      "                                                                                              \r"
     ]
    },
    {
     "name": "stdout",
     "output_type": "stream",
     "text": [
      "Train Loss: 0.8272 Acc: 0.8505\n"
     ]
    },
    {
     "name": "stderr",
     "output_type": "stream",
     "text": [
      "                                                                                     \r"
     ]
    },
    {
     "name": "stdout",
     "output_type": "stream",
     "text": [
      "Val Loss: 2.2787 Val Acc: 0.7319\n",
      "Validation loss did not improve for 13 epoch(s). Current best: 0.9530\n",
      "\n",
      "Epoch 101/10000\n",
      "----------\n"
     ]
    },
    {
     "name": "stderr",
     "output_type": "stream",
     "text": [
      "                                                                                              \r"
     ]
    },
    {
     "name": "stdout",
     "output_type": "stream",
     "text": [
      "Train Loss: 0.8158 Acc: 0.8582\n"
     ]
    },
    {
     "name": "stderr",
     "output_type": "stream",
     "text": [
      "                                                                                     \r"
     ]
    },
    {
     "name": "stdout",
     "output_type": "stream",
     "text": [
      "Val Loss: 1.6741 Val Acc: 0.7560\n",
      "Validation loss did not improve for 14 epoch(s). Current best: 0.9530\n",
      "\n",
      "Epoch 102/10000\n",
      "----------\n"
     ]
    },
    {
     "name": "stderr",
     "output_type": "stream",
     "text": [
      "                                                                                              \r"
     ]
    },
    {
     "name": "stdout",
     "output_type": "stream",
     "text": [
      "Train Loss: 0.8219 Acc: 0.8582\n"
     ]
    },
    {
     "name": "stderr",
     "output_type": "stream",
     "text": [
      "                                                                                      \r"
     ]
    },
    {
     "name": "stdout",
     "output_type": "stream",
     "text": [
      "Val Loss: 3.3873 Val Acc: 0.6958\n",
      "Validation loss did not improve for 15 epoch(s). Current best: 0.9530\n",
      "\n",
      "Epoch 103/10000\n",
      "----------\n"
     ]
    },
    {
     "name": "stderr",
     "output_type": "stream",
     "text": [
      "                                                                                              \r"
     ]
    },
    {
     "name": "stdout",
     "output_type": "stream",
     "text": [
      "Train Loss: 0.8266 Acc: 0.8462\n"
     ]
    },
    {
     "name": "stderr",
     "output_type": "stream",
     "text": [
      "                                                                                              \r"
     ]
    },
    {
     "name": "stdout",
     "output_type": "stream",
     "text": [
      "Val Loss: 1.8040 Val Acc: 0.7620\n",
      "Validation loss did not improve for 16 epoch(s). Current best: 0.9530\n",
      "\n",
      "Epoch 104/10000\n",
      "----------\n"
     ]
    },
    {
     "name": "stderr",
     "output_type": "stream",
     "text": [
      "                                                                                              \r"
     ]
    },
    {
     "name": "stdout",
     "output_type": "stream",
     "text": [
      "Train Loss: 0.8177 Acc: 0.8574\n"
     ]
    },
    {
     "name": "stderr",
     "output_type": "stream",
     "text": [
      "                                                                                     \r"
     ]
    },
    {
     "name": "stdout",
     "output_type": "stream",
     "text": [
      "Val Loss: 1.5010 Val Acc: 0.7741\n",
      "Validation loss did not improve for 17 epoch(s). Current best: 0.9530\n",
      "\n",
      "Epoch 105/10000\n",
      "----------\n"
     ]
    },
    {
     "name": "stderr",
     "output_type": "stream",
     "text": [
      "                                                                                              \r"
     ]
    },
    {
     "name": "stdout",
     "output_type": "stream",
     "text": [
      "Train Loss: 0.8296 Acc: 0.8428\n"
     ]
    },
    {
     "name": "stderr",
     "output_type": "stream",
     "text": [
      "                                                                                              \r"
     ]
    },
    {
     "name": "stdout",
     "output_type": "stream",
     "text": [
      "Val Loss: 2.9360 Val Acc: 0.7169\n",
      "Validation loss did not improve for 18 epoch(s). Current best: 0.9530\n",
      "\n",
      "Epoch 106/10000\n",
      "----------\n"
     ]
    },
    {
     "name": "stderr",
     "output_type": "stream",
     "text": [
      "                                                                                              \r"
     ]
    },
    {
     "name": "stdout",
     "output_type": "stream",
     "text": [
      "Train Loss: 0.8172 Acc: 0.8600\n"
     ]
    },
    {
     "name": "stderr",
     "output_type": "stream",
     "text": [
      "                                                                                     \r"
     ]
    },
    {
     "name": "stdout",
     "output_type": "stream",
     "text": [
      "Val Loss: 2.3378 Val Acc: 0.7259\n",
      "Validation loss did not improve for 19 epoch(s). Current best: 0.9530\n",
      "\n",
      "Epoch 107/10000\n",
      "----------\n"
     ]
    },
    {
     "name": "stderr",
     "output_type": "stream",
     "text": [
      "                                                                                              \r"
     ]
    },
    {
     "name": "stdout",
     "output_type": "stream",
     "text": [
      "Train Loss: 0.8244 Acc: 0.8540\n"
     ]
    },
    {
     "name": "stderr",
     "output_type": "stream",
     "text": [
      "                                                                                     \r"
     ]
    },
    {
     "name": "stdout",
     "output_type": "stream",
     "text": [
      "Val Loss: 1.7876 Val Acc: 0.7048\n",
      "Validation loss did not improve for 20 epoch(s). Current best: 0.9530\n",
      "Early stopping triggered after 107 epochs!\n",
      "\n",
      "Training complete in 156m 34s\n",
      "Best val Loss: 0.9530, corresponding Val Acc: 0.8253\n",
      "Loading best model weights from runs\\best_model.pth\n"
     ]
    },
    {
     "data": {
      "image/png": "[encoded data removed]",
      "text/plain": [
       "<Figure size 1000x600 with 1 Axes>"
      ]
     },
     "metadata": {},
     "output_type": "display_data"
    }
   ],
   "source": [
    "%run train.py --task A --model_name Attention --epochs 10000 --learning_rate 5e-5 --optimizer adamw --weight_decay 5e-4 --loss_function label_smoothing --label_smoothing_epsilon 0.15 --augmentation_level strong --patience 20 --area_attn_heads 16 --area_attn_split_factor 8 --batch_size 8 --accumulation_steps 2 --num_relan_blocks 2 2 4 2 "
   ]
  },
  {
   "cell_type": "code",
   "execution_count": null,
   "id": "2da43cd6",
   "metadata": {},
   "outputs": [
    {
     "name": "stdout",
     "output_type": "stream",
     "text": [
      "PyTorch version: 2.6.0+cu126\n",
      "CUDA available: True\n",
      "CUDA version: 12.6\n",
      "Device name: NVIDIA GeForce RTX 3060 Ti\n",
      "Looking for data in: c:\\Users\\Wangzy\\Desktop\\9444\\data\n",
      "Creating data loaders with batch size: 8, augmentation: strong, workers: 4\n",
      "Using device: cuda:0\n",
      "Number of classes: 4\n",
      " Stage 0: Using attention pattern: ('area', 'area', 'area')\n",
      " Stage 1: Using attention pattern: ('area', 'area', 'area')\n",
      " Stage 2: Using attention pattern: ('area', 'area', 'area')\n",
      " Stage 3: Using attention pattern: ('area', 'area', 'area')\n"
     ]
    },
    {
     "name": "stderr",
     "output_type": "stream",
     "text": [
      "c:\\Users\\Wangzy\\Desktop\\9444\\.venv\\Lib\\site-packages\\albumentations\\core\\validation.py:87: UserWarning: ShiftScaleRotate is a special case of Affine transform. Please use Affine transform instead.\n",
      "  original_init(self, **validated_kwargs)\n"
     ]
    },
    {
     "name": "stdout",
     "output_type": "stream",
     "text": [
      "\n",
      "----- Training Configuration -----\n",
      "Model: Attention\n",
      "Number of classes: 4\n",
      "Batch size: 8\n",
      "Max number of epochs: 10000\n",
      "Early Stopping Patience: 20\n",
      "Learning rate: 5e-05\n",
      "Optimizer: adamw\n",
      "  Weight Decay: 0.0005\n",
      "Loss function: label_smoothing\n",
      "  Label Smoothing Epsilon: 0.15\n",
      "Data Augmentation: strong\n",
      "Num Workers: 4\n",
      "Device: cuda:0\n",
      "----------------------------------\n",
      "----- Start Training -----\n",
      "Early stopping patience set to: 20 epochs\n",
      "Gradient Accumulation enabled. Accumulating over 2 steps.\n",
      "Actual Batch Size: 8, Effective Batch Size: 16\n",
      "\n",
      "Epoch 1/10000\n",
      "----------\n"
     ]
    },
    {
     "name": "stderr",
     "output_type": "stream",
     "text": [
      "                                                                                            \r"
     ]
    },
    {
     "name": "stdout",
     "output_type": "stream",
     "text": [
      "Train Loss: 1.3818 Acc: 0.3325\n"
     ]
    },
    {
     "name": "stderr",
     "output_type": "stream",
     "text": [
      "                                                                                            \r"
     ]
    },
    {
     "name": "stdout",
     "output_type": "stream",
     "text": [
      "Val Loss: 2.0490 Val Acc: 0.3976\n",
      "Validation loss decreased (inf --> 2.0490). Saving model...\n",
      "\n",
      "Epoch 2/10000\n",
      "----------\n"
     ]
    },
    {
     "name": "stderr",
     "output_type": "stream",
     "text": [
      "                                                                                            \r"
     ]
    },
    {
     "name": "stdout",
     "output_type": "stream",
     "text": [
      "Train Loss: 1.3644 Acc: 0.3823\n"
     ]
    },
    {
     "name": "stderr",
     "output_type": "stream",
     "text": [
      "                                                                                             \r"
     ]
    },
    {
     "name": "stdout",
     "output_type": "stream",
     "text": [
      "Val Loss: 3.7351 Val Acc: 0.3464\n",
      "Validation loss did not improve for 1 epoch(s). Current best: 2.0490\n",
      "\n",
      "Epoch 3/10000\n",
      "----------\n"
     ]
    },
    {
     "name": "stderr",
     "output_type": "stream",
     "text": [
      "                                                                                            \r"
     ]
    },
    {
     "name": "stdout",
     "output_type": "stream",
     "text": [
      "Train Loss: 1.3629 Acc: 0.3857\n"
     ]
    },
    {
     "name": "stderr",
     "output_type": "stream",
     "text": [
      "                                                                                            \r"
     ]
    },
    {
     "name": "stdout",
     "output_type": "stream",
     "text": [
      "Val Loss: 2.0668 Val Acc: 0.4096\n",
      "Validation loss did not improve for 2 epoch(s). Current best: 2.0490\n",
      "\n",
      "Epoch 4/10000\n",
      "----------\n"
     ]
    },
    {
     "name": "stderr",
     "output_type": "stream",
     "text": [
      "                                                                                            \r"
     ]
    },
    {
     "name": "stdout",
     "output_type": "stream",
     "text": [
      "Train Loss: 1.3649 Acc: 0.3883\n"
     ]
    },
    {
     "name": "stderr",
     "output_type": "stream",
     "text": [
      "                                                                                            \r"
     ]
    },
    {
     "name": "stdout",
     "output_type": "stream",
     "text": [
      "Val Loss: 1.6581 Val Acc: 0.4096\n",
      "Validation loss decreased (2.0490 --> 1.6581). Saving model...\n",
      "\n",
      "Epoch 5/10000\n",
      "----------\n"
     ]
    },
    {
     "name": "stderr",
     "output_type": "stream",
     "text": [
      "                                                                                            \r"
     ]
    },
    {
     "name": "stdout",
     "output_type": "stream",
     "text": [
      "Train Loss: 1.3614 Acc: 0.3797\n"
     ]
    },
    {
     "name": "stderr",
     "output_type": "stream",
     "text": [
      "                                                                                            \r"
     ]
    },
    {
     "name": "stdout",
     "output_type": "stream",
     "text": [
      "Val Loss: 2.2811 Val Acc: 0.4096\n",
      "Validation loss did not improve for 1 epoch(s). Current best: 1.6581\n",
      "\n",
      "Epoch 6/10000\n",
      "----------\n"
     ]
    },
    {
     "name": "stderr",
     "output_type": "stream",
     "text": [
      "                                                                                            \r"
     ]
    },
    {
     "name": "stdout",
     "output_type": "stream",
     "text": [
      "Train Loss: 1.3609 Acc: 0.3875\n"
     ]
    },
    {
     "name": "stderr",
     "output_type": "stream",
     "text": [
      "                                                                                             \r"
     ]
    },
    {
     "name": "stdout",
     "output_type": "stream",
     "text": [
      "Val Loss: 3.3456 Val Acc: 0.4096\n",
      "Validation loss did not improve for 2 epoch(s). Current best: 1.6581\n",
      "\n",
      "Epoch 7/10000\n",
      "----------\n"
     ]
    },
    {
     "name": "stderr",
     "output_type": "stream",
     "text": [
      "                                                                                            \r"
     ]
    },
    {
     "name": "stdout",
     "output_type": "stream",
     "text": [
      "Train Loss: 1.3655 Acc: 0.3789\n"
     ]
    },
    {
     "name": "stderr",
     "output_type": "stream",
     "text": [
      "                                                                                            \r"
     ]
    },
    {
     "name": "stdout",
     "output_type": "stream",
     "text": [
      "Val Loss: 1.8436 Val Acc: 0.4096\n",
      "Validation loss did not improve for 3 epoch(s). Current best: 1.6581\n",
      "\n",
      "Epoch 8/10000\n",
      "----------\n"
     ]
    },
    {
     "name": "stderr",
     "output_type": "stream",
     "text": [
      "                                                                                            \r"
     ]
    },
    {
     "name": "stdout",
     "output_type": "stream",
     "text": [
      "Train Loss: 1.3560 Acc: 0.3875\n"
     ]
    },
    {
     "name": "stderr",
     "output_type": "stream",
     "text": [
      "                                                                                            \r"
     ]
    },
    {
     "name": "stdout",
     "output_type": "stream",
     "text": [
      "Val Loss: 2.3316 Val Acc: 0.3554\n",
      "Validation loss did not improve for 4 epoch(s). Current best: 1.6581\n",
      "\n",
      "Epoch 9/10000\n",
      "----------\n"
     ]
    },
    {
     "name": "stderr",
     "output_type": "stream",
     "text": [
      "                                                                                            \r"
     ]
    },
    {
     "name": "stdout",
     "output_type": "stream",
     "text": [
      "Train Loss: 1.3558 Acc: 0.3797\n"
     ]
    },
    {
     "name": "stderr",
     "output_type": "stream",
     "text": [
      "                                                                                            \r"
     ]
    },
    {
     "name": "stdout",
     "output_type": "stream",
     "text": [
      "Val Loss: 2.1044 Val Acc: 0.3494\n",
      "Validation loss did not improve for 5 epoch(s). Current best: 1.6581\n",
      "\n",
      "Epoch 10/10000\n",
      "----------\n"
     ]
    },
    {
     "name": "stderr",
     "output_type": "stream",
     "text": [
      "                                                                                             \r"
     ]
    },
    {
     "name": "stdout",
     "output_type": "stream",
     "text": [
      "Train Loss: 1.3626 Acc: 0.3823\n"
     ]
    },
    {
     "name": "stderr",
     "output_type": "stream",
     "text": [
      "                                                                                              \r"
     ]
    },
    {
     "name": "stdout",
     "output_type": "stream",
     "text": [
      "Val Loss: 3.1819 Val Acc: 0.3283\n",
      "Validation loss did not improve for 6 epoch(s). Current best: 1.6581\n",
      "\n",
      "Epoch 11/10000\n",
      "----------\n"
     ]
    },
    {
     "name": "stderr",
     "output_type": "stream",
     "text": [
      "                                                                                             \r"
     ]
    },
    {
     "name": "stdout",
     "output_type": "stream",
     "text": [
      "Train Loss: 1.3637 Acc: 0.3823\n"
     ]
    },
    {
     "name": "stderr",
     "output_type": "stream",
     "text": [
      "                                                                                             \r"
     ]
    },
    {
     "name": "stdout",
     "output_type": "stream",
     "text": [
      "Val Loss: 1.8865 Val Acc: 0.3705\n",
      "Validation loss did not improve for 7 epoch(s). Current best: 1.6581\n",
      "\n",
      "Epoch 12/10000\n",
      "----------\n"
     ]
    },
    {
     "name": "stderr",
     "output_type": "stream",
     "text": [
      "                                                                                             \r"
     ]
    },
    {
     "name": "stdout",
     "output_type": "stream",
     "text": [
      "Train Loss: 1.3547 Acc: 0.3892\n"
     ]
    },
    {
     "name": "stderr",
     "output_type": "stream",
     "text": [
      "                                                                                             \r"
     ]
    },
    {
     "name": "stdout",
     "output_type": "stream",
     "text": [
      "Val Loss: 1.8620 Val Acc: 0.3705\n",
      "Validation loss did not improve for 8 epoch(s). Current best: 1.6581\n",
      "\n",
      "Epoch 13/10000\n",
      "----------\n"
     ]
    },
    {
     "name": "stderr",
     "output_type": "stream",
     "text": [
      "                                                                                             \r"
     ]
    },
    {
     "name": "stdout",
     "output_type": "stream",
     "text": [
      "Train Loss: 1.3546 Acc: 0.3814\n"
     ]
    },
    {
     "name": "stderr",
     "output_type": "stream",
     "text": [
      "                                                                                             \r"
     ]
    },
    {
     "name": "stdout",
     "output_type": "stream",
     "text": [
      "Val Loss: 2.1862 Val Acc: 0.4096\n",
      "Validation loss did not improve for 9 epoch(s). Current best: 1.6581\n",
      "\n",
      "Epoch 14/10000\n",
      "----------\n"
     ]
    },
    {
     "name": "stderr",
     "output_type": "stream",
     "text": [
      "                                                                                             \r"
     ]
    },
    {
     "name": "stdout",
     "output_type": "stream",
     "text": [
      "Train Loss: 1.3609 Acc: 0.3883\n"
     ]
    },
    {
     "name": "stderr",
     "output_type": "stream",
     "text": [
      "                                                                                             \r"
     ]
    },
    {
     "name": "stdout",
     "output_type": "stream",
     "text": [
      "Val Loss: 2.0345 Val Acc: 0.4096\n",
      "Validation loss did not improve for 10 epoch(s). Current best: 1.6581\n",
      "\n",
      "Epoch 15/10000\n",
      "----------\n"
     ]
    },
    {
     "name": "stderr",
     "output_type": "stream",
     "text": [
      "                                                                                             \r"
     ]
    },
    {
     "name": "stdout",
     "output_type": "stream",
     "text": [
      "Train Loss: 1.3540 Acc: 0.3866\n"
     ]
    },
    {
     "name": "stderr",
     "output_type": "stream",
     "text": [
      "                                                                                             \r"
     ]
    },
    {
     "name": "stdout",
     "output_type": "stream",
     "text": [
      "Val Loss: 2.1651 Val Acc: 0.3494\n",
      "Validation loss did not improve for 11 epoch(s). Current best: 1.6581\n",
      "\n",
      "Epoch 16/10000\n",
      "----------\n"
     ]
    },
    {
     "name": "stderr",
     "output_type": "stream",
     "text": [
      "                                                                                             \r"
     ]
    },
    {
     "name": "stdout",
     "output_type": "stream",
     "text": [
      "Train Loss: 1.3477 Acc: 0.3875\n"
     ]
    },
    {
     "name": "stderr",
     "output_type": "stream",
     "text": [
      "                                                                                             \r"
     ]
    },
    {
     "name": "stdout",
     "output_type": "stream",
     "text": [
      "Val Loss: 1.6931 Val Acc: 0.4096\n",
      "Validation loss did not improve for 12 epoch(s). Current best: 1.6581\n",
      "\n",
      "Epoch 17/10000\n",
      "----------\n"
     ]
    },
    {
     "name": "stderr",
     "output_type": "stream",
     "text": [
      "                                                                                             \r"
     ]
    },
    {
     "name": "stdout",
     "output_type": "stream",
     "text": [
      "Train Loss: 1.3561 Acc: 0.3737\n"
     ]
    },
    {
     "name": "stderr",
     "output_type": "stream",
     "text": [
      "                                                                                             \r"
     ]
    },
    {
     "name": "stdout",
     "output_type": "stream",
     "text": [
      "Val Loss: 1.5947 Val Acc: 0.4096\n",
      "Validation loss decreased (1.6581 --> 1.5947). Saving model...\n",
      "\n",
      "Epoch 18/10000\n",
      "----------\n"
     ]
    },
    {
     "name": "stderr",
     "output_type": "stream",
     "text": [
      "                                                                                             \r"
     ]
    },
    {
     "name": "stdout",
     "output_type": "stream",
     "text": [
      "Train Loss: 1.3501 Acc: 0.3823\n"
     ]
    },
    {
     "name": "stderr",
     "output_type": "stream",
     "text": [
      "                                                                                             \r"
     ]
    },
    {
     "name": "stdout",
     "output_type": "stream",
     "text": [
      "Val Loss: 2.9077 Val Acc: 0.4066\n",
      "Validation loss did not improve for 1 epoch(s). Current best: 1.5947\n",
      "\n",
      "Epoch 19/10000\n",
      "----------\n"
     ]
    },
    {
     "name": "stderr",
     "output_type": "stream",
     "text": [
      "                                                                                             \r"
     ]
    },
    {
     "name": "stdout",
     "output_type": "stream",
     "text": [
      "Train Loss: 1.3444 Acc: 0.3806\n"
     ]
    },
    {
     "name": "stderr",
     "output_type": "stream",
     "text": [
      "                                                                                             \r"
     ]
    },
    {
     "name": "stdout",
     "output_type": "stream",
     "text": [
      "Val Loss: 1.3723 Val Acc: 0.4277\n",
      "Validation loss decreased (1.5947 --> 1.3723). Saving model...\n",
      "\n",
      "Epoch 20/10000\n",
      "----------\n"
     ]
    },
    {
     "name": "stderr",
     "output_type": "stream",
     "text": [
      "                                                                                             \r"
     ]
    },
    {
     "name": "stdout",
     "output_type": "stream",
     "text": [
      "Train Loss: 1.3470 Acc: 0.3737\n"
     ]
    },
    {
     "name": "stderr",
     "output_type": "stream",
     "text": [
      "                                                                                             \r"
     ]
    },
    {
     "name": "stdout",
     "output_type": "stream",
     "text": [
      "Val Loss: 2.2009 Val Acc: 0.3735\n",
      "Validation loss did not improve for 1 epoch(s). Current best: 1.3723\n",
      "\n",
      "Epoch 21/10000\n",
      "----------\n"
     ]
    },
    {
     "name": "stderr",
     "output_type": "stream",
     "text": [
      "                                                                                             \r"
     ]
    },
    {
     "name": "stdout",
     "output_type": "stream",
     "text": [
      "Train Loss: 1.3440 Acc: 0.3995\n"
     ]
    },
    {
     "name": "stderr",
     "output_type": "stream",
     "text": [
      "                                                                                             \r"
     ]
    },
    {
     "name": "stdout",
     "output_type": "stream",
     "text": [
      "Val Loss: 2.5259 Val Acc: 0.4337\n",
      "Validation loss did not improve for 2 epoch(s). Current best: 1.3723\n",
      "\n",
      "Epoch 22/10000\n",
      "----------\n"
     ]
    },
    {
     "name": "stderr",
     "output_type": "stream",
     "text": [
      "                                                                                             \r"
     ]
    },
    {
     "name": "stdout",
     "output_type": "stream",
     "text": [
      "Train Loss: 1.3416 Acc: 0.3840\n"
     ]
    },
    {
     "name": "stderr",
     "output_type": "stream",
     "text": [
      "                                                                                             \r"
     ]
    },
    {
     "name": "stdout",
     "output_type": "stream",
     "text": [
      "Val Loss: 1.8405 Val Acc: 0.4307\n",
      "Validation loss did not improve for 3 epoch(s). Current best: 1.3723\n",
      "\n",
      "Epoch 23/10000\n",
      "----------\n"
     ]
    },
    {
     "name": "stderr",
     "output_type": "stream",
     "text": [
      "                                                                                             \r"
     ]
    },
    {
     "name": "stdout",
     "output_type": "stream",
     "text": [
      "Train Loss: 1.3457 Acc: 0.4003\n"
     ]
    },
    {
     "name": "stderr",
     "output_type": "stream",
     "text": [
      "                                                                                             \r"
     ]
    },
    {
     "name": "stdout",
     "output_type": "stream",
     "text": [
      "Val Loss: 1.9379 Val Acc: 0.3735\n",
      "Validation loss did not improve for 4 epoch(s). Current best: 1.3723\n",
      "\n",
      "Epoch 24/10000\n",
      "----------\n"
     ]
    },
    {
     "name": "stderr",
     "output_type": "stream",
     "text": [
      "                                                                                             \r"
     ]
    },
    {
     "name": "stdout",
     "output_type": "stream",
     "text": [
      "Train Loss: 1.3342 Acc: 0.4012\n"
     ]
    },
    {
     "name": "stderr",
     "output_type": "stream",
     "text": [
      "                                                                                             \r"
     ]
    },
    {
     "name": "stdout",
     "output_type": "stream",
     "text": [
      "Val Loss: 1.9719 Val Acc: 0.4157\n",
      "Validation loss did not improve for 5 epoch(s). Current best: 1.3723\n",
      "\n",
      "Epoch 25/10000\n",
      "----------\n"
     ]
    },
    {
     "name": "stderr",
     "output_type": "stream",
     "text": [
      "                                                                                             \r"
     ]
    },
    {
     "name": "stdout",
     "output_type": "stream",
     "text": [
      "Train Loss: 1.3429 Acc: 0.3849\n"
     ]
    },
    {
     "name": "stderr",
     "output_type": "stream",
     "text": [
      "                                                                                             \r"
     ]
    },
    {
     "name": "stdout",
     "output_type": "stream",
     "text": [
      "Val Loss: 2.0582 Val Acc: 0.4367\n",
      "Validation loss did not improve for 6 epoch(s). Current best: 1.3723\n",
      "\n",
      "Epoch 26/10000\n",
      "----------\n"
     ]
    },
    {
     "name": "stderr",
     "output_type": "stream",
     "text": [
      "                                                                                             \r"
     ]
    },
    {
     "name": "stdout",
     "output_type": "stream",
     "text": [
      "Train Loss: 1.3370 Acc: 0.4072\n"
     ]
    },
    {
     "name": "stderr",
     "output_type": "stream",
     "text": [
      "                                                                                              \r"
     ]
    },
    {
     "name": "stdout",
     "output_type": "stream",
     "text": [
      "Val Loss: 3.1883 Val Acc: 0.3946\n",
      "Validation loss did not improve for 7 epoch(s). Current best: 1.3723\n",
      "\n",
      "Epoch 27/10000\n",
      "----------\n"
     ]
    },
    {
     "name": "stderr",
     "output_type": "stream",
     "text": [
      "                                                                                             \r"
     ]
    },
    {
     "name": "stdout",
     "output_type": "stream",
     "text": [
      "Train Loss: 1.3448 Acc: 0.3995\n"
     ]
    },
    {
     "name": "stderr",
     "output_type": "stream",
     "text": [
      "                                                                                             \r"
     ]
    },
    {
     "name": "stdout",
     "output_type": "stream",
     "text": [
      "Val Loss: 2.3436 Val Acc: 0.3976\n",
      "Validation loss did not improve for 8 epoch(s). Current best: 1.3723\n",
      "\n",
      "Epoch 28/10000\n",
      "----------\n"
     ]
    },
    {
     "name": "stderr",
     "output_type": "stream",
     "text": [
      "                                                                                             \r"
     ]
    },
    {
     "name": "stdout",
     "output_type": "stream",
     "text": [
      "Train Loss: 1.3279 Acc: 0.4253\n"
     ]
    },
    {
     "name": "stderr",
     "output_type": "stream",
     "text": [
      "                                                                                             \r"
     ]
    },
    {
     "name": "stdout",
     "output_type": "stream",
     "text": [
      "Val Loss: 2.0587 Val Acc: 0.3946\n",
      "Validation loss did not improve for 9 epoch(s). Current best: 1.3723\n",
      "\n",
      "Epoch 29/10000\n",
      "----------\n"
     ]
    },
    {
     "name": "stderr",
     "output_type": "stream",
     "text": [
      "                                                                                             \r"
     ]
    },
    {
     "name": "stdout",
     "output_type": "stream",
     "text": [
      "Train Loss: 1.3382 Acc: 0.4098\n"
     ]
    },
    {
     "name": "stderr",
     "output_type": "stream",
     "text": [
      "                                                                                              \r"
     ]
    },
    {
     "name": "stdout",
     "output_type": "stream",
     "text": [
      "Val Loss: 2.7975 Val Acc: 0.4578\n",
      "Validation loss did not improve for 10 epoch(s). Current best: 1.3723\n",
      "\n",
      "Epoch 30/10000\n",
      "----------\n"
     ]
    },
    {
     "name": "stderr",
     "output_type": "stream",
     "text": [
      "                                                                                             \r"
     ]
    },
    {
     "name": "stdout",
     "output_type": "stream",
     "text": [
      "Train Loss: 1.3323 Acc: 0.4098\n"
     ]
    },
    {
     "name": "stderr",
     "output_type": "stream",
     "text": [
      "                                                                                             \r"
     ]
    },
    {
     "name": "stdout",
     "output_type": "stream",
     "text": [
      "Val Loss: 2.6988 Val Acc: 0.4578\n",
      "Validation loss did not improve for 11 epoch(s). Current best: 1.3723\n",
      "\n",
      "Epoch 31/10000\n",
      "----------\n"
     ]
    },
    {
     "name": "stderr",
     "output_type": "stream",
     "text": [
      "                                                                                             \r"
     ]
    },
    {
     "name": "stdout",
     "output_type": "stream",
     "text": [
      "Train Loss: 1.3210 Acc: 0.4149\n"
     ]
    },
    {
     "name": "stderr",
     "output_type": "stream",
     "text": [
      "                                                                                             \r"
     ]
    },
    {
     "name": "stdout",
     "output_type": "stream",
     "text": [
      "Val Loss: 1.7500 Val Acc: 0.4187\n",
      "Validation loss did not improve for 12 epoch(s). Current best: 1.3723\n",
      "\n",
      "Epoch 32/10000\n",
      "----------\n"
     ]
    },
    {
     "name": "stderr",
     "output_type": "stream",
     "text": [
      "                                                                                             \r"
     ]
    },
    {
     "name": "stdout",
     "output_type": "stream",
     "text": [
      "Train Loss: 1.3277 Acc: 0.4278\n"
     ]
    },
    {
     "name": "stderr",
     "output_type": "stream",
     "text": [
      "                                                                                             \r"
     ]
    },
    {
     "name": "stdout",
     "output_type": "stream",
     "text": [
      "Val Loss: 2.3049 Val Acc: 0.4608\n",
      "Validation loss did not improve for 13 epoch(s). Current best: 1.3723\n",
      "\n",
      "Epoch 33/10000\n",
      "----------\n"
     ]
    },
    {
     "name": "stderr",
     "output_type": "stream",
     "text": [
      "                                                                                             \r"
     ]
    },
    {
     "name": "stdout",
     "output_type": "stream",
     "text": [
      "Train Loss: 1.3189 Acc: 0.4253\n"
     ]
    },
    {
     "name": "stderr",
     "output_type": "stream",
     "text": [
      "                                                                                             \r"
     ]
    },
    {
     "name": "stdout",
     "output_type": "stream",
     "text": [
      "Val Loss: 1.4714 Val Acc: 0.4578\n",
      "Validation loss did not improve for 14 epoch(s). Current best: 1.3723\n",
      "\n",
      "Epoch 34/10000\n",
      "----------\n"
     ]
    },
    {
     "name": "stderr",
     "output_type": "stream",
     "text": [
      "                                                                                             \r"
     ]
    },
    {
     "name": "stdout",
     "output_type": "stream",
     "text": [
      "Train Loss: 1.3165 Acc: 0.4184\n"
     ]
    },
    {
     "name": "stderr",
     "output_type": "stream",
     "text": [
      "                                                                                             \r"
     ]
    },
    {
     "name": "stdout",
     "output_type": "stream",
     "text": [
      "Val Loss: 1.6067 Val Acc: 0.4488\n",
      "Validation loss did not improve for 15 epoch(s). Current best: 1.3723\n",
      "\n",
      "Epoch 35/10000\n",
      "----------\n"
     ]
    },
    {
     "name": "stderr",
     "output_type": "stream",
     "text": [
      "                                                                                             \r"
     ]
    },
    {
     "name": "stdout",
     "output_type": "stream",
     "text": [
      "Train Loss: 1.3251 Acc: 0.4064\n"
     ]
    },
    {
     "name": "stderr",
     "output_type": "stream",
     "text": [
      "                                                                                              \r"
     ]
    },
    {
     "name": "stdout",
     "output_type": "stream",
     "text": [
      "Val Loss: 3.4942 Val Acc: 0.4187\n",
      "Validation loss did not improve for 16 epoch(s). Current best: 1.3723\n",
      "\n",
      "Epoch 36/10000\n",
      "----------\n"
     ]
    },
    {
     "name": "stderr",
     "output_type": "stream",
     "text": [
      "                                                                                             \r"
     ]
    },
    {
     "name": "stdout",
     "output_type": "stream",
     "text": [
      "Train Loss: 1.3177 Acc: 0.4381\n"
     ]
    },
    {
     "name": "stderr",
     "output_type": "stream",
     "text": [
      "                                                                                             \r"
     ]
    },
    {
     "name": "stdout",
     "output_type": "stream",
     "text": [
      "Val Loss: 2.1148 Val Acc: 0.3765\n",
      "Validation loss did not improve for 17 epoch(s). Current best: 1.3723\n",
      "\n",
      "Epoch 37/10000\n",
      "----------\n"
     ]
    },
    {
     "name": "stderr",
     "output_type": "stream",
     "text": [
      "                                                                                             \r"
     ]
    },
    {
     "name": "stdout",
     "output_type": "stream",
     "text": [
      "Train Loss: 1.2972 Acc: 0.4485\n"
     ]
    },
    {
     "name": "stderr",
     "output_type": "stream",
     "text": [
      "                                                                                             \r"
     ]
    },
    {
     "name": "stdout",
     "output_type": "stream",
     "text": [
      "Val Loss: 1.8002 Val Acc: 0.4548\n",
      "Validation loss did not improve for 18 epoch(s). Current best: 1.3723\n",
      "\n",
      "Epoch 38/10000\n",
      "----------\n"
     ]
    },
    {
     "name": "stderr",
     "output_type": "stream",
     "text": [
      "                                                                                             \r"
     ]
    },
    {
     "name": "stdout",
     "output_type": "stream",
     "text": [
      "Train Loss: 1.2756 Acc: 0.4691\n"
     ]
    },
    {
     "name": "stderr",
     "output_type": "stream",
     "text": [
      "                                                                                             \r"
     ]
    },
    {
     "name": "stdout",
     "output_type": "stream",
     "text": [
      "Val Loss: 1.6642 Val Acc: 0.4639\n",
      "Validation loss did not improve for 19 epoch(s). Current best: 1.3723\n",
      "\n",
      "Epoch 39/10000\n",
      "----------\n"
     ]
    },
    {
     "name": "stderr",
     "output_type": "stream",
     "text": [
      "                                                                                             \r"
     ]
    },
    {
     "name": "stdout",
     "output_type": "stream",
     "text": [
      "Train Loss: 1.2431 Acc: 0.5352\n"
     ]
    },
    {
     "name": "stderr",
     "output_type": "stream",
     "text": [
      "                                                                                             \r"
     ]
    },
    {
     "name": "stdout",
     "output_type": "stream",
     "text": [
      "Val Loss: 1.4813 Val Acc: 0.5392\n",
      "Validation loss did not improve for 20 epoch(s). Current best: 1.3723\n",
      "Early stopping triggered after 39 epochs!\n",
      "\n",
      "Training complete in 687m 32s\n",
      "Best val Loss: 1.3723, corresponding Val Acc: 0.4277\n",
      "Loading best model weights from runs\\best_model.pth\n"
     ]
    },
    {
     "data": {
      "image/png": "[encoded data removed]",
      "text/plain": [
       "<Figure size 1000x600 with 1 Axes>"
      ]
     },
     "metadata": {},
     "output_type": "display_data"
    }
   ],
   "source": [
    "%run train.py --task A --model_name Attention --epochs 10000 --learning_rate 5e-5 --optimizer adamw --weight_decay 5e-4 --loss_function label_smoothing --label_smoothing_epsilon 0.15 --augmentation_level strong --patience 20 --area_attn_heads 16 --area_attn_split_factor 8 --batch_size 8 --accumulation_steps 2 --num_relan_blocks 2 2 4 2 "
   ]
  },
  {
   "cell_type": "code",
   "execution_count": null,
   "id": "13bf8ab4",
   "metadata": {},
   "outputs": [
    {
     "name": "stdout",
     "output_type": "stream",
     "text": [
      "PyTorch version: 2.6.0+cu126\n",
      "CUDA available: True\n",
      "CUDA version: 12.6\n",
      "Device name: NVIDIA GeForce RTX 3060 Ti\n",
      "Looking for data in: c:\\Users\\Wangzy\\Desktop\\9444\\data\n",
      "Creating data loaders with actual batch size: 8, augmentation: strong, workers: 4\n",
      "IMPORTANT: Ensure data_loader.py is configured for the desired image size (e.g., 256x256).\n",
      "Successfully created data loaders. Determined num_classes: 4\n",
      "Using device: cuda:0\n",
      "Number of classes: 4\n",
      "Loss function 'label_smoothing' loaded successfully.\n",
      " Stage 0: Using attention pattern: ('cbam', 'area', 'cbam')\n",
      " Stage 1: Using attention pattern: ('area', 'cbam', 'area')\n",
      " Stage 2: Using attention pattern: ('cbam', 'area', 'cbam')\n",
      " Stage 3: Using attention pattern: ('area', 'cbam', 'area')\n"
     ]
    },
    {
     "name": "stderr",
     "output_type": "stream",
     "text": [
      "c:\\Users\\Wangzy\\Desktop\\9444\\.venv\\Lib\\site-packages\\albumentations\\core\\validation.py:87: UserWarning: ShiftScaleRotate is a special case of Affine transform. Please use Affine transform instead.\n",
      "  original_init(self, **validated_kwargs)\n",
      "c:\\Users\\Wangzy\\Desktop\\9444\\.venv\\Lib\\site-packages\\torch\\optim\\lr_scheduler.py:62: UserWarning: The verbose parameter is deprecated. Please use get_last_lr() to access the learning rate.\n",
      "  warnings.warn(\n"
     ]
    },
    {
     "name": "stdout",
     "output_type": "stream",
     "text": [
      "Model 'Attention' initialized successfully.\n",
      "Optimizer 'adamw' initialized successfully.\n",
      "Using ReduceLROnPlateau scheduler.\n",
      "\n",
      "----- Training Configuration -----\n",
      "Model: Attention\n",
      "Task: A\n",
      "Number of classes: 4\n",
      "Actual Batch size: 8\n",
      "Gradient Accumulation Steps: 4\n",
      "Effective Batch Size: 32\n",
      "Max number of epochs: 10000\n",
      "Early Stopping Patience: 20\n",
      "Initial Learning rate: 0.0001\n",
      "Optimizer: adamw\n",
      "  Weight Decay: 0.0005\n",
      "Loss function: label_smoothing\n",
      "  Label Smoothing Epsilon: 0.1\n",
      "Data Augmentation: strong\n",
      "Warmup Epochs: 3\n",
      "LR Scheduler: plateau\n",
      "  Scheduler Patience: 5\n",
      "  Scheduler Factor: 0.5\n",
      "Gradient Clipping Value: Disabled\n",
      "Num Workers: 4\n",
      "Device: cuda:0\n",
      "Attention Model Specific Params:\n",
      "  Backbone Channels: 64\n",
      "  Stage Channels: [128, 256, 512, 1024]\n",
      "  Stage Hidden Channels: [64, 128, 256, 512]\n",
      "  Num RELAN Blocks: [2, 2, 4, 2]\n",
      "  RELAN Branches: 4\n",
      "  Area Attention Heads: 16\n",
      "  Area Attention Split Factor: 8\n",
      "  CBAM Reduction: 16\n",
      "  CBAM Kernel Size: 7\n",
      "  Activation: silu\n",
      "----------------------------------\n",
      "----- Start Training -----\n",
      "Early stopping patience set to: 20 epochs\n",
      "Warmup enabled for the first 3 epochs, up to LR 0.000100.\n",
      "Using LR Scheduler: ReduceLROnPlateau\n",
      "  Scheduler Mode: min, Factor: 0.5, Patience: 5, Threshold: 0.0001\n",
      "Gradient Accumulation enabled. Accumulating over 4 steps.\n",
      "Actual Batch Size: 8, Effective Batch Size: 32\n",
      "Gradient Clipping disabled.\n",
      "\n",
      "Epoch 1/10000 | Current LR: 0.000100\n",
      "----------\n",
      "  Warmup Epoch 1/3: Adjusted LR to 0.000033\n"
     ]
    },
    {
     "name": "stderr",
     "output_type": "stream",
     "text": [
      "                                                                                            \r"
     ]
    },
    {
     "name": "stdout",
     "output_type": "stream",
     "text": [
      "Epoch 1: Performing final optimizer step for remaining 2 steps' gradients.\n",
      "Train Loss: 1.4075 Acc: 0.2466\n"
     ]
    },
    {
     "name": "stderr",
     "output_type": "stream",
     "text": [
      "                                                                                            \r"
     ]
    },
    {
     "name": "stdout",
     "output_type": "stream",
     "text": [
      "Val Loss: 1.4721 Val Acc: 0.2952\n",
      "Validation loss decreased (inf --> 1.4721). Saving model...\n",
      "Model saved to runs\\best_model.pth\n",
      "\n",
      "Epoch 2/10000 | Current LR: 0.000033\n",
      "----------\n",
      "  Warmup Epoch 2/3: Adjusted LR to 0.000067\n"
     ]
    },
    {
     "name": "stderr",
     "output_type": "stream",
     "text": [
      "                                                                                            \r"
     ]
    },
    {
     "name": "stdout",
     "output_type": "stream",
     "text": [
      "Epoch 2: Performing final optimizer step for remaining 2 steps' gradients.\n",
      "Train Loss: 1.3578 Acc: 0.3832\n"
     ]
    },
    {
     "name": "stderr",
     "output_type": "stream",
     "text": [
      "                                                                                            \r"
     ]
    },
    {
     "name": "stdout",
     "output_type": "stream",
     "text": [
      "Val Loss: 1.4120 Val Acc: 0.4066\n",
      "Validation loss decreased (1.4721 --> 1.4120). Saving model...\n",
      "Model saved to runs\\best_model.pth\n",
      "\n",
      "Epoch 3/10000 | Current LR: 0.000067\n",
      "----------\n",
      "  Warmup Epoch 3/3: Adjusted LR to 0.000100\n"
     ]
    },
    {
     "name": "stderr",
     "output_type": "stream",
     "text": [
      "                                                                                            \r"
     ]
    },
    {
     "name": "stdout",
     "output_type": "stream",
     "text": [
      "Epoch 3: Performing final optimizer step for remaining 2 steps' gradients.\n",
      "Train Loss: 1.3507 Acc: 0.3926\n"
     ]
    },
    {
     "name": "stderr",
     "output_type": "stream",
     "text": [
      "                                                                                            \r"
     ]
    },
    {
     "name": "stdout",
     "output_type": "stream",
     "text": [
      "Val Loss: 1.4545 Val Acc: 0.4096\n",
      "Validation loss did not improve for 1 epoch(s). Current best: 1.4120\n",
      "\n",
      "Epoch 4/10000 | Current LR: 0.000100\n",
      "----------\n"
     ]
    },
    {
     "name": "stderr",
     "output_type": "stream",
     "text": [
      "                                                                                            \r"
     ]
    },
    {
     "name": "stdout",
     "output_type": "stream",
     "text": [
      "Epoch 4: Performing final optimizer step for remaining 2 steps' gradients.\n",
      "Train Loss: 1.3485 Acc: 0.3857\n"
     ]
    },
    {
     "name": "stderr",
     "output_type": "stream",
     "text": [
      "                                                                                            \r"
     ]
    },
    {
     "name": "stdout",
     "output_type": "stream",
     "text": [
      "Val Loss: 1.3819 Val Acc: 0.3614\n",
      "Validation loss decreased (1.4120 --> 1.3819). Saving model...\n",
      "Model saved to runs\\best_model.pth\n",
      "\n",
      "Epoch 5/10000 | Current LR: 0.000100\n",
      "----------\n"
     ]
    },
    {
     "name": "stderr",
     "output_type": "stream",
     "text": [
      "                                                                                            \r"
     ]
    },
    {
     "name": "stdout",
     "output_type": "stream",
     "text": [
      "Epoch 5: Performing final optimizer step for remaining 2 steps' gradients.\n",
      "Train Loss: 1.3605 Acc: 0.3806\n"
     ]
    },
    {
     "name": "stderr",
     "output_type": "stream",
     "text": [
      "                                                                                            \r"
     ]
    },
    {
     "name": "stdout",
     "output_type": "stream",
     "text": [
      "Val Loss: 1.3745 Val Acc: 0.4066\n",
      "Validation loss decreased (1.3819 --> 1.3745). Saving model...\n",
      "Model saved to runs\\best_model.pth\n",
      "\n",
      "Epoch 6/10000 | Current LR: 0.000100\n",
      "----------\n"
     ]
    },
    {
     "name": "stderr",
     "output_type": "stream",
     "text": [
      "                                                                                            \r"
     ]
    },
    {
     "name": "stdout",
     "output_type": "stream",
     "text": [
      "Epoch 6: Performing final optimizer step for remaining 2 steps' gradients.\n",
      "Train Loss: 1.3480 Acc: 0.3909\n"
     ]
    },
    {
     "name": "stderr",
     "output_type": "stream",
     "text": [
      "                                                                                            \r"
     ]
    },
    {
     "name": "stdout",
     "output_type": "stream",
     "text": [
      "Val Loss: 1.4242 Val Acc: 0.3705\n",
      "Validation loss did not improve for 1 epoch(s). Current best: 1.3745\n",
      "\n",
      "Epoch 7/10000 | Current LR: 0.000100\n",
      "----------\n"
     ]
    },
    {
     "name": "stderr",
     "output_type": "stream",
     "text": [
      "                                                                                            \r"
     ]
    },
    {
     "name": "stdout",
     "output_type": "stream",
     "text": [
      "Epoch 7: Performing final optimizer step for remaining 2 steps' gradients.\n",
      "Train Loss: 1.3499 Acc: 0.3797\n"
     ]
    },
    {
     "name": "stderr",
     "output_type": "stream",
     "text": [
      "                                                                                            \r"
     ]
    },
    {
     "name": "stdout",
     "output_type": "stream",
     "text": [
      "Val Loss: 1.4732 Val Acc: 0.3735\n",
      "Validation loss did not improve for 2 epoch(s). Current best: 1.3745\n",
      "\n",
      "Epoch 8/10000 | Current LR: 0.000100\n",
      "----------\n"
     ]
    },
    {
     "name": "stderr",
     "output_type": "stream",
     "text": [
      "                                                                                            \r"
     ]
    },
    {
     "name": "stdout",
     "output_type": "stream",
     "text": [
      "Epoch 8: Performing final optimizer step for remaining 2 steps' gradients.\n",
      "Train Loss: 1.3571 Acc: 0.3840\n"
     ]
    },
    {
     "name": "stderr",
     "output_type": "stream",
     "text": [
      "                                                                                            \r"
     ]
    },
    {
     "name": "stdout",
     "output_type": "stream",
     "text": [
      "Val Loss: 1.6313 Val Acc: 0.3705\n",
      "Validation loss did not improve for 3 epoch(s). Current best: 1.3745\n",
      "\n",
      "Epoch 9/10000 | Current LR: 0.000100\n",
      "----------\n"
     ]
    },
    {
     "name": "stderr",
     "output_type": "stream",
     "text": [
      "                                                                                            \r"
     ]
    },
    {
     "name": "stdout",
     "output_type": "stream",
     "text": [
      "Epoch 9: Performing final optimizer step for remaining 2 steps' gradients.\n",
      "Train Loss: 1.3559 Acc: 0.3823\n"
     ]
    },
    {
     "name": "stderr",
     "output_type": "stream",
     "text": [
      "                                                                                            \r"
     ]
    },
    {
     "name": "stdout",
     "output_type": "stream",
     "text": [
      "Val Loss: 1.3338 Val Acc: 0.4819\n",
      "Validation loss decreased (1.3745 --> 1.3338). Saving model...\n",
      "Model saved to runs\\best_model.pth\n",
      "\n",
      "Epoch 10/10000 | Current LR: 0.000100\n",
      "----------\n"
     ]
    },
    {
     "name": "stderr",
     "output_type": "stream",
     "text": [
      "                                                                                             \r"
     ]
    },
    {
     "name": "stdout",
     "output_type": "stream",
     "text": [
      "Epoch 10: Performing final optimizer step for remaining 2 steps' gradients.\n",
      "Train Loss: 1.3285 Acc: 0.4081\n"
     ]
    },
    {
     "name": "stderr",
     "output_type": "stream",
     "text": [
      "                                                                                             \r"
     ]
    },
    {
     "name": "stdout",
     "output_type": "stream",
     "text": [
      "Val Loss: 1.5258 Val Acc: 0.4066\n",
      "Validation loss did not improve for 1 epoch(s). Current best: 1.3338\n",
      "\n",
      "Epoch 11/10000 | Current LR: 0.000100\n",
      "----------\n"
     ]
    },
    {
     "name": "stderr",
     "output_type": "stream",
     "text": [
      "                                                                                             \r"
     ]
    },
    {
     "name": "stdout",
     "output_type": "stream",
     "text": [
      "Epoch 11: Performing final optimizer step for remaining 2 steps' gradients.\n",
      "Train Loss: 1.3303 Acc: 0.4089\n"
     ]
    },
    {
     "name": "stderr",
     "output_type": "stream",
     "text": [
      "                                                                                             \r"
     ]
    },
    {
     "name": "stdout",
     "output_type": "stream",
     "text": [
      "Val Loss: 1.4338 Val Acc: 0.4880\n",
      "Validation loss did not improve for 2 epoch(s). Current best: 1.3338\n",
      "\n",
      "Epoch 12/10000 | Current LR: 0.000100\n",
      "----------\n"
     ]
    },
    {
     "name": "stderr",
     "output_type": "stream",
     "text": [
      "                                                                                             \r"
     ]
    },
    {
     "name": "stdout",
     "output_type": "stream",
     "text": [
      "Epoch 12: Performing final optimizer step for remaining 2 steps' gradients.\n",
      "Train Loss: 1.3176 Acc: 0.4175\n"
     ]
    },
    {
     "name": "stderr",
     "output_type": "stream",
     "text": [
      "                                                                                             \r"
     ]
    },
    {
     "name": "stdout",
     "output_type": "stream",
     "text": [
      "Val Loss: 1.3510 Val Acc: 0.4789\n",
      "Validation loss did not improve for 3 epoch(s). Current best: 1.3338\n",
      "\n",
      "Epoch 13/10000 | Current LR: 0.000100\n",
      "----------\n"
     ]
    },
    {
     "name": "stderr",
     "output_type": "stream",
     "text": [
      "                                                                                             \r"
     ]
    },
    {
     "name": "stdout",
     "output_type": "stream",
     "text": [
      "Epoch 13: Performing final optimizer step for remaining 2 steps' gradients.\n",
      "Train Loss: 1.3122 Acc: 0.4132\n"
     ]
    },
    {
     "name": "stderr",
     "output_type": "stream",
     "text": [
      "                                                                                             \r"
     ]
    },
    {
     "name": "stdout",
     "output_type": "stream",
     "text": [
      "Val Loss: 1.3616 Val Acc: 0.4006\n",
      "Validation loss did not improve for 4 epoch(s). Current best: 1.3338\n",
      "\n",
      "Epoch 14/10000 | Current LR: 0.000100\n",
      "----------\n"
     ]
    },
    {
     "name": "stderr",
     "output_type": "stream",
     "text": [
      "                                                                                             \r"
     ]
    },
    {
     "name": "stdout",
     "output_type": "stream",
     "text": [
      "Epoch 14: Performing final optimizer step for remaining 2 steps' gradients.\n",
      "Train Loss: 1.2967 Acc: 0.4330\n"
     ]
    },
    {
     "name": "stderr",
     "output_type": "stream",
     "text": [
      "                                                                                             \r"
     ]
    },
    {
     "name": "stdout",
     "output_type": "stream",
     "text": [
      "Val Loss: 1.3095 Val Acc: 0.4970\n",
      "Validation loss decreased (1.3338 --> 1.3095). Saving model...\n",
      "Model saved to runs\\best_model.pth\n",
      "\n",
      "Epoch 15/10000 | Current LR: 0.000100\n",
      "----------\n"
     ]
    },
    {
     "name": "stderr",
     "output_type": "stream",
     "text": [
      "                                                                                             \r"
     ]
    },
    {
     "name": "stdout",
     "output_type": "stream",
     "text": [
      "Epoch 15: Performing final optimizer step for remaining 2 steps' gradients.\n",
      "Train Loss: 1.2045 Acc: 0.4983\n"
     ]
    },
    {
     "name": "stderr",
     "output_type": "stream",
     "text": [
      "                                                                                             \r"
     ]
    },
    {
     "name": "stdout",
     "output_type": "stream",
     "text": [
      "Val Loss: 1.1971 Val Acc: 0.6175\n",
      "Validation loss decreased (1.3095 --> 1.1971). Saving model...\n",
      "Model saved to runs\\best_model.pth\n",
      "\n",
      "Epoch 16/10000 | Current LR: 0.000100\n",
      "----------\n"
     ]
    },
    {
     "name": "stderr",
     "output_type": "stream",
     "text": [
      "                                                                                             \r"
     ]
    },
    {
     "name": "stdout",
     "output_type": "stream",
     "text": [
      "Epoch 16: Performing final optimizer step for remaining 2 steps' gradients.\n",
      "Train Loss: 1.1711 Acc: 0.5335\n"
     ]
    },
    {
     "name": "stderr",
     "output_type": "stream",
     "text": [
      "                                                                                             \r"
     ]
    },
    {
     "name": "stdout",
     "output_type": "stream",
     "text": [
      "Val Loss: 1.0925 Val Acc: 0.6446\n",
      "Validation loss decreased (1.1971 --> 1.0925). Saving model...\n",
      "Model saved to runs\\best_model.pth\n",
      "\n",
      "Epoch 17/10000 | Current LR: 0.000100\n",
      "----------\n"
     ]
    },
    {
     "name": "stderr",
     "output_type": "stream",
     "text": [
      "                                                                                             \r"
     ]
    },
    {
     "name": "stdout",
     "output_type": "stream",
     "text": [
      "Epoch 17: Performing final optimizer step for remaining 2 steps' gradients.\n",
      "Train Loss: 1.1253 Acc: 0.5713\n"
     ]
    },
    {
     "name": "stderr",
     "output_type": "stream",
     "text": [
      "                                                                                             \r"
     ]
    },
    {
     "name": "stdout",
     "output_type": "stream",
     "text": [
      "Val Loss: 1.1777 Val Acc: 0.6747\n",
      "Validation loss did not improve for 1 epoch(s). Current best: 1.0925\n",
      "\n",
      "Epoch 18/10000 | Current LR: 0.000100\n",
      "----------\n"
     ]
    },
    {
     "name": "stderr",
     "output_type": "stream",
     "text": [
      "                                                                                             \r"
     ]
    },
    {
     "name": "stdout",
     "output_type": "stream",
     "text": [
      "Epoch 18: Performing final optimizer step for remaining 2 steps' gradients.\n",
      "Train Loss: 1.1218 Acc: 0.5670\n"
     ]
    },
    {
     "name": "stderr",
     "output_type": "stream",
     "text": [
      "                                                                                             \r"
     ]
    },
    {
     "name": "stdout",
     "output_type": "stream",
     "text": [
      "Val Loss: 1.0232 Val Acc: 0.6898\n",
      "Validation loss decreased (1.0925 --> 1.0232). Saving model...\n",
      "Model saved to runs\\best_model.pth\n",
      "\n",
      "Epoch 19/10000 | Current LR: 0.000100\n",
      "----------\n"
     ]
    },
    {
     "name": "stderr",
     "output_type": "stream",
     "text": [
      "                                                                                             \r"
     ]
    },
    {
     "name": "stdout",
     "output_type": "stream",
     "text": [
      "Epoch 19: Performing final optimizer step for remaining 2 steps' gradients.\n",
      "Train Loss: 1.0962 Acc: 0.5842\n"
     ]
    },
    {
     "name": "stderr",
     "output_type": "stream",
     "text": [
      "                                                                                             \r"
     ]
    },
    {
     "name": "stdout",
     "output_type": "stream",
     "text": [
      "Val Loss: 1.0934 Val Acc: 0.6596\n",
      "Validation loss did not improve for 1 epoch(s). Current best: 1.0232\n",
      "\n",
      "Epoch 20/10000 | Current LR: 0.000100\n",
      "----------\n"
     ]
    },
    {
     "name": "stderr",
     "output_type": "stream",
     "text": [
      "                                                                                             \r"
     ]
    },
    {
     "name": "stdout",
     "output_type": "stream",
     "text": [
      "Epoch 20: Performing final optimizer step for remaining 2 steps' gradients.\n",
      "Train Loss: 1.1065 Acc: 0.5816\n"
     ]
    },
    {
     "name": "stderr",
     "output_type": "stream",
     "text": [
      "                                                                                             \r"
     ]
    },
    {
     "name": "stdout",
     "output_type": "stream",
     "text": [
      "Val Loss: 1.1924 Val Acc: 0.6837\n",
      "Validation loss did not improve for 2 epoch(s). Current best: 1.0232\n",
      "\n",
      "Epoch 21/10000 | Current LR: 0.000100\n",
      "----------\n"
     ]
    },
    {
     "name": "stderr",
     "output_type": "stream",
     "text": [
      "                                                                                             \r"
     ]
    },
    {
     "name": "stdout",
     "output_type": "stream",
     "text": [
      "Epoch 21: Performing final optimizer step for remaining 2 steps' gradients.\n",
      "Train Loss: 1.0864 Acc: 0.6057\n"
     ]
    },
    {
     "name": "stderr",
     "output_type": "stream",
     "text": [
      "                                                                                             \r"
     ]
    },
    {
     "name": "stdout",
     "output_type": "stream",
     "text": [
      "Val Loss: 0.9179 Val Acc: 0.7380\n",
      "Validation loss decreased (1.0232 --> 0.9179). Saving model...\n",
      "Model saved to runs\\best_model.pth\n",
      "\n",
      "Epoch 22/10000 | Current LR: 0.000100\n",
      "----------\n"
     ]
    },
    {
     "name": "stderr",
     "output_type": "stream",
     "text": [
      "                                                                                             \r"
     ]
    },
    {
     "name": "stdout",
     "output_type": "stream",
     "text": [
      "Epoch 22: Performing final optimizer step for remaining 2 steps' gradients.\n",
      "Train Loss: 1.0677 Acc: 0.6194\n"
     ]
    },
    {
     "name": "stderr",
     "output_type": "stream",
     "text": [
      "                                                                                             \r"
     ]
    },
    {
     "name": "stdout",
     "output_type": "stream",
     "text": [
      "Val Loss: 1.0034 Val Acc: 0.6988\n",
      "Validation loss did not improve for 1 epoch(s). Current best: 0.9179\n",
      "\n",
      "Epoch 23/10000 | Current LR: 0.000100\n",
      "----------\n"
     ]
    },
    {
     "name": "stderr",
     "output_type": "stream",
     "text": [
      "                                                                                             \r"
     ]
    },
    {
     "name": "stdout",
     "output_type": "stream",
     "text": [
      "Epoch 23: Performing final optimizer step for remaining 2 steps' gradients.\n",
      "Train Loss: 1.0527 Acc: 0.6203\n"
     ]
    },
    {
     "name": "stderr",
     "output_type": "stream",
     "text": [
      "                                                                                             \r"
     ]
    },
    {
     "name": "stdout",
     "output_type": "stream",
     "text": [
      "Val Loss: 0.9725 Val Acc: 0.7139\n",
      "Validation loss did not improve for 2 epoch(s). Current best: 0.9179\n",
      "\n",
      "Epoch 24/10000 | Current LR: 0.000100\n",
      "----------\n"
     ]
    },
    {
     "name": "stderr",
     "output_type": "stream",
     "text": [
      "                                                                                             \r"
     ]
    },
    {
     "name": "stdout",
     "output_type": "stream",
     "text": [
      "Epoch 24: Performing final optimizer step for remaining 2 steps' gradients.\n",
      "Train Loss: 1.0457 Acc: 0.6237\n"
     ]
    },
    {
     "name": "stderr",
     "output_type": "stream",
     "text": [
      "                                                                                             \r"
     ]
    },
    {
     "name": "stdout",
     "output_type": "stream",
     "text": [
      "Val Loss: 0.9736 Val Acc: 0.7078\n",
      "Validation loss did not improve for 3 epoch(s). Current best: 0.9179\n",
      "\n",
      "Epoch 25/10000 | Current LR: 0.000100\n",
      "----------\n"
     ]
    },
    {
     "name": "stderr",
     "output_type": "stream",
     "text": [
      "                                                                                             \r"
     ]
    },
    {
     "name": "stdout",
     "output_type": "stream",
     "text": [
      "Epoch 25: Performing final optimizer step for remaining 2 steps' gradients.\n",
      "Train Loss: 1.0415 Acc: 0.6306\n"
     ]
    },
    {
     "name": "stderr",
     "output_type": "stream",
     "text": [
      "                                                                                             \r"
     ]
    },
    {
     "name": "stdout",
     "output_type": "stream",
     "text": [
      "Val Loss: 1.0752 Val Acc: 0.7289\n",
      "Validation loss did not improve for 4 epoch(s). Current best: 0.9179\n",
      "\n",
      "Epoch 26/10000 | Current LR: 0.000100\n",
      "----------\n"
     ]
    },
    {
     "name": "stderr",
     "output_type": "stream",
     "text": [
      "                                                                                             \r"
     ]
    },
    {
     "name": "stdout",
     "output_type": "stream",
     "text": [
      "Epoch 26: Performing final optimizer step for remaining 2 steps' gradients.\n",
      "Train Loss: 1.0622 Acc: 0.6340\n"
     ]
    },
    {
     "name": "stderr",
     "output_type": "stream",
     "text": [
      "                                                                                             \r"
     ]
    },
    {
     "name": "stdout",
     "output_type": "stream",
     "text": [
      "Val Loss: 1.0801 Val Acc: 0.6928\n",
      "Validation loss did not improve for 5 epoch(s). Current best: 0.9179\n",
      "\n",
      "Epoch 27/10000 | Current LR: 0.000100\n",
      "----------\n"
     ]
    },
    {
     "name": "stderr",
     "output_type": "stream",
     "text": [
      "                                                                                             \r"
     ]
    },
    {
     "name": "stdout",
     "output_type": "stream",
     "text": [
      "Epoch 27: Performing final optimizer step for remaining 2 steps' gradients.\n",
      "Train Loss: 0.9998 Acc: 0.6624\n"
     ]
    },
    {
     "name": "stderr",
     "output_type": "stream",
     "text": [
      "                                                                                             \r"
     ]
    },
    {
     "name": "stdout",
     "output_type": "stream",
     "text": [
      "Val Loss: 1.0595 Val Acc: 0.7139\n",
      "Validation loss did not improve for 6 epoch(s). Current best: 0.9179\n",
      "\n",
      "Epoch 28/10000 | Current LR: 0.000050\n",
      "----------\n"
     ]
    },
    {
     "name": "stderr",
     "output_type": "stream",
     "text": [
      "                                                                                             \r"
     ]
    },
    {
     "name": "stdout",
     "output_type": "stream",
     "text": [
      "Epoch 28: Performing final optimizer step for remaining 2 steps' gradients.\n",
      "Train Loss: 0.9823 Acc: 0.6770\n"
     ]
    },
    {
     "name": "stderr",
     "output_type": "stream",
     "text": [
      "                                                                                             \r"
     ]
    },
    {
     "name": "stdout",
     "output_type": "stream",
     "text": [
      "Val Loss: 0.9025 Val Acc: 0.7169\n",
      "Validation loss decreased (0.9179 --> 0.9025). Saving model...\n",
      "Model saved to runs\\best_model.pth\n",
      "\n",
      "Epoch 29/10000 | Current LR: 0.000050\n",
      "----------\n"
     ]
    },
    {
     "name": "stderr",
     "output_type": "stream",
     "text": [
      "                                                                                             \r"
     ]
    },
    {
     "name": "stdout",
     "output_type": "stream",
     "text": [
      "Epoch 29: Performing final optimizer step for remaining 2 steps' gradients.\n",
      "Train Loss: 0.9455 Acc: 0.6778\n"
     ]
    },
    {
     "name": "stderr",
     "output_type": "stream",
     "text": [
      "                                                                                             \r"
     ]
    },
    {
     "name": "stdout",
     "output_type": "stream",
     "text": [
      "Val Loss: 0.8261 Val Acc: 0.7620\n",
      "Validation loss decreased (0.9025 --> 0.8261). Saving model...\n",
      "Model saved to runs\\best_model.pth\n",
      "\n",
      "Epoch 30/10000 | Current LR: 0.000050\n",
      "----------\n"
     ]
    },
    {
     "name": "stderr",
     "output_type": "stream",
     "text": [
      "                                                                                             \r"
     ]
    },
    {
     "name": "stdout",
     "output_type": "stream",
     "text": [
      "Epoch 30: Performing final optimizer step for remaining 2 steps' gradients.\n",
      "Train Loss: 0.9468 Acc: 0.7053\n"
     ]
    },
    {
     "name": "stderr",
     "output_type": "stream",
     "text": [
      "                                                                                             \r"
     ]
    },
    {
     "name": "stdout",
     "output_type": "stream",
     "text": [
      "Val Loss: 0.8588 Val Acc: 0.7651\n",
      "Validation loss did not improve for 1 epoch(s). Current best: 0.8261\n",
      "\n",
      "Epoch 31/10000 | Current LR: 0.000050\n",
      "----------\n"
     ]
    },
    {
     "name": "stderr",
     "output_type": "stream",
     "text": [
      "                                                                                             \r"
     ]
    },
    {
     "name": "stdout",
     "output_type": "stream",
     "text": [
      "Epoch 31: Performing final optimizer step for remaining 2 steps' gradients.\n",
      "Train Loss: 0.9364 Acc: 0.7088\n"
     ]
    },
    {
     "name": "stderr",
     "output_type": "stream",
     "text": [
      "                                                                                             \r"
     ]
    },
    {
     "name": "stdout",
     "output_type": "stream",
     "text": [
      "Val Loss: 0.8504 Val Acc: 0.7681\n",
      "Validation loss did not improve for 2 epoch(s). Current best: 0.8261\n",
      "\n",
      "Epoch 32/10000 | Current LR: 0.000050\n",
      "----------\n"
     ]
    },
    {
     "name": "stderr",
     "output_type": "stream",
     "text": [
      "                                                                                             \r"
     ]
    },
    {
     "name": "stdout",
     "output_type": "stream",
     "text": [
      "Epoch 32: Performing final optimizer step for remaining 2 steps' gradients.\n",
      "Train Loss: 0.9494 Acc: 0.6881\n"
     ]
    },
    {
     "name": "stderr",
     "output_type": "stream",
     "text": [
      "                                                                                             \r"
     ]
    },
    {
     "name": "stdout",
     "output_type": "stream",
     "text": [
      "Val Loss: 0.8542 Val Acc: 0.7711\n",
      "Validation loss did not improve for 3 epoch(s). Current best: 0.8261\n",
      "\n",
      "Epoch 33/10000 | Current LR: 0.000050\n",
      "----------\n"
     ]
    },
    {
     "name": "stderr",
     "output_type": "stream",
     "text": [
      "                                                                                             \r"
     ]
    },
    {
     "name": "stdout",
     "output_type": "stream",
     "text": [
      "Epoch 33: Performing final optimizer step for remaining 2 steps' gradients.\n",
      "Train Loss: 0.9154 Acc: 0.7096\n"
     ]
    },
    {
     "name": "stderr",
     "output_type": "stream",
     "text": [
      "                                                                                             \r"
     ]
    },
    {
     "name": "stdout",
     "output_type": "stream",
     "text": [
      "Val Loss: 0.8200 Val Acc: 0.7651\n",
      "Validation loss decreased (0.8261 --> 0.8200). Saving model...\n",
      "Model saved to runs\\best_model.pth\n",
      "\n",
      "Epoch 34/10000 | Current LR: 0.000050\n",
      "----------\n"
     ]
    },
    {
     "name": "stderr",
     "output_type": "stream",
     "text": [
      "                                                                                             \r"
     ]
    },
    {
     "name": "stdout",
     "output_type": "stream",
     "text": [
      "Epoch 34: Performing final optimizer step for remaining 2 steps' gradients.\n",
      "Train Loss: 0.9341 Acc: 0.6976\n"
     ]
    },
    {
     "name": "stderr",
     "output_type": "stream",
     "text": [
      "                                                                                             \r"
     ]
    },
    {
     "name": "stdout",
     "output_type": "stream",
     "text": [
      "Val Loss: 1.1758 Val Acc: 0.6898\n",
      "Validation loss did not improve for 1 epoch(s). Current best: 0.8200\n",
      "\n",
      "Epoch 35/10000 | Current LR: 0.000050\n",
      "----------\n"
     ]
    },
    {
     "name": "stderr",
     "output_type": "stream",
     "text": [
      "                                                                                             \r"
     ]
    },
    {
     "name": "stdout",
     "output_type": "stream",
     "text": [
      "Epoch 35: Performing final optimizer step for remaining 2 steps' gradients.\n",
      "Train Loss: 0.9190 Acc: 0.7105\n"
     ]
    },
    {
     "name": "stderr",
     "output_type": "stream",
     "text": [
      "                                                                                             \r"
     ]
    },
    {
     "name": "stdout",
     "output_type": "stream",
     "text": [
      "Val Loss: 0.8092 Val Acc: 0.7831\n",
      "Validation loss decreased (0.8200 --> 0.8092). Saving model...\n",
      "Model saved to runs\\best_model.pth\n",
      "\n",
      "Epoch 36/10000 | Current LR: 0.000050\n",
      "----------\n"
     ]
    },
    {
     "name": "stderr",
     "output_type": "stream",
     "text": [
      "                                                                                             \r"
     ]
    },
    {
     "name": "stdout",
     "output_type": "stream",
     "text": [
      "Epoch 36: Performing final optimizer step for remaining 2 steps' gradients.\n",
      "Train Loss: 0.9426 Acc: 0.7002\n"
     ]
    },
    {
     "name": "stderr",
     "output_type": "stream",
     "text": [
      "                                                                                             \r"
     ]
    },
    {
     "name": "stdout",
     "output_type": "stream",
     "text": [
      "Val Loss: 0.9380 Val Acc: 0.7560\n",
      "Validation loss did not improve for 1 epoch(s). Current best: 0.8092\n",
      "\n",
      "Epoch 37/10000 | Current LR: 0.000050\n",
      "----------\n"
     ]
    },
    {
     "name": "stderr",
     "output_type": "stream",
     "text": [
      "                                                                                             \r"
     ]
    },
    {
     "name": "stdout",
     "output_type": "stream",
     "text": [
      "Epoch 37: Performing final optimizer step for remaining 2 steps' gradients.\n",
      "Train Loss: 0.9058 Acc: 0.7225\n"
     ]
    },
    {
     "name": "stderr",
     "output_type": "stream",
     "text": [
      "                                                                                             \r"
     ]
    },
    {
     "name": "stdout",
     "output_type": "stream",
     "text": [
      "Val Loss: 0.9063 Val Acc: 0.8102\n",
      "Validation loss did not improve for 2 epoch(s). Current best: 0.8092\n",
      "\n",
      "Epoch 38/10000 | Current LR: 0.000050\n",
      "----------\n"
     ]
    },
    {
     "name": "stderr",
     "output_type": "stream",
     "text": [
      "                                                                                             \r"
     ]
    },
    {
     "name": "stdout",
     "output_type": "stream",
     "text": [
      "Epoch 38: Performing final optimizer step for remaining 2 steps' gradients.\n",
      "Train Loss: 0.9185 Acc: 0.7079\n"
     ]
    },
    {
     "name": "stderr",
     "output_type": "stream",
     "text": [
      "                                                                                             \r"
     ]
    },
    {
     "name": "stdout",
     "output_type": "stream",
     "text": [
      "Val Loss: 0.7936 Val Acc: 0.7651\n",
      "Validation loss decreased (0.8092 --> 0.7936). Saving model...\n",
      "Model saved to runs\\best_model.pth\n",
      "\n",
      "Epoch 39/10000 | Current LR: 0.000050\n",
      "----------\n"
     ]
    },
    {
     "name": "stderr",
     "output_type": "stream",
     "text": [
      "                                                                                             \r"
     ]
    },
    {
     "name": "stdout",
     "output_type": "stream",
     "text": [
      "Epoch 39: Performing final optimizer step for remaining 2 steps' gradients.\n",
      "Train Loss: 0.9183 Acc: 0.7062\n"
     ]
    },
    {
     "name": "stderr",
     "output_type": "stream",
     "text": [
      "                                                                                             \r"
     ]
    },
    {
     "name": "stdout",
     "output_type": "stream",
     "text": [
      "Val Loss: 0.7899 Val Acc: 0.8072\n",
      "Validation loss decreased (0.7936 --> 0.7899). Saving model...\n",
      "Model saved to runs\\best_model.pth\n",
      "\n",
      "Epoch 40/10000 | Current LR: 0.000050\n",
      "----------\n"
     ]
    },
    {
     "name": "stderr",
     "output_type": "stream",
     "text": [
      "                                                                                             \r"
     ]
    },
    {
     "name": "stdout",
     "output_type": "stream",
     "text": [
      "Epoch 40: Performing final optimizer step for remaining 2 steps' gradients.\n",
      "Train Loss: 0.9056 Acc: 0.7337\n"
     ]
    },
    {
     "name": "stderr",
     "output_type": "stream",
     "text": [
      "                                                                                             \r"
     ]
    },
    {
     "name": "stdout",
     "output_type": "stream",
     "text": [
      "Val Loss: 0.7615 Val Acc: 0.7952\n",
      "Validation loss decreased (0.7899 --> 0.7615). Saving model...\n",
      "Model saved to runs\\best_model.pth\n",
      "\n",
      "Epoch 41/10000 | Current LR: 0.000050\n",
      "----------\n"
     ]
    },
    {
     "name": "stderr",
     "output_type": "stream",
     "text": [
      "                                                                                             \r"
     ]
    },
    {
     "name": "stdout",
     "output_type": "stream",
     "text": [
      "Epoch 41: Performing final optimizer step for remaining 2 steps' gradients.\n",
      "Train Loss: 0.8985 Acc: 0.7199\n"
     ]
    },
    {
     "name": "stderr",
     "output_type": "stream",
     "text": [
      "                                                                                             \r"
     ]
    },
    {
     "name": "stdout",
     "output_type": "stream",
     "text": [
      "Val Loss: 0.8180 Val Acc: 0.8193\n",
      "Validation loss did not improve for 1 epoch(s). Current best: 0.7615\n",
      "\n",
      "Epoch 42/10000 | Current LR: 0.000050\n",
      "----------\n"
     ]
    },
    {
     "name": "stderr",
     "output_type": "stream",
     "text": [
      "                                                                                             \r"
     ]
    },
    {
     "name": "stdout",
     "output_type": "stream",
     "text": [
      "Epoch 42: Performing final optimizer step for remaining 2 steps' gradients.\n",
      "Train Loss: 0.9155 Acc: 0.7268\n"
     ]
    },
    {
     "name": "stderr",
     "output_type": "stream",
     "text": [
      "                                                                                             \r"
     ]
    },
    {
     "name": "stdout",
     "output_type": "stream",
     "text": [
      "Val Loss: 0.8820 Val Acc: 0.7500\n",
      "Validation loss did not improve for 2 epoch(s). Current best: 0.7615\n",
      "\n",
      "Epoch 43/10000 | Current LR: 0.000050\n",
      "----------\n"
     ]
    },
    {
     "name": "stderr",
     "output_type": "stream",
     "text": [
      "                                                                                             \r"
     ]
    },
    {
     "name": "stdout",
     "output_type": "stream",
     "text": [
      "Epoch 43: Performing final optimizer step for remaining 2 steps' gradients.\n",
      "Train Loss: 0.8940 Acc: 0.7242\n"
     ]
    },
    {
     "name": "stderr",
     "output_type": "stream",
     "text": [
      "                                                                                             \r"
     ]
    },
    {
     "name": "stdout",
     "output_type": "stream",
     "text": [
      "Val Loss: 0.8336 Val Acc: 0.8283\n",
      "Validation loss did not improve for 3 epoch(s). Current best: 0.7615\n",
      "\n",
      "Epoch 44/10000 | Current LR: 0.000050\n",
      "----------\n"
     ]
    },
    {
     "name": "stderr",
     "output_type": "stream",
     "text": [
      "                                                                                             \r"
     ]
    },
    {
     "name": "stdout",
     "output_type": "stream",
     "text": [
      "Epoch 44: Performing final optimizer step for remaining 2 steps' gradients.\n",
      "Train Loss: 0.8977 Acc: 0.7500\n"
     ]
    },
    {
     "name": "stderr",
     "output_type": "stream",
     "text": [
      "                                                                                             \r"
     ]
    },
    {
     "name": "stdout",
     "output_type": "stream",
     "text": [
      "Val Loss: 0.8139 Val Acc: 0.7590\n",
      "Validation loss did not improve for 4 epoch(s). Current best: 0.7615\n",
      "\n",
      "Epoch 45/10000 | Current LR: 0.000050\n",
      "----------\n"
     ]
    },
    {
     "name": "stderr",
     "output_type": "stream",
     "text": [
      "                                                                                             \r"
     ]
    },
    {
     "name": "stdout",
     "output_type": "stream",
     "text": [
      "Epoch 45: Performing final optimizer step for remaining 2 steps' gradients.\n",
      "Train Loss: 0.8658 Acc: 0.7474\n"
     ]
    },
    {
     "name": "stderr",
     "output_type": "stream",
     "text": [
      "                                                                                             \r"
     ]
    },
    {
     "name": "stdout",
     "output_type": "stream",
     "text": [
      "Val Loss: 0.7860 Val Acc: 0.8012\n",
      "Validation loss did not improve for 5 epoch(s). Current best: 0.7615\n",
      "\n",
      "Epoch 46/10000 | Current LR: 0.000050\n",
      "----------\n"
     ]
    },
    {
     "name": "stderr",
     "output_type": "stream",
     "text": [
      "                                                                                             \r"
     ]
    },
    {
     "name": "stdout",
     "output_type": "stream",
     "text": [
      "Epoch 46: Performing final optimizer step for remaining 2 steps' gradients.\n",
      "Train Loss: 0.8746 Acc: 0.7320\n"
     ]
    },
    {
     "name": "stderr",
     "output_type": "stream",
     "text": [
      "                                                                                             \r"
     ]
    },
    {
     "name": "stdout",
     "output_type": "stream",
     "text": [
      "Val Loss: 0.8031 Val Acc: 0.8102\n",
      "Validation loss did not improve for 6 epoch(s). Current best: 0.7615\n",
      "\n",
      "Epoch 47/10000 | Current LR: 0.000025\n",
      "----------\n"
     ]
    },
    {
     "name": "stderr",
     "output_type": "stream",
     "text": [
      "                                                                                             \r"
     ]
    },
    {
     "name": "stdout",
     "output_type": "stream",
     "text": [
      "Epoch 47: Performing final optimizer step for remaining 2 steps' gradients.\n",
      "Train Loss: 0.8513 Acc: 0.7466\n"
     ]
    },
    {
     "name": "stderr",
     "output_type": "stream",
     "text": [
      "                                                                                             \r"
     ]
    },
    {
     "name": "stdout",
     "output_type": "stream",
     "text": [
      "Val Loss: 0.7770 Val Acc: 0.8012\n",
      "Validation loss did not improve for 7 epoch(s). Current best: 0.7615\n",
      "\n",
      "Epoch 48/10000 | Current LR: 0.000025\n",
      "----------\n"
     ]
    },
    {
     "name": "stderr",
     "output_type": "stream",
     "text": [
      "                                                                                             \r"
     ]
    },
    {
     "name": "stdout",
     "output_type": "stream",
     "text": [
      "Epoch 48: Performing final optimizer step for remaining 2 steps' gradients.\n",
      "Train Loss: 0.8676 Acc: 0.7509\n"
     ]
    },
    {
     "name": "stderr",
     "output_type": "stream",
     "text": [
      "                                                                                             \r"
     ]
    },
    {
     "name": "stdout",
     "output_type": "stream",
     "text": [
      "Val Loss: 0.7655 Val Acc: 0.8072\n",
      "Validation loss did not improve for 8 epoch(s). Current best: 0.7615\n",
      "\n",
      "Epoch 49/10000 | Current LR: 0.000025\n",
      "----------\n"
     ]
    },
    {
     "name": "stderr",
     "output_type": "stream",
     "text": [
      "                                                                                             \r"
     ]
    },
    {
     "name": "stdout",
     "output_type": "stream",
     "text": [
      "Epoch 49: Performing final optimizer step for remaining 2 steps' gradients.\n",
      "Train Loss: 0.8516 Acc: 0.7646\n"
     ]
    },
    {
     "name": "stderr",
     "output_type": "stream",
     "text": [
      "                                                                                             \r"
     ]
    },
    {
     "name": "stdout",
     "output_type": "stream",
     "text": [
      "Val Loss: 0.7430 Val Acc: 0.8283\n",
      "Validation loss decreased (0.7615 --> 0.7430). Saving model...\n",
      "Model saved to runs\\best_model.pth\n",
      "\n",
      "Epoch 50/10000 | Current LR: 0.000025\n",
      "----------\n"
     ]
    },
    {
     "name": "stderr",
     "output_type": "stream",
     "text": [
      "                                                                                             \r"
     ]
    },
    {
     "name": "stdout",
     "output_type": "stream",
     "text": [
      "Epoch 50: Performing final optimizer step for remaining 2 steps' gradients.\n",
      "Train Loss: 0.8458 Acc: 0.7552\n"
     ]
    },
    {
     "name": "stderr",
     "output_type": "stream",
     "text": [
      "                                                                                             \r"
     ]
    },
    {
     "name": "stdout",
     "output_type": "stream",
     "text": [
      "Val Loss: 0.7246 Val Acc: 0.8464\n",
      "Validation loss decreased (0.7430 --> 0.7246). Saving model...\n",
      "Model saved to runs\\best_model.pth\n",
      "\n",
      "Epoch 51/10000 | Current LR: 0.000025\n",
      "----------\n"
     ]
    },
    {
     "name": "stderr",
     "output_type": "stream",
     "text": [
      "                                                                                             \r"
     ]
    },
    {
     "name": "stdout",
     "output_type": "stream",
     "text": [
      "Epoch 51: Performing final optimizer step for remaining 2 steps' gradients.\n",
      "Train Loss: 0.8455 Acc: 0.7680\n"
     ]
    },
    {
     "name": "stderr",
     "output_type": "stream",
     "text": [
      "                                                                                             \r"
     ]
    },
    {
     "name": "stdout",
     "output_type": "stream",
     "text": [
      "Val Loss: 0.8931 Val Acc: 0.7982\n",
      "Validation loss did not improve for 1 epoch(s). Current best: 0.7246\n",
      "\n",
      "Epoch 52/10000 | Current LR: 0.000025\n",
      "----------\n"
     ]
    },
    {
     "name": "stderr",
     "output_type": "stream",
     "text": [
      "                                                                                             \r"
     ]
    },
    {
     "name": "stdout",
     "output_type": "stream",
     "text": [
      "Epoch 52: Performing final optimizer step for remaining 2 steps' gradients.\n",
      "Train Loss: 0.8473 Acc: 0.7491\n"
     ]
    },
    {
     "name": "stderr",
     "output_type": "stream",
     "text": [
      "                                                                                             \r"
     ]
    },
    {
     "name": "stdout",
     "output_type": "stream",
     "text": [
      "Val Loss: 0.7324 Val Acc: 0.8343\n",
      "Validation loss did not improve for 2 epoch(s). Current best: 0.7246\n",
      "\n",
      "Epoch 53/10000 | Current LR: 0.000025\n",
      "----------\n"
     ]
    },
    {
     "name": "stderr",
     "output_type": "stream",
     "text": [
      "                                                                                             \r"
     ]
    },
    {
     "name": "stdout",
     "output_type": "stream",
     "text": [
      "Epoch 53: Performing final optimizer step for remaining 2 steps' gradients.\n",
      "Train Loss: 0.8584 Acc: 0.7595\n"
     ]
    },
    {
     "name": "stderr",
     "output_type": "stream",
     "text": [
      "                                                                                             \r"
     ]
    },
    {
     "name": "stdout",
     "output_type": "stream",
     "text": [
      "Val Loss: 0.7326 Val Acc: 0.8163\n",
      "Validation loss did not improve for 3 epoch(s). Current best: 0.7246\n",
      "\n",
      "Epoch 54/10000 | Current LR: 0.000025\n",
      "----------\n"
     ]
    },
    {
     "name": "stderr",
     "output_type": "stream",
     "text": [
      "                                                                                             \r"
     ]
    },
    {
     "name": "stdout",
     "output_type": "stream",
     "text": [
      "Epoch 54: Performing final optimizer step for remaining 2 steps' gradients.\n",
      "Train Loss: 0.8581 Acc: 0.7517\n"
     ]
    },
    {
     "name": "stderr",
     "output_type": "stream",
     "text": [
      "                                                                                             \r"
     ]
    },
    {
     "name": "stdout",
     "output_type": "stream",
     "text": [
      "Val Loss: 0.8014 Val Acc: 0.8193\n",
      "Validation loss did not improve for 4 epoch(s). Current best: 0.7246\n",
      "\n",
      "Epoch 55/10000 | Current LR: 0.000025\n",
      "----------\n"
     ]
    },
    {
     "name": "stderr",
     "output_type": "stream",
     "text": [
      "                                                                                             \r"
     ]
    },
    {
     "name": "stdout",
     "output_type": "stream",
     "text": [
      "Epoch 55: Performing final optimizer step for remaining 2 steps' gradients.\n",
      "Train Loss: 0.8220 Acc: 0.7689\n"
     ]
    },
    {
     "name": "stderr",
     "output_type": "stream",
     "text": [
      "                                                                                             \r"
     ]
    },
    {
     "name": "stdout",
     "output_type": "stream",
     "text": [
      "Val Loss: 0.7201 Val Acc: 0.8494\n",
      "Validation loss decreased (0.7246 --> 0.7201). Saving model...\n",
      "Model saved to runs\\best_model.pth\n",
      "\n",
      "Epoch 56/10000 | Current LR: 0.000025\n",
      "----------\n"
     ]
    },
    {
     "name": "stderr",
     "output_type": "stream",
     "text": [
      "                                                                                             \r"
     ]
    },
    {
     "name": "stdout",
     "output_type": "stream",
     "text": [
      "Epoch 56: Performing final optimizer step for remaining 2 steps' gradients.\n",
      "Train Loss: 0.8363 Acc: 0.7543\n"
     ]
    },
    {
     "name": "stderr",
     "output_type": "stream",
     "text": [
      "                                                                                             \r"
     ]
    },
    {
     "name": "stdout",
     "output_type": "stream",
     "text": [
      "Val Loss: 0.6979 Val Acc: 0.8524\n",
      "Validation loss decreased (0.7201 --> 0.6979). Saving model...\n",
      "Model saved to runs\\best_model.pth\n",
      "\n",
      "Epoch 57/10000 | Current LR: 0.000025\n",
      "----------\n"
     ]
    },
    {
     "name": "stderr",
     "output_type": "stream",
     "text": [
      "                                                                                             \r"
     ]
    },
    {
     "name": "stdout",
     "output_type": "stream",
     "text": [
      "Epoch 57: Performing final optimizer step for remaining 2 steps' gradients.\n",
      "Train Loss: 0.8366 Acc: 0.7706\n"
     ]
    },
    {
     "name": "stderr",
     "output_type": "stream",
     "text": [
      "                                                                                             \r"
     ]
    },
    {
     "name": "stdout",
     "output_type": "stream",
     "text": [
      "Val Loss: 0.7994 Val Acc: 0.8223\n",
      "Validation loss did not improve for 1 epoch(s). Current best: 0.6979\n",
      "\n",
      "Epoch 58/10000 | Current LR: 0.000025\n",
      "----------\n"
     ]
    },
    {
     "name": "stderr",
     "output_type": "stream",
     "text": [
      "                                                                                             \r"
     ]
    },
    {
     "name": "stdout",
     "output_type": "stream",
     "text": [
      "Epoch 58: Performing final optimizer step for remaining 2 steps' gradients.\n",
      "Train Loss: 0.8443 Acc: 0.7629\n"
     ]
    },
    {
     "name": "stderr",
     "output_type": "stream",
     "text": [
      "                                                                                             \r"
     ]
    },
    {
     "name": "stdout",
     "output_type": "stream",
     "text": [
      "Val Loss: 0.7539 Val Acc: 0.8343\n",
      "Validation loss did not improve for 2 epoch(s). Current best: 0.6979\n",
      "\n",
      "Epoch 59/10000 | Current LR: 0.000025\n",
      "----------\n"
     ]
    },
    {
     "name": "stderr",
     "output_type": "stream",
     "text": [
      "                                                                                             \r"
     ]
    },
    {
     "name": "stdout",
     "output_type": "stream",
     "text": [
      "Epoch 59: Performing final optimizer step for remaining 2 steps' gradients.\n",
      "Train Loss: 0.8150 Acc: 0.7715\n"
     ]
    },
    {
     "name": "stderr",
     "output_type": "stream",
     "text": [
      "                                                                                             \r"
     ]
    },
    {
     "name": "stdout",
     "output_type": "stream",
     "text": [
      "Val Loss: 0.7849 Val Acc: 0.8343\n",
      "Validation loss did not improve for 3 epoch(s). Current best: 0.6979\n",
      "\n",
      "Epoch 60/10000 | Current LR: 0.000025\n",
      "----------\n"
     ]
    },
    {
     "name": "stderr",
     "output_type": "stream",
     "text": [
      "                                                                                             \r"
     ]
    },
    {
     "name": "stdout",
     "output_type": "stream",
     "text": [
      "Epoch 60: Performing final optimizer step for remaining 2 steps' gradients.\n",
      "Train Loss: 0.8308 Acc: 0.7766\n"
     ]
    },
    {
     "name": "stderr",
     "output_type": "stream",
     "text": [
      "                                                                                             \r"
     ]
    },
    {
     "name": "stdout",
     "output_type": "stream",
     "text": [
      "Val Loss: 0.7941 Val Acc: 0.8373\n",
      "Validation loss did not improve for 4 epoch(s). Current best: 0.6979\n",
      "\n",
      "Epoch 61/10000 | Current LR: 0.000025\n",
      "----------\n"
     ]
    },
    {
     "name": "stderr",
     "output_type": "stream",
     "text": [
      "                                                                                             \r"
     ]
    },
    {
     "name": "stdout",
     "output_type": "stream",
     "text": [
      "Epoch 61: Performing final optimizer step for remaining 2 steps' gradients.\n",
      "Train Loss: 0.8311 Acc: 0.7637\n"
     ]
    },
    {
     "name": "stderr",
     "output_type": "stream",
     "text": [
      "                                                                                             \r"
     ]
    },
    {
     "name": "stdout",
     "output_type": "stream",
     "text": [
      "Val Loss: 0.7592 Val Acc: 0.8133\n",
      "Validation loss did not improve for 5 epoch(s). Current best: 0.6979\n",
      "\n",
      "Epoch 62/10000 | Current LR: 0.000025\n",
      "----------\n"
     ]
    },
    {
     "name": "stderr",
     "output_type": "stream",
     "text": [
      "                                                                                             \r"
     ]
    },
    {
     "name": "stdout",
     "output_type": "stream",
     "text": [
      "Epoch 62: Performing final optimizer step for remaining 2 steps' gradients.\n",
      "Train Loss: 0.8262 Acc: 0.7775\n"
     ]
    },
    {
     "name": "stderr",
     "output_type": "stream",
     "text": [
      "                                                                                             \r"
     ]
    },
    {
     "name": "stdout",
     "output_type": "stream",
     "text": [
      "Val Loss: 0.7554 Val Acc: 0.8313\n",
      "Validation loss did not improve for 6 epoch(s). Current best: 0.6979\n",
      "\n",
      "Epoch 63/10000 | Current LR: 0.000013\n",
      "----------\n"
     ]
    },
    {
     "name": "stderr",
     "output_type": "stream",
     "text": [
      "                                                                                             \r"
     ]
    },
    {
     "name": "stdout",
     "output_type": "stream",
     "text": [
      "Epoch 63: Performing final optimizer step for remaining 2 steps' gradients.\n",
      "Train Loss: 0.8191 Acc: 0.7912\n"
     ]
    },
    {
     "name": "stderr",
     "output_type": "stream",
     "text": [
      "                                                                                             \r"
     ]
    },
    {
     "name": "stdout",
     "output_type": "stream",
     "text": [
      "Val Loss: 0.7455 Val Acc: 0.8434\n",
      "Validation loss did not improve for 7 epoch(s). Current best: 0.6979\n",
      "\n",
      "Epoch 64/10000 | Current LR: 0.000013\n",
      "----------\n"
     ]
    },
    {
     "name": "stderr",
     "output_type": "stream",
     "text": [
      "                                                                                             \r"
     ]
    },
    {
     "name": "stdout",
     "output_type": "stream",
     "text": [
      "Epoch 64: Performing final optimizer step for remaining 2 steps' gradients.\n",
      "Train Loss: 0.8159 Acc: 0.7826\n"
     ]
    },
    {
     "name": "stderr",
     "output_type": "stream",
     "text": [
      "                                                                                             \r"
     ]
    },
    {
     "name": "stdout",
     "output_type": "stream",
     "text": [
      "Val Loss: 0.7361 Val Acc: 0.8404\n",
      "Validation loss did not improve for 8 epoch(s). Current best: 0.6979\n",
      "\n",
      "Epoch 65/10000 | Current LR: 0.000013\n",
      "----------\n"
     ]
    },
    {
     "name": "stderr",
     "output_type": "stream",
     "text": [
      "                                                                                             \r"
     ]
    },
    {
     "name": "stdout",
     "output_type": "stream",
     "text": [
      "Epoch 65: Performing final optimizer step for remaining 2 steps' gradients.\n",
      "Train Loss: 0.8069 Acc: 0.7887\n"
     ]
    },
    {
     "name": "stderr",
     "output_type": "stream",
     "text": [
      "                                                                                             \r"
     ]
    },
    {
     "name": "stdout",
     "output_type": "stream",
     "text": [
      "Val Loss: 0.7209 Val Acc: 0.8464\n",
      "Validation loss did not improve for 9 epoch(s). Current best: 0.6979\n",
      "\n",
      "Epoch 66/10000 | Current LR: 0.000013\n",
      "----------\n"
     ]
    },
    {
     "name": "stderr",
     "output_type": "stream",
     "text": [
      "                                                                                             \r"
     ]
    },
    {
     "name": "stdout",
     "output_type": "stream",
     "text": [
      "Epoch 66: Performing final optimizer step for remaining 2 steps' gradients.\n",
      "Train Loss: 0.8297 Acc: 0.7784\n"
     ]
    },
    {
     "name": "stderr",
     "output_type": "stream",
     "text": [
      "                                                                                             \r"
     ]
    },
    {
     "name": "stdout",
     "output_type": "stream",
     "text": [
      "Val Loss: 0.7354 Val Acc: 0.8494\n",
      "Validation loss did not improve for 10 epoch(s). Current best: 0.6979\n",
      "\n",
      "Epoch 67/10000 | Current LR: 0.000013\n",
      "----------\n"
     ]
    },
    {
     "name": "stderr",
     "output_type": "stream",
     "text": [
      "                                                                                             \r"
     ]
    },
    {
     "name": "stdout",
     "output_type": "stream",
     "text": [
      "Epoch 67: Performing final optimizer step for remaining 2 steps' gradients.\n",
      "Train Loss: 0.7939 Acc: 0.7887\n"
     ]
    },
    {
     "name": "stderr",
     "output_type": "stream",
     "text": [
      "                                                                                             \r"
     ]
    },
    {
     "name": "stdout",
     "output_type": "stream",
     "text": [
      "Val Loss: 0.7308 Val Acc: 0.8223\n",
      "Validation loss did not improve for 11 epoch(s). Current best: 0.6979\n",
      "\n",
      "Epoch 68/10000 | Current LR: 0.000013\n",
      "----------\n"
     ]
    },
    {
     "name": "stderr",
     "output_type": "stream",
     "text": [
      "                                                                                             \r"
     ]
    },
    {
     "name": "stdout",
     "output_type": "stream",
     "text": [
      "Epoch 68: Performing final optimizer step for remaining 2 steps' gradients.\n",
      "Train Loss: 0.8027 Acc: 0.7844\n"
     ]
    },
    {
     "name": "stderr",
     "output_type": "stream",
     "text": [
      "                                                                                             \r"
     ]
    },
    {
     "name": "stdout",
     "output_type": "stream",
     "text": [
      "Val Loss: 0.7132 Val Acc: 0.8464\n",
      "Validation loss did not improve for 12 epoch(s). Current best: 0.6979\n",
      "\n",
      "Epoch 69/10000 | Current LR: 0.000006\n",
      "----------\n"
     ]
    },
    {
     "name": "stderr",
     "output_type": "stream",
     "text": [
      "                                                                                             \r"
     ]
    },
    {
     "name": "stdout",
     "output_type": "stream",
     "text": [
      "Epoch 69: Performing final optimizer step for remaining 2 steps' gradients.\n",
      "Train Loss: 0.8024 Acc: 0.7921\n"
     ]
    },
    {
     "name": "stderr",
     "output_type": "stream",
     "text": [
      "                                                                                             \r"
     ]
    },
    {
     "name": "stdout",
     "output_type": "stream",
     "text": [
      "Val Loss: 0.7412 Val Acc: 0.8464\n",
      "Validation loss did not improve for 13 epoch(s). Current best: 0.6979\n",
      "\n",
      "Epoch 70/10000 | Current LR: 0.000006\n",
      "----------\n"
     ]
    },
    {
     "name": "stderr",
     "output_type": "stream",
     "text": [
      "                                                                                             \r"
     ]
    },
    {
     "name": "stdout",
     "output_type": "stream",
     "text": [
      "Epoch 70: Performing final optimizer step for remaining 2 steps' gradients.\n",
      "Train Loss: 0.8146 Acc: 0.7878\n"
     ]
    },
    {
     "name": "stderr",
     "output_type": "stream",
     "text": [
      "                                                                                             \r"
     ]
    },
    {
     "name": "stdout",
     "output_type": "stream",
     "text": [
      "Val Loss: 0.7358 Val Acc: 0.8373\n",
      "Validation loss did not improve for 14 epoch(s). Current best: 0.6979\n",
      "\n",
      "Epoch 71/10000 | Current LR: 0.000006\n",
      "----------\n"
     ]
    },
    {
     "name": "stderr",
     "output_type": "stream",
     "text": [
      "                                                                                             \r"
     ]
    },
    {
     "name": "stdout",
     "output_type": "stream",
     "text": [
      "Epoch 71: Performing final optimizer step for remaining 2 steps' gradients.\n",
      "Train Loss: 0.7961 Acc: 0.7973\n"
     ]
    },
    {
     "name": "stderr",
     "output_type": "stream",
     "text": [
      "                                                                                             \r"
     ]
    },
    {
     "name": "stdout",
     "output_type": "stream",
     "text": [
      "Val Loss: 0.7112 Val Acc: 0.8404\n",
      "Validation loss did not improve for 15 epoch(s). Current best: 0.6979\n",
      "\n",
      "Epoch 72/10000 | Current LR: 0.000006\n",
      "----------\n"
     ]
    },
    {
     "name": "stderr",
     "output_type": "stream",
     "text": [
      "                                                                                             \r"
     ]
    },
    {
     "name": "stdout",
     "output_type": "stream",
     "text": [
      "Epoch 72: Performing final optimizer step for remaining 2 steps' gradients.\n",
      "Train Loss: 0.8074 Acc: 0.7818\n"
     ]
    },
    {
     "name": "stderr",
     "output_type": "stream",
     "text": [
      "                                                                                             \r"
     ]
    },
    {
     "name": "stdout",
     "output_type": "stream",
     "text": [
      "Val Loss: 0.7103 Val Acc: 0.8313\n",
      "Validation loss did not improve for 16 epoch(s). Current best: 0.6979\n",
      "\n",
      "Epoch 73/10000 | Current LR: 0.000006\n",
      "----------\n"
     ]
    },
    {
     "name": "stderr",
     "output_type": "stream",
     "text": [
      "                                                                                             \r"
     ]
    },
    {
     "name": "stdout",
     "output_type": "stream",
     "text": [
      "Epoch 73: Performing final optimizer step for remaining 2 steps' gradients.\n",
      "Train Loss: 0.7931 Acc: 0.8050\n"
     ]
    },
    {
     "name": "stderr",
     "output_type": "stream",
     "text": [
      "                                                                                             \r"
     ]
    },
    {
     "name": "stdout",
     "output_type": "stream",
     "text": [
      "Val Loss: 0.7064 Val Acc: 0.8373\n",
      "Validation loss did not improve for 17 epoch(s). Current best: 0.6979\n",
      "\n",
      "Epoch 74/10000 | Current LR: 0.000006\n",
      "----------\n"
     ]
    },
    {
     "name": "stderr",
     "output_type": "stream",
     "text": [
      "                                                                                             \r"
     ]
    },
    {
     "name": "stdout",
     "output_type": "stream",
     "text": [
      "Epoch 74: Performing final optimizer step for remaining 2 steps' gradients.\n",
      "Train Loss: 0.8067 Acc: 0.7861\n"
     ]
    },
    {
     "name": "stderr",
     "output_type": "stream",
     "text": [
      "                                                                                             \r"
     ]
    },
    {
     "name": "stdout",
     "output_type": "stream",
     "text": [
      "Val Loss: 0.7275 Val Acc: 0.8313\n",
      "Validation loss did not improve for 18 epoch(s). Current best: 0.6979\n",
      "\n",
      "Epoch 75/10000 | Current LR: 0.000003\n",
      "----------\n"
     ]
    },
    {
     "name": "stderr",
     "output_type": "stream",
     "text": [
      "                                                                                             \r"
     ]
    },
    {
     "name": "stdout",
     "output_type": "stream",
     "text": [
      "Epoch 75: Performing final optimizer step for remaining 2 steps' gradients.\n",
      "Train Loss: 0.8075 Acc: 0.7680\n"
     ]
    },
    {
     "name": "stderr",
     "output_type": "stream",
     "text": [
      "                                                                                             \r"
     ]
    },
    {
     "name": "stdout",
     "output_type": "stream",
     "text": [
      "Val Loss: 0.6980 Val Acc: 0.8464\n",
      "Validation loss did not improve for 19 epoch(s). Current best: 0.6979\n",
      "\n",
      "Epoch 76/10000 | Current LR: 0.000003\n",
      "----------\n"
     ]
    },
    {
     "name": "stderr",
     "output_type": "stream",
     "text": [
      "                                                                                             \r"
     ]
    },
    {
     "name": "stdout",
     "output_type": "stream",
     "text": [
      "Epoch 76: Performing final optimizer step for remaining 2 steps' gradients.\n",
      "Train Loss: 0.7869 Acc: 0.7895\n"
     ]
    },
    {
     "name": "stderr",
     "output_type": "stream",
     "text": [
      "                                                                                             \r"
     ]
    },
    {
     "name": "stdout",
     "output_type": "stream",
     "text": [
      "Val Loss: 0.7374 Val Acc: 0.8283\n",
      "Validation loss did not improve for 20 epoch(s). Current best: 0.6979\n",
      "Early stopping triggered after 76 epochs!\n",
      "\n",
      "Training complete in 253m 57s\n",
      "Best Validation Loss: 0.6979\n",
      "Validation Accuracy at Best Loss: 0.8524\n",
      "Loading best model weights from runs\\best_model.pth\n",
      "Visualizing loss curves...\n"
     ]
    },
    {
     "data": {
      "image/png": "[encoded data removed]",
      "text/plain": [
       "<Figure size 1000x600 with 1 Axes>"
      ]
     },
     "metadata": {},
     "output_type": "display_data"
    }
   ],
   "source": [
    "%run train.py --task A --model_name Attention --epochs 10000 --learning_rate 1e-4 --optimizer adamw --weight_decay 5e-4 --loss_function label_smoothing --label_smoothing_epsilon 0.1 --augmentation_level strong --patience 20 --area_attn_heads 16 --area_attn_split_factor 8 --batch_size 8 --accumulation_steps 4 --num_relan_blocks 2 2 4 2 --warmup_epochs 3 --scheduler_patience 5 --scheduler_factor 0.5"
   ]
  },
  {
   "cell_type": "code",
   "execution_count": null,
   "id": "f1794a6d",
   "metadata": {},
   "outputs": [
    {
     "name": "stdout",
     "output_type": "stream",
     "text": [
      "PyTorch version: 2.6.0+cu126\n",
      "CUDA available: True\n",
      "CUDA version: 12.6\n",
      "Device name: NVIDIA GeForce RTX 3060 Ti\n",
      "Looking for data in: c:\\Users\\Wangzy\\Desktop\\9444\\data\n",
      "Creating data loaders with actual batch size: 8, augmentation: strong, workers: 4\n",
      "IMPORTANT: Ensure data_loader.py is configured for the desired image size (e.g., 256x256).\n",
      "Successfully created data loaders. Determined num_classes: 4\n",
      "Using device: cuda:0\n",
      "Number of classes: 4\n",
      "Loss function 'label_smoothing' loaded successfully.\n",
      " Stage 0: Using attention pattern: ('cbam', 'area', 'cbam')\n",
      " Stage 1: Using attention pattern: ('area', 'cbam', 'area')\n",
      " Stage 2: Using attention pattern: ('cbam', 'area', 'cbam')\n",
      " Stage 3: Using attention pattern: ('area', 'cbam', 'area')\n"
     ]
    },
    {
     "name": "stderr",
     "output_type": "stream",
     "text": [
      "c:\\Users\\Wangzy\\Desktop\\9444\\.venv\\Lib\\site-packages\\albumentations\\core\\validation.py:87: UserWarning: ShiftScaleRotate is a special case of Affine transform. Please use Affine transform instead.\n",
      "  original_init(self, **validated_kwargs)\n",
      "c:\\Users\\Wangzy\\Desktop\\9444\\.venv\\Lib\\site-packages\\torch\\optim\\lr_scheduler.py:62: UserWarning: The verbose parameter is deprecated. Please use get_last_lr() to access the learning rate.\n",
      "  warnings.warn(\n"
     ]
    },
    {
     "name": "stdout",
     "output_type": "stream",
     "text": [
      "Model 'Attention' initialized successfully.\n",
      "Optimizer 'sgd' initialized successfully.\n",
      "Using ReduceLROnPlateau scheduler.\n",
      "\n",
      "----- Training Configuration -----\n",
      "Model: Attention\n",
      "Task: A\n",
      "Number of classes: 4\n",
      "Actual Batch size: 8\n",
      "Gradient Accumulation Steps: 4\n",
      "Effective Batch Size: 32\n",
      "Max number of epochs: 10000\n",
      "Early Stopping Patience: 20\n",
      "Initial Learning rate: 0.0001\n",
      "Optimizer: sgd\n",
      "  Momentum: 0.9\n",
      "  Weight Decay: 0.0005\n",
      "Loss function: label_smoothing\n",
      "  Label Smoothing Epsilon: 0.1\n",
      "Data Augmentation: strong\n",
      "Warmup Epochs: 3\n",
      "LR Scheduler: plateau\n",
      "  Scheduler Patience: 5\n",
      "  Scheduler Factor: 0.5\n",
      "Gradient Clipping Value: Disabled\n",
      "Num Workers: 4\n",
      "Device: cuda:0\n",
      "Attention Model Specific Params:\n",
      "  Backbone Channels: 64\n",
      "  Stage Channels: [128, 256, 512, 1024]\n",
      "  Stage Hidden Channels: [64, 128, 256, 512]\n",
      "  Num RELAN Blocks: [2, 2, 4, 2]\n",
      "  RELAN Branches: 4\n",
      "  Area Attention Heads: 16\n",
      "  Area Attention Split Factor: 8\n",
      "  CBAM Reduction: 16\n",
      "  CBAM Kernel Size: 7\n",
      "  Activation: silu\n",
      "----------------------------------\n",
      "----- Start Training -----\n",
      "Early stopping patience set to: 20 epochs\n",
      "Warmup enabled for the first 3 epochs, up to LR 0.000100.\n",
      "Using LR Scheduler: ReduceLROnPlateau\n",
      "  Scheduler Mode: min, Factor: 0.5, Patience: 5, Threshold: 0.0001\n",
      "Gradient Accumulation enabled. Accumulating over 4 steps.\n",
      "Actual Batch Size: 8, Effective Batch Size: 32\n",
      "Gradient Clipping disabled.\n",
      "\n",
      "Epoch 1/10000 | Current LR: 0.000100\n",
      "----------\n",
      "  Warmup Epoch 1/3: Adjusted LR to 0.000033\n"
     ]
    },
    {
     "name": "stderr",
     "output_type": "stream",
     "text": [
      "                                                                                            \r"
     ]
    },
    {
     "name": "stdout",
     "output_type": "stream",
     "text": [
      "Epoch 1: Performing final optimizer step for remaining 2 steps' gradients.\n",
      "Train Loss: 1.3863 Acc: 0.3548\n"
     ]
    },
    {
     "name": "stderr",
     "output_type": "stream",
     "text": [
      "                                                                                            \r"
     ]
    },
    {
     "name": "stdout",
     "output_type": "stream",
     "text": [
      "Val Loss: 1.3723 Val Acc: 0.4066\n",
      "Validation loss decreased (inf --> 1.3723). Saving model...\n",
      "Model saved to runs\\best_model.pth\n",
      "\n",
      "Epoch 2/10000 | Current LR: 0.000033\n",
      "----------\n",
      "  Warmup Epoch 2/3: Adjusted LR to 0.000067\n"
     ]
    },
    {
     "name": "stderr",
     "output_type": "stream",
     "text": [
      "                                                                                            \r"
     ]
    },
    {
     "name": "stdout",
     "output_type": "stream",
     "text": [
      "Epoch 2: Performing final optimizer step for remaining 2 steps' gradients.\n",
      "Train Loss: 1.3697 Acc: 0.3926\n"
     ]
    },
    {
     "name": "stderr",
     "output_type": "stream",
     "text": [
      "                                                                                            \r"
     ]
    },
    {
     "name": "stdout",
     "output_type": "stream",
     "text": [
      "Val Loss: 1.3565 Val Acc: 0.4096\n",
      "Validation loss decreased (1.3723 --> 1.3565). Saving model...\n",
      "Model saved to runs\\best_model.pth\n",
      "\n",
      "Epoch 3/10000 | Current LR: 0.000067\n",
      "----------\n",
      "  Warmup Epoch 3/3: Adjusted LR to 0.000100\n"
     ]
    },
    {
     "name": "stderr",
     "output_type": "stream",
     "text": [
      "                                                                                            \r"
     ]
    },
    {
     "name": "stdout",
     "output_type": "stream",
     "text": [
      "Epoch 3: Performing final optimizer step for remaining 2 steps' gradients.\n",
      "Train Loss: 1.3599 Acc: 0.3780\n"
     ]
    },
    {
     "name": "stderr",
     "output_type": "stream",
     "text": [
      "                                                                                            \r"
     ]
    },
    {
     "name": "stdout",
     "output_type": "stream",
     "text": [
      "Val Loss: 1.3440 Val Acc: 0.4096\n",
      "Validation loss decreased (1.3565 --> 1.3440). Saving model...\n",
      "Model saved to runs\\best_model.pth\n",
      "\n",
      "Epoch 4/10000 | Current LR: 0.000100\n",
      "----------\n"
     ]
    },
    {
     "name": "stderr",
     "output_type": "stream",
     "text": [
      "                                                                                            \r"
     ]
    },
    {
     "name": "stdout",
     "output_type": "stream",
     "text": [
      "Epoch 4: Performing final optimizer step for remaining 2 steps' gradients.\n",
      "Train Loss: 1.3542 Acc: 0.3952\n"
     ]
    },
    {
     "name": "stderr",
     "output_type": "stream",
     "text": [
      "                                                                                            \r"
     ]
    },
    {
     "name": "stdout",
     "output_type": "stream",
     "text": [
      "Val Loss: 1.3408 Val Acc: 0.4066\n",
      "Validation loss decreased (1.3440 --> 1.3408). Saving model...\n",
      "Model saved to runs\\best_model.pth\n",
      "\n",
      "Epoch 5/10000 | Current LR: 0.000100\n",
      "----------\n"
     ]
    },
    {
     "name": "stderr",
     "output_type": "stream",
     "text": [
      "                                                                                            \r"
     ]
    },
    {
     "name": "stdout",
     "output_type": "stream",
     "text": [
      "Epoch 5: Performing final optimizer step for remaining 2 steps' gradients.\n",
      "Train Loss: 1.3570 Acc: 0.3840\n"
     ]
    },
    {
     "name": "stderr",
     "output_type": "stream",
     "text": [
      "                                                                                            \r"
     ]
    },
    {
     "name": "stdout",
     "output_type": "stream",
     "text": [
      "Val Loss: 1.3381 Val Acc: 0.4066\n",
      "Validation loss decreased (1.3408 --> 1.3381). Saving model...\n",
      "Model saved to runs\\best_model.pth\n",
      "\n",
      "Epoch 6/10000 | Current LR: 0.000100\n",
      "----------\n"
     ]
    },
    {
     "name": "stderr",
     "output_type": "stream",
     "text": [
      "                                                                                            \r"
     ]
    },
    {
     "name": "stdout",
     "output_type": "stream",
     "text": [
      "Epoch 6: Performing final optimizer step for remaining 2 steps' gradients.\n",
      "Train Loss: 1.3584 Acc: 0.3875\n"
     ]
    },
    {
     "name": "stderr",
     "output_type": "stream",
     "text": [
      "                                                                                            \r"
     ]
    },
    {
     "name": "stdout",
     "output_type": "stream",
     "text": [
      "Val Loss: 1.3366 Val Acc: 0.4096\n",
      "Validation loss decreased (1.3381 --> 1.3366). Saving model...\n",
      "Model saved to runs\\best_model.pth\n",
      "\n",
      "Epoch 7/10000 | Current LR: 0.000100\n",
      "----------\n"
     ]
    },
    {
     "name": "stderr",
     "output_type": "stream",
     "text": [
      "                                                                                            \r"
     ]
    },
    {
     "name": "stdout",
     "output_type": "stream",
     "text": [
      "Epoch 7: Performing final optimizer step for remaining 2 steps' gradients.\n",
      "Train Loss: 1.3482 Acc: 0.3883\n"
     ]
    },
    {
     "name": "stderr",
     "output_type": "stream",
     "text": [
      "                                                                                            \r"
     ]
    },
    {
     "name": "stdout",
     "output_type": "stream",
     "text": [
      "Val Loss: 1.3359 Val Acc: 0.4096\n",
      "Validation loss decreased (1.3366 --> 1.3359). Saving model...\n",
      "Model saved to runs\\best_model.pth\n",
      "\n",
      "Epoch 8/10000 | Current LR: 0.000100\n",
      "----------\n"
     ]
    },
    {
     "name": "stderr",
     "output_type": "stream",
     "text": [
      "                                                                                            \r"
     ]
    },
    {
     "name": "stdout",
     "output_type": "stream",
     "text": [
      "Epoch 8: Performing final optimizer step for remaining 2 steps' gradients.\n",
      "Train Loss: 1.3501 Acc: 0.3814\n"
     ]
    },
    {
     "name": "stderr",
     "output_type": "stream",
     "text": [
      "                                                                                            \r"
     ]
    },
    {
     "name": "stdout",
     "output_type": "stream",
     "text": [
      "Val Loss: 1.3351 Val Acc: 0.4096\n",
      "Validation loss decreased (1.3359 --> 1.3351). Saving model...\n",
      "Model saved to runs\\best_model.pth\n",
      "\n",
      "Epoch 9/10000 | Current LR: 0.000100\n",
      "----------\n"
     ]
    },
    {
     "name": "stderr",
     "output_type": "stream",
     "text": [
      "                                                                                            \r"
     ]
    },
    {
     "name": "stdout",
     "output_type": "stream",
     "text": [
      "Epoch 9: Performing final optimizer step for remaining 2 steps' gradients.\n",
      "Train Loss: 1.3507 Acc: 0.3918\n"
     ]
    },
    {
     "name": "stderr",
     "output_type": "stream",
     "text": [
      "                                                                                            \r"
     ]
    },
    {
     "name": "stdout",
     "output_type": "stream",
     "text": [
      "Val Loss: 1.3342 Val Acc: 0.4096\n",
      "Validation loss decreased (1.3351 --> 1.3342). Saving model...\n",
      "Model saved to runs\\best_model.pth\n",
      "\n",
      "Epoch 10/10000 | Current LR: 0.000100\n",
      "----------\n"
     ]
    },
    {
     "name": "stderr",
     "output_type": "stream",
     "text": [
      "                                                                                             \r"
     ]
    },
    {
     "name": "stdout",
     "output_type": "stream",
     "text": [
      "Epoch 10: Performing final optimizer step for remaining 2 steps' gradients.\n",
      "Train Loss: 1.3541 Acc: 0.3866\n"
     ]
    },
    {
     "name": "stderr",
     "output_type": "stream",
     "text": [
      "                                                                                             \r"
     ]
    },
    {
     "name": "stdout",
     "output_type": "stream",
     "text": [
      "Val Loss: 1.3344 Val Acc: 0.4096\n",
      "Validation loss did not improve for 1 epoch(s). Current best: 1.3342\n",
      "\n",
      "Epoch 11/10000 | Current LR: 0.000100\n",
      "----------\n"
     ]
    },
    {
     "name": "stderr",
     "output_type": "stream",
     "text": [
      "                                                                                             \r"
     ]
    },
    {
     "name": "stdout",
     "output_type": "stream",
     "text": [
      "Epoch 11: Performing final optimizer step for remaining 2 steps' gradients.\n",
      "Train Loss: 1.3516 Acc: 0.3918\n"
     ]
    },
    {
     "name": "stderr",
     "output_type": "stream",
     "text": [
      "                                                                                             \r"
     ]
    },
    {
     "name": "stdout",
     "output_type": "stream",
     "text": [
      "Val Loss: 1.3341 Val Acc: 0.4096\n",
      "Validation loss decreased (1.3342 --> 1.3341). Saving model...\n",
      "Model saved to runs\\best_model.pth\n",
      "\n",
      "Epoch 12/10000 | Current LR: 0.000100\n",
      "----------\n"
     ]
    },
    {
     "name": "stderr",
     "output_type": "stream",
     "text": [
      "                                                                                             \r"
     ]
    },
    {
     "name": "stdout",
     "output_type": "stream",
     "text": [
      "Epoch 12: Performing final optimizer step for remaining 2 steps' gradients.\n",
      "Train Loss: 1.3533 Acc: 0.3840\n"
     ]
    },
    {
     "name": "stderr",
     "output_type": "stream",
     "text": [
      "                                                                                             \r"
     ]
    },
    {
     "name": "stdout",
     "output_type": "stream",
     "text": [
      "Val Loss: 1.3342 Val Acc: 0.4096\n",
      "Validation loss did not improve for 1 epoch(s). Current best: 1.3341\n",
      "\n",
      "Epoch 13/10000 | Current LR: 0.000100\n",
      "----------\n"
     ]
    },
    {
     "name": "stderr",
     "output_type": "stream",
     "text": [
      "                                                                                             \r"
     ]
    },
    {
     "name": "stdout",
     "output_type": "stream",
     "text": [
      "Epoch 13: Performing final optimizer step for remaining 2 steps' gradients.\n",
      "Train Loss: 1.3487 Acc: 0.3952\n"
     ]
    },
    {
     "name": "stderr",
     "output_type": "stream",
     "text": [
      "                                                                                             \r"
     ]
    },
    {
     "name": "stdout",
     "output_type": "stream",
     "text": [
      "Val Loss: 1.3337 Val Acc: 0.4096\n",
      "Validation loss decreased (1.3341 --> 1.3337). Saving model...\n",
      "Model saved to runs\\best_model.pth\n",
      "\n",
      "Epoch 14/10000 | Current LR: 0.000100\n",
      "----------\n"
     ]
    },
    {
     "name": "stderr",
     "output_type": "stream",
     "text": [
      "                                                                                             \r"
     ]
    },
    {
     "name": "stdout",
     "output_type": "stream",
     "text": [
      "Epoch 14: Performing final optimizer step for remaining 2 steps' gradients.\n",
      "Train Loss: 1.3476 Acc: 0.3969\n"
     ]
    },
    {
     "name": "stderr",
     "output_type": "stream",
     "text": [
      "                                                                                             \r"
     ]
    },
    {
     "name": "stdout",
     "output_type": "stream",
     "text": [
      "Val Loss: 1.3333 Val Acc: 0.4096\n",
      "Validation loss decreased (1.3337 --> 1.3333). Saving model...\n",
      "Model saved to runs\\best_model.pth\n",
      "\n",
      "Epoch 15/10000 | Current LR: 0.000100\n",
      "----------\n"
     ]
    },
    {
     "name": "stderr",
     "output_type": "stream",
     "text": [
      "                                                                                             \r"
     ]
    },
    {
     "name": "stdout",
     "output_type": "stream",
     "text": [
      "Epoch 15: Performing final optimizer step for remaining 2 steps' gradients.\n",
      "Train Loss: 1.3477 Acc: 0.3978\n"
     ]
    },
    {
     "name": "stderr",
     "output_type": "stream",
     "text": [
      "                                                                                             \r"
     ]
    },
    {
     "name": "stdout",
     "output_type": "stream",
     "text": [
      "Val Loss: 1.3333 Val Acc: 0.4096\n",
      "Validation loss did not improve for 1 epoch(s). Current best: 1.3333\n",
      "\n",
      "Epoch 16/10000 | Current LR: 0.000100\n",
      "----------\n"
     ]
    },
    {
     "name": "stderr",
     "output_type": "stream",
     "text": [
      "                                                                                             \r"
     ]
    },
    {
     "name": "stdout",
     "output_type": "stream",
     "text": [
      "Epoch 16: Performing final optimizer step for remaining 2 steps' gradients.\n",
      "Train Loss: 1.3480 Acc: 0.3866\n"
     ]
    },
    {
     "name": "stderr",
     "output_type": "stream",
     "text": [
      "                                                                                             \r"
     ]
    },
    {
     "name": "stdout",
     "output_type": "stream",
     "text": [
      "Val Loss: 1.3334 Val Acc: 0.4096\n",
      "Validation loss did not improve for 2 epoch(s). Current best: 1.3333\n",
      "\n",
      "Epoch 17/10000 | Current LR: 0.000100\n",
      "----------\n"
     ]
    },
    {
     "name": "stderr",
     "output_type": "stream",
     "text": [
      "                                                                                             \r"
     ]
    },
    {
     "name": "stdout",
     "output_type": "stream",
     "text": [
      "Epoch 17: Performing final optimizer step for remaining 2 steps' gradients.\n",
      "Train Loss: 1.3510 Acc: 0.3883\n"
     ]
    },
    {
     "name": "stderr",
     "output_type": "stream",
     "text": [
      "                                                                                             \r"
     ]
    },
    {
     "name": "stdout",
     "output_type": "stream",
     "text": [
      "Val Loss: 1.3337 Val Acc: 0.4096\n",
      "Validation loss did not improve for 3 epoch(s). Current best: 1.3333\n",
      "\n",
      "Epoch 18/10000 | Current LR: 0.000100\n",
      "----------\n"
     ]
    },
    {
     "name": "stderr",
     "output_type": "stream",
     "text": [
      "                                                                                             \r"
     ]
    },
    {
     "name": "stdout",
     "output_type": "stream",
     "text": [
      "Epoch 18: Performing final optimizer step for remaining 2 steps' gradients.\n",
      "Train Loss: 1.3474 Acc: 0.3892\n"
     ]
    },
    {
     "name": "stderr",
     "output_type": "stream",
     "text": [
      "                                                                                             \r"
     ]
    },
    {
     "name": "stdout",
     "output_type": "stream",
     "text": [
      "Val Loss: 1.3319 Val Acc: 0.4096\n",
      "Validation loss decreased (1.3333 --> 1.3319). Saving model...\n",
      "Model saved to runs\\best_model.pth\n",
      "\n",
      "Epoch 19/10000 | Current LR: 0.000100\n",
      "----------\n"
     ]
    },
    {
     "name": "stderr",
     "output_type": "stream",
     "text": [
      "                                                                                             \r"
     ]
    },
    {
     "name": "stdout",
     "output_type": "stream",
     "text": [
      "Epoch 19: Performing final optimizer step for remaining 2 steps' gradients.\n",
      "Train Loss: 1.3469 Acc: 0.3892\n"
     ]
    },
    {
     "name": "stderr",
     "output_type": "stream",
     "text": [
      "                                                                                             \r"
     ]
    },
    {
     "name": "stdout",
     "output_type": "stream",
     "text": [
      "Val Loss: 1.3311 Val Acc: 0.4096\n",
      "Validation loss decreased (1.3319 --> 1.3311). Saving model...\n",
      "Model saved to runs\\best_model.pth\n",
      "\n",
      "Epoch 20/10000 | Current LR: 0.000100\n",
      "----------\n"
     ]
    },
    {
     "name": "stderr",
     "output_type": "stream",
     "text": [
      "                                                                                             \r"
     ]
    },
    {
     "name": "stdout",
     "output_type": "stream",
     "text": [
      "Epoch 20: Performing final optimizer step for remaining 2 steps' gradients.\n",
      "Train Loss: 1.3414 Acc: 0.3832\n"
     ]
    },
    {
     "name": "stderr",
     "output_type": "stream",
     "text": [
      "                                                                                             \r"
     ]
    },
    {
     "name": "stdout",
     "output_type": "stream",
     "text": [
      "Val Loss: 1.3312 Val Acc: 0.4096\n",
      "Validation loss did not improve for 1 epoch(s). Current best: 1.3311\n",
      "\n",
      "Epoch 21/10000 | Current LR: 0.000100\n",
      "----------\n"
     ]
    },
    {
     "name": "stderr",
     "output_type": "stream",
     "text": [
      "                                                                                             \r"
     ]
    },
    {
     "name": "stdout",
     "output_type": "stream",
     "text": [
      "Epoch 21: Performing final optimizer step for remaining 2 steps' gradients.\n",
      "Train Loss: 1.3459 Acc: 0.3883\n"
     ]
    },
    {
     "name": "stderr",
     "output_type": "stream",
     "text": [
      "                                                                                             \r"
     ]
    },
    {
     "name": "stdout",
     "output_type": "stream",
     "text": [
      "Val Loss: 1.3325 Val Acc: 0.4096\n",
      "Validation loss did not improve for 2 epoch(s). Current best: 1.3311\n",
      "\n",
      "Epoch 22/10000 | Current LR: 0.000100\n",
      "----------\n"
     ]
    },
    {
     "name": "stderr",
     "output_type": "stream",
     "text": [
      "                                                                                             \r"
     ]
    },
    {
     "name": "stdout",
     "output_type": "stream",
     "text": [
      "Epoch 22: Performing final optimizer step for remaining 2 steps' gradients.\n",
      "Train Loss: 1.3472 Acc: 0.3935\n"
     ]
    },
    {
     "name": "stderr",
     "output_type": "stream",
     "text": [
      "                                                                                             \r"
     ]
    },
    {
     "name": "stdout",
     "output_type": "stream",
     "text": [
      "Val Loss: 1.3320 Val Acc: 0.4096\n",
      "Validation loss did not improve for 3 epoch(s). Current best: 1.3311\n",
      "\n",
      "Epoch 23/10000 | Current LR: 0.000100\n",
      "----------\n"
     ]
    },
    {
     "name": "stderr",
     "output_type": "stream",
     "text": [
      "                                                                                             \r"
     ]
    },
    {
     "name": "stdout",
     "output_type": "stream",
     "text": [
      "Epoch 23: Performing final optimizer step for remaining 2 steps' gradients.\n",
      "Train Loss: 1.3467 Acc: 0.3926\n"
     ]
    },
    {
     "name": "stderr",
     "output_type": "stream",
     "text": [
      "                                                                                             \r"
     ]
    },
    {
     "name": "stdout",
     "output_type": "stream",
     "text": [
      "Val Loss: 1.3316 Val Acc: 0.4096\n",
      "Validation loss did not improve for 4 epoch(s). Current best: 1.3311\n",
      "\n",
      "Epoch 24/10000 | Current LR: 0.000100\n",
      "----------\n"
     ]
    },
    {
     "name": "stderr",
     "output_type": "stream",
     "text": [
      "                                                                                             \r"
     ]
    },
    {
     "name": "stdout",
     "output_type": "stream",
     "text": [
      "Epoch 24: Performing final optimizer step for remaining 2 steps' gradients.\n",
      "Train Loss: 1.3477 Acc: 0.3892\n"
     ]
    },
    {
     "name": "stderr",
     "output_type": "stream",
     "text": [
      "                                                                                             \r"
     ]
    },
    {
     "name": "stdout",
     "output_type": "stream",
     "text": [
      "Val Loss: 1.3312 Val Acc: 0.4096\n",
      "Validation loss did not improve for 5 epoch(s). Current best: 1.3311\n",
      "\n",
      "Epoch 25/10000 | Current LR: 0.000100\n",
      "----------\n"
     ]
    },
    {
     "name": "stderr",
     "output_type": "stream",
     "text": [
      "                                                                                             \r"
     ]
    },
    {
     "name": "stdout",
     "output_type": "stream",
     "text": [
      "Epoch 25: Performing final optimizer step for remaining 2 steps' gradients.\n",
      "Train Loss: 1.3501 Acc: 0.3849\n"
     ]
    },
    {
     "name": "stderr",
     "output_type": "stream",
     "text": [
      "                                                                                             \r"
     ]
    },
    {
     "name": "stdout",
     "output_type": "stream",
     "text": [
      "Val Loss: 1.3309 Val Acc: 0.4096\n",
      "Validation loss decreased (1.3311 --> 1.3309). Saving model...\n",
      "Model saved to runs\\best_model.pth\n",
      "\n",
      "Epoch 26/10000 | Current LR: 0.000100\n",
      "----------\n"
     ]
    },
    {
     "name": "stderr",
     "output_type": "stream",
     "text": [
      "                                                                                             \r"
     ]
    },
    {
     "name": "stdout",
     "output_type": "stream",
     "text": [
      "Epoch 26: Performing final optimizer step for remaining 2 steps' gradients.\n",
      "Train Loss: 1.3443 Acc: 0.3978\n"
     ]
    },
    {
     "name": "stderr",
     "output_type": "stream",
     "text": [
      "                                                                                             \r"
     ]
    },
    {
     "name": "stdout",
     "output_type": "stream",
     "text": [
      "Val Loss: 1.3305 Val Acc: 0.4096\n",
      "Validation loss decreased (1.3309 --> 1.3305). Saving model...\n",
      "Model saved to runs\\best_model.pth\n",
      "\n",
      "Epoch 27/10000 | Current LR: 0.000100\n",
      "----------\n"
     ]
    },
    {
     "name": "stderr",
     "output_type": "stream",
     "text": [
      "                                                                                             \r"
     ]
    },
    {
     "name": "stdout",
     "output_type": "stream",
     "text": [
      "Epoch 27: Performing final optimizer step for remaining 2 steps' gradients.\n",
      "Train Loss: 1.3481 Acc: 0.3909\n"
     ]
    },
    {
     "name": "stderr",
     "output_type": "stream",
     "text": [
      "                                                                                             \r"
     ]
    },
    {
     "name": "stdout",
     "output_type": "stream",
     "text": [
      "Val Loss: 1.3305 Val Acc: 0.4096\n",
      "Validation loss decreased (1.3305 --> 1.3305). Saving model...\n",
      "Model saved to runs\\best_model.pth\n",
      "\n",
      "Epoch 28/10000 | Current LR: 0.000100\n",
      "----------\n"
     ]
    },
    {
     "name": "stderr",
     "output_type": "stream",
     "text": [
      "                                                                                             \r"
     ]
    },
    {
     "name": "stdout",
     "output_type": "stream",
     "text": [
      "Epoch 28: Performing final optimizer step for remaining 2 steps' gradients.\n",
      "Train Loss: 1.3469 Acc: 0.3892\n"
     ]
    },
    {
     "name": "stderr",
     "output_type": "stream",
     "text": [
      "                                                                                             \r"
     ]
    },
    {
     "name": "stdout",
     "output_type": "stream",
     "text": [
      "Val Loss: 1.3304 Val Acc: 0.4096\n",
      "Validation loss decreased (1.3305 --> 1.3304). Saving model...\n",
      "Model saved to runs\\best_model.pth\n",
      "\n",
      "Epoch 29/10000 | Current LR: 0.000100\n",
      "----------\n"
     ]
    },
    {
     "name": "stderr",
     "output_type": "stream",
     "text": [
      "                                                                                             \r"
     ]
    },
    {
     "name": "stdout",
     "output_type": "stream",
     "text": [
      "Epoch 29: Performing final optimizer step for remaining 2 steps' gradients.\n",
      "Train Loss: 1.3461 Acc: 0.3935\n"
     ]
    },
    {
     "name": "stderr",
     "output_type": "stream",
     "text": [
      "                                                                                             \r"
     ]
    },
    {
     "name": "stdout",
     "output_type": "stream",
     "text": [
      "Val Loss: 1.3301 Val Acc: 0.4096\n",
      "Validation loss decreased (1.3304 --> 1.3301). Saving model...\n",
      "Model saved to runs\\best_model.pth\n",
      "\n",
      "Epoch 30/10000 | Current LR: 0.000100\n",
      "----------\n"
     ]
    },
    {
     "name": "stderr",
     "output_type": "stream",
     "text": [
      "                                                                                             \r"
     ]
    },
    {
     "name": "stdout",
     "output_type": "stream",
     "text": [
      "Epoch 30: Performing final optimizer step for remaining 2 steps' gradients.\n",
      "Train Loss: 1.3467 Acc: 0.3978\n"
     ]
    },
    {
     "name": "stderr",
     "output_type": "stream",
     "text": [
      "                                                                                             \r"
     ]
    },
    {
     "name": "stdout",
     "output_type": "stream",
     "text": [
      "Val Loss: 1.3304 Val Acc: 0.4096\n",
      "Validation loss did not improve for 1 epoch(s). Current best: 1.3301\n",
      "\n",
      "Epoch 31/10000 | Current LR: 0.000100\n",
      "----------\n"
     ]
    },
    {
     "name": "stderr",
     "output_type": "stream",
     "text": [
      "                                                                                             \r"
     ]
    },
    {
     "name": "stdout",
     "output_type": "stream",
     "text": [
      "Epoch 31: Performing final optimizer step for remaining 2 steps' gradients.\n",
      "Train Loss: 1.3452 Acc: 0.3918\n"
     ]
    },
    {
     "name": "stderr",
     "output_type": "stream",
     "text": [
      "                                                                                             \r"
     ]
    },
    {
     "name": "stdout",
     "output_type": "stream",
     "text": [
      "Val Loss: 1.3305 Val Acc: 0.4096\n",
      "Validation loss did not improve for 2 epoch(s). Current best: 1.3301\n",
      "\n",
      "Epoch 32/10000 | Current LR: 0.000100\n",
      "----------\n"
     ]
    },
    {
     "name": "stderr",
     "output_type": "stream",
     "text": [
      "                                                                                             \r"
     ]
    },
    {
     "name": "stdout",
     "output_type": "stream",
     "text": [
      "Epoch 32: Performing final optimizer step for remaining 2 steps' gradients.\n",
      "Train Loss: 1.3466 Acc: 0.3866\n"
     ]
    },
    {
     "name": "stderr",
     "output_type": "stream",
     "text": [
      "                                                                                             \r"
     ]
    },
    {
     "name": "stdout",
     "output_type": "stream",
     "text": [
      "Val Loss: 1.3300 Val Acc: 0.4096\n",
      "Validation loss decreased (1.3301 --> 1.3300). Saving model...\n",
      "Model saved to runs\\best_model.pth\n",
      "\n",
      "Epoch 33/10000 | Current LR: 0.000100\n",
      "----------\n"
     ]
    },
    {
     "name": "stderr",
     "output_type": "stream",
     "text": [
      "                                                                                             \r"
     ]
    },
    {
     "name": "stdout",
     "output_type": "stream",
     "text": [
      "Epoch 33: Performing final optimizer step for remaining 2 steps' gradients.\n",
      "Train Loss: 1.3419 Acc: 0.3866\n"
     ]
    },
    {
     "name": "stderr",
     "output_type": "stream",
     "text": [
      "                                                                                             \r"
     ]
    },
    {
     "name": "stdout",
     "output_type": "stream",
     "text": [
      "Val Loss: 1.3297 Val Acc: 0.4096\n",
      "Validation loss decreased (1.3300 --> 1.3297). Saving model...\n",
      "Model saved to runs\\best_model.pth\n",
      "\n",
      "Epoch 34/10000 | Current LR: 0.000100\n",
      "----------\n"
     ]
    },
    {
     "name": "stderr",
     "output_type": "stream",
     "text": [
      "                                                                                             \r"
     ]
    },
    {
     "name": "stdout",
     "output_type": "stream",
     "text": [
      "Epoch 34: Performing final optimizer step for remaining 2 steps' gradients.\n",
      "Train Loss: 1.3438 Acc: 0.3943\n"
     ]
    },
    {
     "name": "stderr",
     "output_type": "stream",
     "text": [
      "                                                                                             \r"
     ]
    },
    {
     "name": "stdout",
     "output_type": "stream",
     "text": [
      "Val Loss: 1.3300 Val Acc: 0.4096\n",
      "Validation loss did not improve for 1 epoch(s). Current best: 1.3297\n",
      "\n",
      "Epoch 35/10000 | Current LR: 0.000100\n",
      "----------\n"
     ]
    },
    {
     "name": "stderr",
     "output_type": "stream",
     "text": [
      "                                                                                             \r"
     ]
    },
    {
     "name": "stdout",
     "output_type": "stream",
     "text": [
      "Epoch 35: Performing final optimizer step for remaining 2 steps' gradients.\n",
      "Train Loss: 1.3466 Acc: 0.3823\n"
     ]
    },
    {
     "name": "stderr",
     "output_type": "stream",
     "text": [
      "                                                                                             \r"
     ]
    },
    {
     "name": "stdout",
     "output_type": "stream",
     "text": [
      "Val Loss: 1.3317 Val Acc: 0.4096\n",
      "Validation loss did not improve for 2 epoch(s). Current best: 1.3297\n",
      "\n",
      "Epoch 36/10000 | Current LR: 0.000100\n",
      "----------\n"
     ]
    },
    {
     "name": "stderr",
     "output_type": "stream",
     "text": [
      "                                                                                             \r"
     ]
    },
    {
     "name": "stdout",
     "output_type": "stream",
     "text": [
      "Epoch 36: Performing final optimizer step for remaining 2 steps' gradients.\n",
      "Train Loss: 1.3450 Acc: 0.3969\n"
     ]
    },
    {
     "name": "stderr",
     "output_type": "stream",
     "text": [
      "                                                                                             \r"
     ]
    },
    {
     "name": "stdout",
     "output_type": "stream",
     "text": [
      "Val Loss: 1.3315 Val Acc: 0.4096\n",
      "Validation loss did not improve for 3 epoch(s). Current best: 1.3297\n",
      "\n",
      "Epoch 37/10000 | Current LR: 0.000100\n",
      "----------\n"
     ]
    },
    {
     "name": "stderr",
     "output_type": "stream",
     "text": [
      "                                                                                             \r"
     ]
    },
    {
     "name": "stdout",
     "output_type": "stream",
     "text": [
      "Epoch 37: Performing final optimizer step for remaining 2 steps' gradients.\n",
      "Train Loss: 1.3446 Acc: 0.3926\n"
     ]
    },
    {
     "name": "stderr",
     "output_type": "stream",
     "text": [
      "                                                                                             \r"
     ]
    },
    {
     "name": "stdout",
     "output_type": "stream",
     "text": [
      "Val Loss: 1.3299 Val Acc: 0.4096\n",
      "Validation loss did not improve for 4 epoch(s). Current best: 1.3297\n",
      "\n",
      "Epoch 38/10000 | Current LR: 0.000100\n",
      "----------\n"
     ]
    },
    {
     "name": "stderr",
     "output_type": "stream",
     "text": [
      "                                                                                             \r"
     ]
    },
    {
     "name": "stdout",
     "output_type": "stream",
     "text": [
      "Epoch 38: Performing final optimizer step for remaining 2 steps' gradients.\n",
      "Train Loss: 1.3525 Acc: 0.3849\n"
     ]
    },
    {
     "name": "stderr",
     "output_type": "stream",
     "text": [
      "                                                                                             \r"
     ]
    },
    {
     "name": "stdout",
     "output_type": "stream",
     "text": [
      "Val Loss: 1.3291 Val Acc: 0.4096\n",
      "Validation loss decreased (1.3297 --> 1.3291). Saving model...\n",
      "Model saved to runs\\best_model.pth\n",
      "\n",
      "Epoch 39/10000 | Current LR: 0.000100\n",
      "----------\n"
     ]
    },
    {
     "name": "stderr",
     "output_type": "stream",
     "text": [
      "                                                                                             \r"
     ]
    },
    {
     "name": "stdout",
     "output_type": "stream",
     "text": [
      "Epoch 39: Performing final optimizer step for remaining 2 steps' gradients.\n",
      "Train Loss: 1.3530 Acc: 0.3918\n"
     ]
    },
    {
     "name": "stderr",
     "output_type": "stream",
     "text": [
      "                                                                                             \r"
     ]
    },
    {
     "name": "stdout",
     "output_type": "stream",
     "text": [
      "Val Loss: 1.3289 Val Acc: 0.4096\n",
      "Validation loss decreased (1.3291 --> 1.3289). Saving model...\n",
      "Model saved to runs\\best_model.pth\n",
      "\n",
      "Epoch 40/10000 | Current LR: 0.000100\n",
      "----------\n"
     ]
    },
    {
     "name": "stderr",
     "output_type": "stream",
     "text": [
      "                                                                                             \r"
     ]
    },
    {
     "name": "stdout",
     "output_type": "stream",
     "text": [
      "Epoch 40: Performing final optimizer step for remaining 2 steps' gradients.\n",
      "Train Loss: 1.3472 Acc: 0.3935\n"
     ]
    },
    {
     "name": "stderr",
     "output_type": "stream",
     "text": [
      "                                                                                             \r"
     ]
    },
    {
     "name": "stdout",
     "output_type": "stream",
     "text": [
      "Val Loss: 1.3276 Val Acc: 0.4096\n",
      "Validation loss decreased (1.3289 --> 1.3276). Saving model...\n",
      "Model saved to runs\\best_model.pth\n",
      "\n",
      "Epoch 41/10000 | Current LR: 0.000100\n",
      "----------\n"
     ]
    },
    {
     "name": "stderr",
     "output_type": "stream",
     "text": [
      "                                                                                             \r"
     ]
    },
    {
     "name": "stdout",
     "output_type": "stream",
     "text": [
      "Epoch 41: Performing final optimizer step for remaining 2 steps' gradients.\n",
      "Train Loss: 1.3421 Acc: 0.3943\n"
     ]
    },
    {
     "name": "stderr",
     "output_type": "stream",
     "text": [
      "                                                                                             \r"
     ]
    },
    {
     "name": "stdout",
     "output_type": "stream",
     "text": [
      "Val Loss: 1.3281 Val Acc: 0.4096\n",
      "Validation loss did not improve for 1 epoch(s). Current best: 1.3276\n",
      "\n",
      "Epoch 42/10000 | Current LR: 0.000100\n",
      "----------\n"
     ]
    },
    {
     "name": "stderr",
     "output_type": "stream",
     "text": [
      "                                                                                             \r"
     ]
    },
    {
     "name": "stdout",
     "output_type": "stream",
     "text": [
      "Epoch 42: Performing final optimizer step for remaining 2 steps' gradients.\n",
      "Train Loss: 1.3423 Acc: 0.3952\n"
     ]
    },
    {
     "name": "stderr",
     "output_type": "stream",
     "text": [
      "                                                                                             \r"
     ]
    },
    {
     "name": "stdout",
     "output_type": "stream",
     "text": [
      "Val Loss: 1.3291 Val Acc: 0.4096\n",
      "Validation loss did not improve for 2 epoch(s). Current best: 1.3276\n",
      "\n",
      "Epoch 43/10000 | Current LR: 0.000100\n",
      "----------\n"
     ]
    },
    {
     "name": "stderr",
     "output_type": "stream",
     "text": [
      "                                                                                             \r"
     ]
    },
    {
     "name": "stdout",
     "output_type": "stream",
     "text": [
      "Epoch 43: Performing final optimizer step for remaining 2 steps' gradients.\n",
      "Train Loss: 1.3435 Acc: 0.3952\n"
     ]
    },
    {
     "name": "stderr",
     "output_type": "stream",
     "text": [
      "                                                                                             \r"
     ]
    },
    {
     "name": "stdout",
     "output_type": "stream",
     "text": [
      "Val Loss: 1.3287 Val Acc: 0.4096\n",
      "Validation loss did not improve for 3 epoch(s). Current best: 1.3276\n",
      "\n",
      "Epoch 44/10000 | Current LR: 0.000100\n",
      "----------\n"
     ]
    },
    {
     "name": "stderr",
     "output_type": "stream",
     "text": [
      "                                                                                             \r"
     ]
    },
    {
     "name": "stdout",
     "output_type": "stream",
     "text": [
      "Epoch 44: Performing final optimizer step for remaining 2 steps' gradients.\n",
      "Train Loss: 1.3446 Acc: 0.3926\n"
     ]
    },
    {
     "name": "stderr",
     "output_type": "stream",
     "text": [
      "                                                                                             \r"
     ]
    },
    {
     "name": "stdout",
     "output_type": "stream",
     "text": [
      "Val Loss: 1.3289 Val Acc: 0.4096\n",
      "Validation loss did not improve for 4 epoch(s). Current best: 1.3276\n",
      "\n",
      "Epoch 45/10000 | Current LR: 0.000100\n",
      "----------\n"
     ]
    },
    {
     "name": "stderr",
     "output_type": "stream",
     "text": [
      "                                                                                             \r"
     ]
    },
    {
     "name": "stdout",
     "output_type": "stream",
     "text": [
      "Epoch 45: Performing final optimizer step for remaining 2 steps' gradients.\n",
      "Train Loss: 1.3440 Acc: 0.3900\n"
     ]
    },
    {
     "name": "stderr",
     "output_type": "stream",
     "text": [
      "                                                                                             \r"
     ]
    },
    {
     "name": "stdout",
     "output_type": "stream",
     "text": [
      "Val Loss: 1.3281 Val Acc: 0.4096\n",
      "Validation loss did not improve for 5 epoch(s). Current best: 1.3276\n",
      "\n",
      "Epoch 46/10000 | Current LR: 0.000100\n",
      "----------\n"
     ]
    },
    {
     "name": "stderr",
     "output_type": "stream",
     "text": [
      "                                                                                             \r"
     ]
    },
    {
     "name": "stdout",
     "output_type": "stream",
     "text": [
      "Epoch 46: Performing final optimizer step for remaining 2 steps' gradients.\n",
      "Train Loss: 1.3431 Acc: 0.3909\n"
     ]
    },
    {
     "name": "stderr",
     "output_type": "stream",
     "text": [
      "                                                                                             \r"
     ]
    },
    {
     "name": "stdout",
     "output_type": "stream",
     "text": [
      "Val Loss: 1.3277 Val Acc: 0.4096\n",
      "Validation loss did not improve for 6 epoch(s). Current best: 1.3276\n",
      "\n",
      "Epoch 47/10000 | Current LR: 0.000050\n",
      "----------\n"
     ]
    },
    {
     "name": "stderr",
     "output_type": "stream",
     "text": [
      "                                                                                             \r"
     ]
    },
    {
     "name": "stdout",
     "output_type": "stream",
     "text": [
      "Epoch 47: Performing final optimizer step for remaining 2 steps' gradients.\n",
      "Train Loss: 1.3404 Acc: 0.3900\n"
     ]
    },
    {
     "name": "stderr",
     "output_type": "stream",
     "text": [
      "                                                                                             \r"
     ]
    },
    {
     "name": "stdout",
     "output_type": "stream",
     "text": [
      "Val Loss: 1.3284 Val Acc: 0.4096\n",
      "Validation loss did not improve for 7 epoch(s). Current best: 1.3276\n",
      "\n",
      "Epoch 48/10000 | Current LR: 0.000050\n",
      "----------\n"
     ]
    },
    {
     "name": "stderr",
     "output_type": "stream",
     "text": [
      "                                                                                             \r"
     ]
    },
    {
     "name": "stdout",
     "output_type": "stream",
     "text": [
      "Epoch 48: Performing final optimizer step for remaining 2 steps' gradients.\n",
      "Train Loss: 1.3426 Acc: 0.3900\n"
     ]
    },
    {
     "name": "stderr",
     "output_type": "stream",
     "text": [
      "                                                                                             \r"
     ]
    },
    {
     "name": "stdout",
     "output_type": "stream",
     "text": [
      "Val Loss: 1.3283 Val Acc: 0.4096\n",
      "Validation loss did not improve for 8 epoch(s). Current best: 1.3276\n",
      "\n",
      "Epoch 49/10000 | Current LR: 0.000050\n",
      "----------\n"
     ]
    },
    {
     "name": "stderr",
     "output_type": "stream",
     "text": [
      "                                                                                             \r"
     ]
    },
    {
     "name": "stdout",
     "output_type": "stream",
     "text": [
      "Epoch 49: Performing final optimizer step for remaining 2 steps' gradients.\n",
      "Train Loss: 1.3405 Acc: 0.3952\n"
     ]
    },
    {
     "name": "stderr",
     "output_type": "stream",
     "text": [
      "                                                                                             \r"
     ]
    },
    {
     "name": "stdout",
     "output_type": "stream",
     "text": [
      "Val Loss: 1.3272 Val Acc: 0.4096\n",
      "Validation loss decreased (1.3276 --> 1.3272). Saving model...\n",
      "Model saved to runs\\best_model.pth\n",
      "\n",
      "Epoch 50/10000 | Current LR: 0.000050\n",
      "----------\n"
     ]
    },
    {
     "name": "stderr",
     "output_type": "stream",
     "text": [
      "                                                                                             \r"
     ]
    },
    {
     "name": "stdout",
     "output_type": "stream",
     "text": [
      "Epoch 50: Performing final optimizer step for remaining 2 steps' gradients.\n",
      "Train Loss: 1.3422 Acc: 0.3969\n"
     ]
    },
    {
     "name": "stderr",
     "output_type": "stream",
     "text": [
      "                                                                                             \r"
     ]
    },
    {
     "name": "stdout",
     "output_type": "stream",
     "text": [
      "Val Loss: 1.3279 Val Acc: 0.4096\n",
      "Validation loss did not improve for 1 epoch(s). Current best: 1.3272\n",
      "\n",
      "Epoch 51/10000 | Current LR: 0.000050\n",
      "----------\n"
     ]
    },
    {
     "name": "stderr",
     "output_type": "stream",
     "text": [
      "                                                                                             \r"
     ]
    },
    {
     "name": "stdout",
     "output_type": "stream",
     "text": [
      "Epoch 51: Performing final optimizer step for remaining 2 steps' gradients.\n",
      "Train Loss: 1.3420 Acc: 0.3986\n"
     ]
    },
    {
     "name": "stderr",
     "output_type": "stream",
     "text": [
      "                                                                                             \r"
     ]
    },
    {
     "name": "stdout",
     "output_type": "stream",
     "text": [
      "Val Loss: 1.3283 Val Acc: 0.4096\n",
      "Validation loss did not improve for 2 epoch(s). Current best: 1.3272\n",
      "\n",
      "Epoch 52/10000 | Current LR: 0.000050\n",
      "----------\n"
     ]
    },
    {
     "name": "stderr",
     "output_type": "stream",
     "text": [
      "                                                                                             \r"
     ]
    },
    {
     "name": "stdout",
     "output_type": "stream",
     "text": [
      "Epoch 52: Performing final optimizer step for remaining 2 steps' gradients.\n",
      "Train Loss: 1.3406 Acc: 0.3935\n"
     ]
    },
    {
     "name": "stderr",
     "output_type": "stream",
     "text": [
      "                                                                                             \r"
     ]
    },
    {
     "name": "stdout",
     "output_type": "stream",
     "text": [
      "Val Loss: 1.3267 Val Acc: 0.4096\n",
      "Validation loss decreased (1.3272 --> 1.3267). Saving model...\n",
      "Model saved to runs\\best_model.pth\n",
      "\n",
      "Epoch 53/10000 | Current LR: 0.000050\n",
      "----------\n"
     ]
    },
    {
     "name": "stderr",
     "output_type": "stream",
     "text": [
      "                                                                                             \r"
     ]
    },
    {
     "name": "stdout",
     "output_type": "stream",
     "text": [
      "Epoch 53: Performing final optimizer step for remaining 2 steps' gradients.\n",
      "Train Loss: 1.3426 Acc: 0.3926\n"
     ]
    },
    {
     "name": "stderr",
     "output_type": "stream",
     "text": [
      "                                                                                             \r"
     ]
    },
    {
     "name": "stdout",
     "output_type": "stream",
     "text": [
      "Val Loss: 1.3272 Val Acc: 0.4096\n",
      "Validation loss did not improve for 1 epoch(s). Current best: 1.3267\n",
      "\n",
      "Epoch 54/10000 | Current LR: 0.000050\n",
      "----------\n"
     ]
    },
    {
     "name": "stderr",
     "output_type": "stream",
     "text": [
      "                                                                                             \r"
     ]
    },
    {
     "name": "stdout",
     "output_type": "stream",
     "text": [
      "Epoch 54: Performing final optimizer step for remaining 2 steps' gradients.\n",
      "Train Loss: 1.3379 Acc: 0.3900\n"
     ]
    },
    {
     "name": "stderr",
     "output_type": "stream",
     "text": [
      "                                                                                             \r"
     ]
    },
    {
     "name": "stdout",
     "output_type": "stream",
     "text": [
      "Val Loss: 1.3275 Val Acc: 0.4096\n",
      "Validation loss did not improve for 2 epoch(s). Current best: 1.3267\n",
      "\n",
      "Epoch 55/10000 | Current LR: 0.000050\n",
      "----------\n"
     ]
    },
    {
     "name": "stderr",
     "output_type": "stream",
     "text": [
      "                                                                                             \r"
     ]
    },
    {
     "name": "stdout",
     "output_type": "stream",
     "text": [
      "Epoch 55: Performing final optimizer step for remaining 2 steps' gradients.\n",
      "Train Loss: 1.3430 Acc: 0.3900\n"
     ]
    },
    {
     "name": "stderr",
     "output_type": "stream",
     "text": [
      "                                                                                             \r"
     ]
    },
    {
     "name": "stdout",
     "output_type": "stream",
     "text": [
      "Val Loss: 1.3271 Val Acc: 0.4096\n",
      "Validation loss did not improve for 3 epoch(s). Current best: 1.3267\n",
      "\n",
      "Epoch 56/10000 | Current LR: 0.000050\n",
      "----------\n"
     ]
    },
    {
     "name": "stderr",
     "output_type": "stream",
     "text": [
      "                                                                                             \r"
     ]
    },
    {
     "name": "stdout",
     "output_type": "stream",
     "text": [
      "Epoch 56: Performing final optimizer step for remaining 2 steps' gradients.\n",
      "Train Loss: 1.3411 Acc: 0.3909\n"
     ]
    },
    {
     "name": "stderr",
     "output_type": "stream",
     "text": [
      "                                                                                             \r"
     ]
    },
    {
     "name": "stdout",
     "output_type": "stream",
     "text": [
      "Val Loss: 1.3274 Val Acc: 0.4096\n",
      "Validation loss did not improve for 4 epoch(s). Current best: 1.3267\n",
      "\n",
      "Epoch 57/10000 | Current LR: 0.000050\n",
      "----------\n"
     ]
    },
    {
     "name": "stderr",
     "output_type": "stream",
     "text": [
      "                                                                                             \r"
     ]
    },
    {
     "name": "stdout",
     "output_type": "stream",
     "text": [
      "Epoch 57: Performing final optimizer step for remaining 2 steps' gradients.\n",
      "Train Loss: 1.3420 Acc: 0.3935\n"
     ]
    },
    {
     "name": "stderr",
     "output_type": "stream",
     "text": [
      "                                                                                             \r"
     ]
    },
    {
     "name": "stdout",
     "output_type": "stream",
     "text": [
      "Val Loss: 1.3270 Val Acc: 0.4096\n",
      "Validation loss did not improve for 5 epoch(s). Current best: 1.3267\n",
      "\n",
      "Epoch 58/10000 | Current LR: 0.000050\n",
      "----------\n"
     ]
    },
    {
     "name": "stderr",
     "output_type": "stream",
     "text": [
      "                                                                                             \r"
     ]
    },
    {
     "name": "stdout",
     "output_type": "stream",
     "text": [
      "Epoch 58: Performing final optimizer step for remaining 2 steps' gradients.\n",
      "Train Loss: 1.3420 Acc: 0.3960\n"
     ]
    },
    {
     "name": "stderr",
     "output_type": "stream",
     "text": [
      "                                                                                             \r"
     ]
    },
    {
     "name": "stdout",
     "output_type": "stream",
     "text": [
      "Val Loss: 1.3273 Val Acc: 0.4096\n",
      "Validation loss did not improve for 6 epoch(s). Current best: 1.3267\n",
      "\n",
      "Epoch 59/10000 | Current LR: 0.000025\n",
      "----------\n"
     ]
    },
    {
     "name": "stderr",
     "output_type": "stream",
     "text": [
      "                                                                                             \r"
     ]
    },
    {
     "name": "stdout",
     "output_type": "stream",
     "text": [
      "Epoch 59: Performing final optimizer step for remaining 2 steps' gradients.\n",
      "Train Loss: 1.3366 Acc: 0.3978\n"
     ]
    },
    {
     "name": "stderr",
     "output_type": "stream",
     "text": [
      "                                                                                             \r"
     ]
    },
    {
     "name": "stdout",
     "output_type": "stream",
     "text": [
      "Val Loss: 1.3266 Val Acc: 0.4096\n",
      "Validation loss decreased (1.3267 --> 1.3266). Saving model...\n",
      "Model saved to runs\\best_model.pth\n",
      "\n",
      "Epoch 60/10000 | Current LR: 0.000025\n",
      "----------\n"
     ]
    },
    {
     "name": "stderr",
     "output_type": "stream",
     "text": [
      "                                                                                             \r"
     ]
    },
    {
     "name": "stdout",
     "output_type": "stream",
     "text": [
      "Epoch 60: Performing final optimizer step for remaining 2 steps' gradients.\n",
      "Train Loss: 1.3395 Acc: 0.3943\n"
     ]
    },
    {
     "name": "stderr",
     "output_type": "stream",
     "text": [
      "                                                                                             \r"
     ]
    },
    {
     "name": "stdout",
     "output_type": "stream",
     "text": [
      "Val Loss: 1.3268 Val Acc: 0.4096\n",
      "Validation loss did not improve for 1 epoch(s). Current best: 1.3266\n",
      "\n",
      "Epoch 61/10000 | Current LR: 0.000025\n",
      "----------\n"
     ]
    },
    {
     "name": "stderr",
     "output_type": "stream",
     "text": [
      "                                                                                             \r"
     ]
    },
    {
     "name": "stdout",
     "output_type": "stream",
     "text": [
      "Epoch 61: Performing final optimizer step for remaining 2 steps' gradients.\n",
      "Train Loss: 1.3374 Acc: 0.3969\n"
     ]
    },
    {
     "name": "stderr",
     "output_type": "stream",
     "text": [
      "                                                                                             \r"
     ]
    },
    {
     "name": "stdout",
     "output_type": "stream",
     "text": [
      "Val Loss: 1.3271 Val Acc: 0.4096\n",
      "Validation loss did not improve for 2 epoch(s). Current best: 1.3266\n",
      "\n",
      "Epoch 62/10000 | Current LR: 0.000025\n",
      "----------\n"
     ]
    },
    {
     "name": "stderr",
     "output_type": "stream",
     "text": [
      "                                                                                             \r"
     ]
    },
    {
     "name": "stdout",
     "output_type": "stream",
     "text": [
      "Epoch 62: Performing final optimizer step for remaining 2 steps' gradients.\n",
      "Train Loss: 1.3423 Acc: 0.3943\n"
     ]
    },
    {
     "name": "stderr",
     "output_type": "stream",
     "text": [
      "                                                                                             \r"
     ]
    },
    {
     "name": "stdout",
     "output_type": "stream",
     "text": [
      "Val Loss: 1.3266 Val Acc: 0.4096\n",
      "Validation loss did not improve for 3 epoch(s). Current best: 1.3266\n",
      "\n",
      "Epoch 63/10000 | Current LR: 0.000025\n",
      "----------\n"
     ]
    },
    {
     "name": "stderr",
     "output_type": "stream",
     "text": [
      "                                                                                             \r"
     ]
    },
    {
     "name": "stdout",
     "output_type": "stream",
     "text": [
      "Epoch 63: Performing final optimizer step for remaining 2 steps' gradients.\n",
      "Train Loss: 1.3375 Acc: 0.3986\n"
     ]
    },
    {
     "name": "stderr",
     "output_type": "stream",
     "text": [
      "                                                                                             \r"
     ]
    },
    {
     "name": "stdout",
     "output_type": "stream",
     "text": [
      "Val Loss: 1.3266 Val Acc: 0.4096\n",
      "Validation loss decreased (1.3266 --> 1.3266). Saving model...\n",
      "Model saved to runs\\best_model.pth\n",
      "\n",
      "Epoch 64/10000 | Current LR: 0.000025\n",
      "----------\n"
     ]
    },
    {
     "name": "stderr",
     "output_type": "stream",
     "text": [
      "                                                                                             \r"
     ]
    },
    {
     "name": "stdout",
     "output_type": "stream",
     "text": [
      "Epoch 64: Performing final optimizer step for remaining 2 steps' gradients.\n",
      "Train Loss: 1.3390 Acc: 0.3960\n"
     ]
    },
    {
     "name": "stderr",
     "output_type": "stream",
     "text": [
      "                                                                                             \r"
     ]
    },
    {
     "name": "stdout",
     "output_type": "stream",
     "text": [
      "Val Loss: 1.3269 Val Acc: 0.4096\n",
      "Validation loss did not improve for 1 epoch(s). Current best: 1.3266\n",
      "\n",
      "Epoch 65/10000 | Current LR: 0.000013\n",
      "----------\n"
     ]
    },
    {
     "name": "stderr",
     "output_type": "stream",
     "text": [
      "                                                                                             \r"
     ]
    },
    {
     "name": "stdout",
     "output_type": "stream",
     "text": [
      "Epoch 65: Performing final optimizer step for remaining 2 steps' gradients.\n",
      "Train Loss: 1.3347 Acc: 0.3995\n"
     ]
    },
    {
     "name": "stderr",
     "output_type": "stream",
     "text": [
      "                                                                                             \r"
     ]
    },
    {
     "name": "stdout",
     "output_type": "stream",
     "text": [
      "Val Loss: 1.3267 Val Acc: 0.4096\n",
      "Validation loss did not improve for 2 epoch(s). Current best: 1.3266\n",
      "\n",
      "Epoch 66/10000 | Current LR: 0.000013\n",
      "----------\n"
     ]
    },
    {
     "name": "stderr",
     "output_type": "stream",
     "text": [
      "                                                                                             \r"
     ]
    },
    {
     "name": "stdout",
     "output_type": "stream",
     "text": [
      "Epoch 66: Performing final optimizer step for remaining 2 steps' gradients.\n",
      "Train Loss: 1.3386 Acc: 0.4003\n"
     ]
    },
    {
     "name": "stderr",
     "output_type": "stream",
     "text": [
      "                                                                                             \r"
     ]
    },
    {
     "name": "stdout",
     "output_type": "stream",
     "text": [
      "Val Loss: 1.3267 Val Acc: 0.4096\n",
      "Validation loss did not improve for 3 epoch(s). Current best: 1.3266\n",
      "\n",
      "Epoch 67/10000 | Current LR: 0.000013\n",
      "----------\n"
     ]
    },
    {
     "name": "stderr",
     "output_type": "stream",
     "text": [
      "                                                                                             \r"
     ]
    },
    {
     "name": "stdout",
     "output_type": "stream",
     "text": [
      "Epoch 67: Performing final optimizer step for remaining 2 steps' gradients.\n",
      "Train Loss: 1.3406 Acc: 0.3952\n"
     ]
    },
    {
     "name": "stderr",
     "output_type": "stream",
     "text": [
      "                                                                                             \r"
     ]
    },
    {
     "name": "stdout",
     "output_type": "stream",
     "text": [
      "Val Loss: 1.3272 Val Acc: 0.4096\n",
      "Validation loss did not improve for 4 epoch(s). Current best: 1.3266\n",
      "\n",
      "Epoch 68/10000 | Current LR: 0.000013\n",
      "----------\n"
     ]
    },
    {
     "name": "stderr",
     "output_type": "stream",
     "text": [
      "                                                                                             \r"
     ]
    },
    {
     "name": "stdout",
     "output_type": "stream",
     "text": [
      "Epoch 68: Performing final optimizer step for remaining 2 steps' gradients.\n",
      "Train Loss: 1.3416 Acc: 0.3935\n"
     ]
    },
    {
     "name": "stderr",
     "output_type": "stream",
     "text": [
      "                                                                                             \r"
     ]
    },
    {
     "name": "stdout",
     "output_type": "stream",
     "text": [
      "Val Loss: 1.3271 Val Acc: 0.4096\n",
      "Validation loss did not improve for 5 epoch(s). Current best: 1.3266\n",
      "\n",
      "Epoch 69/10000 | Current LR: 0.000013\n",
      "----------\n"
     ]
    },
    {
     "name": "stderr",
     "output_type": "stream",
     "text": [
      "                                                                                             \r"
     ]
    },
    {
     "name": "stdout",
     "output_type": "stream",
     "text": [
      "Epoch 69: Performing final optimizer step for remaining 2 steps' gradients.\n",
      "Train Loss: 1.3383 Acc: 0.3926\n"
     ]
    },
    {
     "name": "stderr",
     "output_type": "stream",
     "text": [
      "                                                                                             \r"
     ]
    },
    {
     "name": "stdout",
     "output_type": "stream",
     "text": [
      "Val Loss: 1.3267 Val Acc: 0.4096\n",
      "Validation loss did not improve for 6 epoch(s). Current best: 1.3266\n",
      "\n",
      "Epoch 70/10000 | Current LR: 0.000013\n",
      "----------\n"
     ]
    },
    {
     "name": "stderr",
     "output_type": "stream",
     "text": [
      "                                                                                             \r"
     ]
    },
    {
     "name": "stdout",
     "output_type": "stream",
     "text": [
      "Epoch 70: Performing final optimizer step for remaining 2 steps' gradients.\n",
      "Train Loss: 1.3398 Acc: 0.3943\n"
     ]
    },
    {
     "name": "stderr",
     "output_type": "stream",
     "text": [
      "                                                                                             \r"
     ]
    },
    {
     "name": "stdout",
     "output_type": "stream",
     "text": [
      "Val Loss: 1.3268 Val Acc: 0.4096\n",
      "Validation loss did not improve for 7 epoch(s). Current best: 1.3266\n",
      "\n",
      "Epoch 71/10000 | Current LR: 0.000006\n",
      "----------\n"
     ]
    },
    {
     "name": "stderr",
     "output_type": "stream",
     "text": [
      "                                                                                             \r"
     ]
    },
    {
     "name": "stdout",
     "output_type": "stream",
     "text": [
      "Epoch 71: Performing final optimizer step for remaining 2 steps' gradients.\n",
      "Train Loss: 1.3410 Acc: 0.3978\n"
     ]
    },
    {
     "name": "stderr",
     "output_type": "stream",
     "text": [
      "                                                                                             \r"
     ]
    },
    {
     "name": "stdout",
     "output_type": "stream",
     "text": [
      "Val Loss: 1.3266 Val Acc: 0.4096\n",
      "Validation loss decreased (1.3266 --> 1.3266). Saving model...\n",
      "Model saved to runs\\best_model.pth\n",
      "\n",
      "Epoch 72/10000 | Current LR: 0.000006\n",
      "----------\n"
     ]
    },
    {
     "name": "stderr",
     "output_type": "stream",
     "text": [
      "                                                                                             \r"
     ]
    },
    {
     "name": "stdout",
     "output_type": "stream",
     "text": [
      "Epoch 72: Performing final optimizer step for remaining 2 steps' gradients.\n",
      "Train Loss: 1.3404 Acc: 0.4012\n"
     ]
    },
    {
     "name": "stderr",
     "output_type": "stream",
     "text": [
      "                                                                                             \r"
     ]
    },
    {
     "name": "stdout",
     "output_type": "stream",
     "text": [
      "Val Loss: 1.3269 Val Acc: 0.4096\n",
      "Validation loss did not improve for 1 epoch(s). Current best: 1.3266\n",
      "\n",
      "Epoch 73/10000 | Current LR: 0.000006\n",
      "----------\n"
     ]
    },
    {
     "name": "stderr",
     "output_type": "stream",
     "text": [
      "                                                                                             \r"
     ]
    },
    {
     "name": "stdout",
     "output_type": "stream",
     "text": [
      "Epoch 73: Performing final optimizer step for remaining 2 steps' gradients.\n",
      "Train Loss: 1.3391 Acc: 0.3960\n"
     ]
    },
    {
     "name": "stderr",
     "output_type": "stream",
     "text": [
      "                                                                                             \r"
     ]
    },
    {
     "name": "stdout",
     "output_type": "stream",
     "text": [
      "Val Loss: 1.3267 Val Acc: 0.4096\n",
      "Validation loss did not improve for 2 epoch(s). Current best: 1.3266\n",
      "\n",
      "Epoch 74/10000 | Current LR: 0.000006\n",
      "----------\n"
     ]
    },
    {
     "name": "stderr",
     "output_type": "stream",
     "text": [
      "                                                                                             \r"
     ]
    },
    {
     "name": "stdout",
     "output_type": "stream",
     "text": [
      "Epoch 74: Performing final optimizer step for remaining 2 steps' gradients.\n",
      "Train Loss: 1.3378 Acc: 0.3969\n"
     ]
    },
    {
     "name": "stderr",
     "output_type": "stream",
     "text": [
      "                                                                                             \r"
     ]
    },
    {
     "name": "stdout",
     "output_type": "stream",
     "text": [
      "Val Loss: 1.3273 Val Acc: 0.4096\n",
      "Validation loss did not improve for 3 epoch(s). Current best: 1.3266\n",
      "\n",
      "Epoch 75/10000 | Current LR: 0.000006\n",
      "----------\n"
     ]
    },
    {
     "name": "stderr",
     "output_type": "stream",
     "text": [
      "                                                                                             \r"
     ]
    },
    {
     "name": "stdout",
     "output_type": "stream",
     "text": [
      "Epoch 75: Performing final optimizer step for remaining 2 steps' gradients.\n",
      "Train Loss: 1.3414 Acc: 0.3909\n"
     ]
    },
    {
     "name": "stderr",
     "output_type": "stream",
     "text": [
      "                                                                                             \r"
     ]
    },
    {
     "name": "stdout",
     "output_type": "stream",
     "text": [
      "Val Loss: 1.3266 Val Acc: 0.4096\n",
      "Validation loss did not improve for 4 epoch(s). Current best: 1.3266\n",
      "\n",
      "Epoch 76/10000 | Current LR: 0.000006\n",
      "----------\n"
     ]
    },
    {
     "name": "stderr",
     "output_type": "stream",
     "text": [
      "                                                                                             \r"
     ]
    },
    {
     "name": "stdout",
     "output_type": "stream",
     "text": [
      "Epoch 76: Performing final optimizer step for remaining 2 steps' gradients.\n",
      "Train Loss: 1.3401 Acc: 0.3935\n"
     ]
    },
    {
     "name": "stderr",
     "output_type": "stream",
     "text": [
      "                                                                                             \r"
     ]
    },
    {
     "name": "stdout",
     "output_type": "stream",
     "text": [
      "Val Loss: 1.3266 Val Acc: 0.4096\n",
      "Validation loss decreased (1.3266 --> 1.3266). Saving model...\n",
      "Model saved to runs\\best_model.pth\n",
      "\n",
      "Epoch 77/10000 | Current LR: 0.000006\n",
      "----------\n"
     ]
    },
    {
     "name": "stderr",
     "output_type": "stream",
     "text": [
      "                                                                                             \r"
     ]
    },
    {
     "name": "stdout",
     "output_type": "stream",
     "text": [
      "Epoch 77: Performing final optimizer step for remaining 2 steps' gradients.\n",
      "Train Loss: 1.3378 Acc: 0.3935\n"
     ]
    },
    {
     "name": "stderr",
     "output_type": "stream",
     "text": [
      "                                                                                             \r"
     ]
    },
    {
     "name": "stdout",
     "output_type": "stream",
     "text": [
      "Val Loss: 1.3272 Val Acc: 0.4096\n",
      "Validation loss did not improve for 1 epoch(s). Current best: 1.3266\n",
      "\n",
      "Epoch 78/10000 | Current LR: 0.000006\n",
      "----------\n"
     ]
    },
    {
     "name": "stderr",
     "output_type": "stream",
     "text": [
      "                                                                                             \r"
     ]
    },
    {
     "name": "stdout",
     "output_type": "stream",
     "text": [
      "Epoch 78: Performing final optimizer step for remaining 2 steps' gradients.\n",
      "Train Loss: 1.3406 Acc: 0.3935\n"
     ]
    },
    {
     "name": "stderr",
     "output_type": "stream",
     "text": [
      "                                                                                             \r"
     ]
    },
    {
     "name": "stdout",
     "output_type": "stream",
     "text": [
      "Val Loss: 1.3263 Val Acc: 0.4096\n",
      "Validation loss decreased (1.3266 --> 1.3263). Saving model...\n",
      "Model saved to runs\\best_model.pth\n",
      "\n",
      "Epoch 79/10000 | Current LR: 0.000006\n",
      "----------\n"
     ]
    },
    {
     "name": "stderr",
     "output_type": "stream",
     "text": [
      "                                                                                             \r"
     ]
    },
    {
     "name": "stdout",
     "output_type": "stream",
     "text": [
      "Epoch 79: Performing final optimizer step for remaining 2 steps' gradients.\n",
      "Train Loss: 1.3398 Acc: 0.3943\n"
     ]
    },
    {
     "name": "stderr",
     "output_type": "stream",
     "text": [
      "                                                                                             \r"
     ]
    },
    {
     "name": "stdout",
     "output_type": "stream",
     "text": [
      "Val Loss: 1.3265 Val Acc: 0.4096\n",
      "Validation loss did not improve for 1 epoch(s). Current best: 1.3263\n",
      "\n",
      "Epoch 80/10000 | Current LR: 0.000006\n",
      "----------\n"
     ]
    },
    {
     "name": "stderr",
     "output_type": "stream",
     "text": [
      "                                                                                             \r"
     ]
    },
    {
     "name": "stdout",
     "output_type": "stream",
     "text": [
      "Epoch 80: Performing final optimizer step for remaining 2 steps' gradients.\n",
      "Train Loss: 1.3365 Acc: 0.3909\n"
     ]
    },
    {
     "name": "stderr",
     "output_type": "stream",
     "text": [
      "                                                                                             \r"
     ]
    },
    {
     "name": "stdout",
     "output_type": "stream",
     "text": [
      "Val Loss: 1.3265 Val Acc: 0.4096\n",
      "Validation loss did not improve for 2 epoch(s). Current best: 1.3263\n",
      "\n",
      "Epoch 81/10000 | Current LR: 0.000006\n",
      "----------\n"
     ]
    },
    {
     "name": "stderr",
     "output_type": "stream",
     "text": [
      "                                                                                             \r"
     ]
    },
    {
     "name": "stdout",
     "output_type": "stream",
     "text": [
      "Epoch 81: Performing final optimizer step for remaining 2 steps' gradients.\n",
      "Train Loss: 1.3400 Acc: 0.3978\n"
     ]
    },
    {
     "name": "stderr",
     "output_type": "stream",
     "text": [
      "                                                                                             \r"
     ]
    },
    {
     "name": "stdout",
     "output_type": "stream",
     "text": [
      "Val Loss: 1.3267 Val Acc: 0.4096\n",
      "Validation loss did not improve for 3 epoch(s). Current best: 1.3263\n",
      "\n",
      "Epoch 82/10000 | Current LR: 0.000006\n",
      "----------\n"
     ]
    },
    {
     "name": "stderr",
     "output_type": "stream",
     "text": [
      "                                                                                             \r"
     ]
    },
    {
     "name": "stdout",
     "output_type": "stream",
     "text": [
      "Epoch 82: Performing final optimizer step for remaining 2 steps' gradients.\n",
      "Train Loss: 1.3367 Acc: 0.3926\n"
     ]
    },
    {
     "name": "stderr",
     "output_type": "stream",
     "text": [
      "                                                                                             \r"
     ]
    },
    {
     "name": "stdout",
     "output_type": "stream",
     "text": [
      "Val Loss: 1.3266 Val Acc: 0.4096\n",
      "Validation loss did not improve for 4 epoch(s). Current best: 1.3263\n",
      "\n",
      "Epoch 83/10000 | Current LR: 0.000006\n",
      "----------\n"
     ]
    },
    {
     "name": "stderr",
     "output_type": "stream",
     "text": [
      "                                                                                             \r"
     ]
    },
    {
     "name": "stdout",
     "output_type": "stream",
     "text": [
      "Epoch 83: Performing final optimizer step for remaining 2 steps' gradients.\n",
      "Train Loss: 1.3395 Acc: 0.3943\n"
     ]
    },
    {
     "name": "stderr",
     "output_type": "stream",
     "text": [
      "                                                                                             \r"
     ]
    },
    {
     "name": "stdout",
     "output_type": "stream",
     "text": [
      "Val Loss: 1.3262 Val Acc: 0.4096\n",
      "Validation loss decreased (1.3263 --> 1.3262). Saving model...\n",
      "Model saved to runs\\best_model.pth\n",
      "\n",
      "Epoch 84/10000 | Current LR: 0.000006\n",
      "----------\n"
     ]
    },
    {
     "name": "stderr",
     "output_type": "stream",
     "text": [
      "                                                                                             \r"
     ]
    },
    {
     "name": "stdout",
     "output_type": "stream",
     "text": [
      "Epoch 84: Performing final optimizer step for remaining 2 steps' gradients.\n",
      "Train Loss: 1.3391 Acc: 0.3935\n"
     ]
    },
    {
     "name": "stderr",
     "output_type": "stream",
     "text": [
      "                                                                                             \r"
     ]
    },
    {
     "name": "stdout",
     "output_type": "stream",
     "text": [
      "Val Loss: 1.3265 Val Acc: 0.4096\n",
      "Validation loss did not improve for 1 epoch(s). Current best: 1.3262\n",
      "\n",
      "Epoch 85/10000 | Current LR: 0.000003\n",
      "----------\n"
     ]
    },
    {
     "name": "stderr",
     "output_type": "stream",
     "text": [
      "                                                                                             \r"
     ]
    },
    {
     "name": "stdout",
     "output_type": "stream",
     "text": [
      "Epoch 85: Performing final optimizer step for remaining 2 steps' gradients.\n",
      "Train Loss: 1.3401 Acc: 0.3926\n"
     ]
    },
    {
     "name": "stderr",
     "output_type": "stream",
     "text": [
      "                                                                                             \r"
     ]
    },
    {
     "name": "stdout",
     "output_type": "stream",
     "text": [
      "Val Loss: 1.3264 Val Acc: 0.4096\n",
      "Validation loss did not improve for 2 epoch(s). Current best: 1.3262\n",
      "\n",
      "Epoch 86/10000 | Current LR: 0.000003\n",
      "----------\n"
     ]
    },
    {
     "name": "stderr",
     "output_type": "stream",
     "text": [
      "                                                                                             \r"
     ]
    },
    {
     "name": "stdout",
     "output_type": "stream",
     "text": [
      "Epoch 86: Performing final optimizer step for remaining 2 steps' gradients.\n",
      "Train Loss: 1.3398 Acc: 0.3935\n"
     ]
    },
    {
     "name": "stderr",
     "output_type": "stream",
     "text": [
      "                                                                                             \r"
     ]
    },
    {
     "name": "stdout",
     "output_type": "stream",
     "text": [
      "Val Loss: 1.3267 Val Acc: 0.4096\n",
      "Validation loss did not improve for 3 epoch(s). Current best: 1.3262\n",
      "\n",
      "Epoch 87/10000 | Current LR: 0.000003\n",
      "----------\n"
     ]
    },
    {
     "name": "stderr",
     "output_type": "stream",
     "text": [
      "                                                                                             \r"
     ]
    },
    {
     "name": "stdout",
     "output_type": "stream",
     "text": [
      "Epoch 87: Performing final optimizer step for remaining 2 steps' gradients.\n",
      "Train Loss: 1.3360 Acc: 0.3978\n"
     ]
    },
    {
     "name": "stderr",
     "output_type": "stream",
     "text": [
      "                                                                                             \r"
     ]
    },
    {
     "name": "stdout",
     "output_type": "stream",
     "text": [
      "Val Loss: 1.3263 Val Acc: 0.4096\n",
      "Validation loss did not improve for 4 epoch(s). Current best: 1.3262\n",
      "\n",
      "Epoch 88/10000 | Current LR: 0.000003\n",
      "----------\n"
     ]
    },
    {
     "name": "stderr",
     "output_type": "stream",
     "text": [
      "                                                                                             \r"
     ]
    },
    {
     "name": "stdout",
     "output_type": "stream",
     "text": [
      "Epoch 88: Performing final optimizer step for remaining 2 steps' gradients.\n",
      "Train Loss: 1.3384 Acc: 0.3969\n"
     ]
    },
    {
     "name": "stderr",
     "output_type": "stream",
     "text": [
      "                                                                                             \r"
     ]
    },
    {
     "name": "stdout",
     "output_type": "stream",
     "text": [
      "Val Loss: 1.3261 Val Acc: 0.4096\n",
      "Validation loss decreased (1.3262 --> 1.3261). Saving model...\n",
      "Model saved to runs\\best_model.pth\n",
      "\n",
      "Epoch 89/10000 | Current LR: 0.000003\n",
      "----------\n"
     ]
    },
    {
     "name": "stderr",
     "output_type": "stream",
     "text": [
      "                                                                                             \r"
     ]
    },
    {
     "name": "stdout",
     "output_type": "stream",
     "text": [
      "Epoch 89: Performing final optimizer step for remaining 2 steps' gradients.\n",
      "Train Loss: 1.3407 Acc: 0.3918\n"
     ]
    },
    {
     "name": "stderr",
     "output_type": "stream",
     "text": [
      "                                                                                             \r"
     ]
    },
    {
     "name": "stdout",
     "output_type": "stream",
     "text": [
      "Val Loss: 1.3273 Val Acc: 0.4096\n",
      "Validation loss did not improve for 1 epoch(s). Current best: 1.3261\n",
      "\n",
      "Epoch 90/10000 | Current LR: 0.000003\n",
      "----------\n"
     ]
    },
    {
     "name": "stderr",
     "output_type": "stream",
     "text": [
      "                                                                                             \r"
     ]
    },
    {
     "name": "stdout",
     "output_type": "stream",
     "text": [
      "Epoch 90: Performing final optimizer step for remaining 2 steps' gradients.\n",
      "Train Loss: 1.3409 Acc: 0.3926\n"
     ]
    },
    {
     "name": "stderr",
     "output_type": "stream",
     "text": [
      "                                                                                             \r"
     ]
    },
    {
     "name": "stdout",
     "output_type": "stream",
     "text": [
      "Val Loss: 1.3262 Val Acc: 0.4096\n",
      "Validation loss did not improve for 2 epoch(s). Current best: 1.3261\n",
      "\n",
      "Epoch 91/10000 | Current LR: 0.000003\n",
      "----------\n"
     ]
    },
    {
     "name": "stderr",
     "output_type": "stream",
     "text": [
      "                                                                                             \r"
     ]
    },
    {
     "name": "stdout",
     "output_type": "stream",
     "text": [
      "Epoch 91: Performing final optimizer step for remaining 2 steps' gradients.\n",
      "Train Loss: 1.3407 Acc: 0.3935\n"
     ]
    },
    {
     "name": "stderr",
     "output_type": "stream",
     "text": [
      "                                                                                             \r"
     ]
    },
    {
     "name": "stdout",
     "output_type": "stream",
     "text": [
      "Val Loss: 1.3264 Val Acc: 0.4096\n",
      "Validation loss did not improve for 3 epoch(s). Current best: 1.3261\n",
      "\n",
      "Epoch 92/10000 | Current LR: 0.000003\n",
      "----------\n"
     ]
    },
    {
     "name": "stderr",
     "output_type": "stream",
     "text": [
      "                                                                                             \r"
     ]
    },
    {
     "name": "stdout",
     "output_type": "stream",
     "text": [
      "Epoch 92: Performing final optimizer step for remaining 2 steps' gradients.\n",
      "Train Loss: 1.3384 Acc: 0.3926\n"
     ]
    },
    {
     "name": "stderr",
     "output_type": "stream",
     "text": [
      "                                                                                             \r"
     ]
    },
    {
     "name": "stdout",
     "output_type": "stream",
     "text": [
      "Val Loss: 1.3265 Val Acc: 0.4096\n",
      "Validation loss did not improve for 4 epoch(s). Current best: 1.3261\n",
      "\n",
      "Epoch 93/10000 | Current LR: 0.000003\n",
      "----------\n"
     ]
    },
    {
     "name": "stderr",
     "output_type": "stream",
     "text": [
      "                                                                                             \r"
     ]
    },
    {
     "name": "stdout",
     "output_type": "stream",
     "text": [
      "Epoch 93: Performing final optimizer step for remaining 2 steps' gradients.\n",
      "Train Loss: 1.3408 Acc: 0.3943\n"
     ]
    },
    {
     "name": "stderr",
     "output_type": "stream",
     "text": [
      "                                                                                             \r"
     ]
    },
    {
     "name": "stdout",
     "output_type": "stream",
     "text": [
      "Val Loss: 1.3272 Val Acc: 0.4096\n",
      "Validation loss did not improve for 5 epoch(s). Current best: 1.3261\n",
      "\n",
      "Epoch 94/10000 | Current LR: 0.000003\n",
      "----------\n"
     ]
    },
    {
     "name": "stderr",
     "output_type": "stream",
     "text": [
      "                                                                                             \r"
     ]
    },
    {
     "name": "stdout",
     "output_type": "stream",
     "text": [
      "Epoch 94: Performing final optimizer step for remaining 2 steps' gradients.\n",
      "Train Loss: 1.3376 Acc: 0.3960\n"
     ]
    },
    {
     "name": "stderr",
     "output_type": "stream",
     "text": [
      "                                                                                             \r"
     ]
    },
    {
     "name": "stdout",
     "output_type": "stream",
     "text": [
      "Val Loss: 1.3267 Val Acc: 0.4096\n",
      "Validation loss did not improve for 6 epoch(s). Current best: 1.3261\n",
      "\n",
      "Epoch 95/10000 | Current LR: 0.000002\n",
      "----------\n"
     ]
    },
    {
     "name": "stderr",
     "output_type": "stream",
     "text": [
      "                                                                                             \r"
     ]
    },
    {
     "name": "stdout",
     "output_type": "stream",
     "text": [
      "Epoch 95: Performing final optimizer step for remaining 2 steps' gradients.\n",
      "Train Loss: 1.3354 Acc: 0.3986\n"
     ]
    },
    {
     "name": "stderr",
     "output_type": "stream",
     "text": [
      "                                                                                             \r"
     ]
    },
    {
     "name": "stdout",
     "output_type": "stream",
     "text": [
      "Val Loss: 1.3264 Val Acc: 0.4096\n",
      "Validation loss did not improve for 7 epoch(s). Current best: 1.3261\n",
      "\n",
      "Epoch 96/10000 | Current LR: 0.000002\n",
      "----------\n"
     ]
    },
    {
     "name": "stderr",
     "output_type": "stream",
     "text": [
      "                                                                                             \r"
     ]
    },
    {
     "name": "stdout",
     "output_type": "stream",
     "text": [
      "Epoch 96: Performing final optimizer step for remaining 2 steps' gradients.\n",
      "Train Loss: 1.3393 Acc: 0.3952\n"
     ]
    },
    {
     "name": "stderr",
     "output_type": "stream",
     "text": [
      "                                                                                             \r"
     ]
    },
    {
     "name": "stdout",
     "output_type": "stream",
     "text": [
      "Val Loss: 1.3265 Val Acc: 0.4096\n",
      "Validation loss did not improve for 8 epoch(s). Current best: 1.3261\n",
      "\n",
      "Epoch 97/10000 | Current LR: 0.000002\n",
      "----------\n"
     ]
    },
    {
     "name": "stderr",
     "output_type": "stream",
     "text": [
      "                                                                                             \r"
     ]
    },
    {
     "name": "stdout",
     "output_type": "stream",
     "text": [
      "Epoch 97: Performing final optimizer step for remaining 2 steps' gradients.\n",
      "Train Loss: 1.3389 Acc: 0.3952\n"
     ]
    },
    {
     "name": "stderr",
     "output_type": "stream",
     "text": [
      "                                                                                             \r"
     ]
    },
    {
     "name": "stdout",
     "output_type": "stream",
     "text": [
      "Val Loss: 1.3267 Val Acc: 0.4096\n",
      "Validation loss did not improve for 9 epoch(s). Current best: 1.3261\n",
      "\n",
      "Epoch 98/10000 | Current LR: 0.000002\n",
      "----------\n"
     ]
    },
    {
     "name": "stderr",
     "output_type": "stream",
     "text": [
      "                                                                                             \r"
     ]
    },
    {
     "name": "stdout",
     "output_type": "stream",
     "text": [
      "Epoch 98: Performing final optimizer step for remaining 2 steps' gradients.\n",
      "Train Loss: 1.3412 Acc: 0.3952\n"
     ]
    },
    {
     "name": "stderr",
     "output_type": "stream",
     "text": [
      "                                                                                             \r"
     ]
    },
    {
     "name": "stdout",
     "output_type": "stream",
     "text": [
      "Val Loss: 1.3269 Val Acc: 0.4096\n",
      "Validation loss did not improve for 10 epoch(s). Current best: 1.3261\n",
      "\n",
      "Epoch 99/10000 | Current LR: 0.000002\n",
      "----------\n"
     ]
    },
    {
     "name": "stderr",
     "output_type": "stream",
     "text": [
      "                                                                                             \r"
     ]
    },
    {
     "name": "stdout",
     "output_type": "stream",
     "text": [
      "Epoch 99: Performing final optimizer step for remaining 2 steps' gradients.\n",
      "Train Loss: 1.3382 Acc: 0.3935\n"
     ]
    },
    {
     "name": "stderr",
     "output_type": "stream",
     "text": [
      "                                                                                             \r"
     ]
    },
    {
     "name": "stdout",
     "output_type": "stream",
     "text": [
      "Val Loss: 1.3262 Val Acc: 0.4096\n",
      "Validation loss did not improve for 11 epoch(s). Current best: 1.3261\n",
      "\n",
      "Epoch 100/10000 | Current LR: 0.000002\n",
      "----------\n"
     ]
    },
    {
     "name": "stderr",
     "output_type": "stream",
     "text": [
      "                                                                                              \r"
     ]
    },
    {
     "name": "stdout",
     "output_type": "stream",
     "text": [
      "Epoch 100: Performing final optimizer step for remaining 2 steps' gradients.\n",
      "Train Loss: 1.3371 Acc: 0.3960\n"
     ]
    },
    {
     "name": "stderr",
     "output_type": "stream",
     "text": [
      "                                                                                              \r"
     ]
    },
    {
     "name": "stdout",
     "output_type": "stream",
     "text": [
      "Val Loss: 1.3267 Val Acc: 0.4096\n",
      "Validation loss did not improve for 12 epoch(s). Current best: 1.3261\n",
      "\n",
      "Epoch 101/10000 | Current LR: 0.000001\n",
      "----------\n"
     ]
    },
    {
     "name": "stderr",
     "output_type": "stream",
     "text": [
      "                                                                                              \r"
     ]
    },
    {
     "name": "stdout",
     "output_type": "stream",
     "text": [
      "Epoch 101: Performing final optimizer step for remaining 2 steps' gradients.\n",
      "Train Loss: 1.3392 Acc: 0.3960\n"
     ]
    },
    {
     "name": "stderr",
     "output_type": "stream",
     "text": [
      "                                                                                              \r"
     ]
    },
    {
     "name": "stdout",
     "output_type": "stream",
     "text": [
      "Val Loss: 1.3266 Val Acc: 0.4096\n",
      "Validation loss did not improve for 13 epoch(s). Current best: 1.3261\n",
      "\n",
      "Epoch 102/10000 | Current LR: 0.000001\n",
      "----------\n"
     ]
    },
    {
     "name": "stderr",
     "output_type": "stream",
     "text": [
      "                                                                                              \r"
     ]
    },
    {
     "name": "stdout",
     "output_type": "stream",
     "text": [
      "Epoch 102: Performing final optimizer step for remaining 2 steps' gradients.\n",
      "Train Loss: 1.3374 Acc: 0.3960\n"
     ]
    },
    {
     "name": "stderr",
     "output_type": "stream",
     "text": [
      "                                                                                              \r"
     ]
    },
    {
     "name": "stdout",
     "output_type": "stream",
     "text": [
      "Val Loss: 1.3268 Val Acc: 0.4096\n",
      "Validation loss did not improve for 14 epoch(s). Current best: 1.3261\n",
      "\n",
      "Epoch 103/10000 | Current LR: 0.000001\n",
      "----------\n"
     ]
    },
    {
     "name": "stderr",
     "output_type": "stream",
     "text": [
      "                                                                                              \r"
     ]
    },
    {
     "name": "stdout",
     "output_type": "stream",
     "text": [
      "Epoch 103: Performing final optimizer step for remaining 2 steps' gradients.\n",
      "Train Loss: 1.3405 Acc: 0.3943\n"
     ]
    },
    {
     "name": "stderr",
     "output_type": "stream",
     "text": [
      "                                                                                              \r"
     ]
    },
    {
     "name": "stdout",
     "output_type": "stream",
     "text": [
      "Val Loss: 1.3265 Val Acc: 0.4096\n",
      "Validation loss did not improve for 15 epoch(s). Current best: 1.3261\n",
      "\n",
      "Epoch 104/10000 | Current LR: 0.000001\n",
      "----------\n"
     ]
    },
    {
     "name": "stderr",
     "output_type": "stream",
     "text": [
      "                                                                                              \r"
     ]
    },
    {
     "name": "stdout",
     "output_type": "stream",
     "text": [
      "Epoch 104: Performing final optimizer step for remaining 2 steps' gradients.\n",
      "Train Loss: 1.3368 Acc: 0.3935\n"
     ]
    },
    {
     "name": "stderr",
     "output_type": "stream",
     "text": [
      "                                                                                              \r"
     ]
    },
    {
     "name": "stdout",
     "output_type": "stream",
     "text": [
      "Val Loss: 1.3266 Val Acc: 0.4096\n",
      "Validation loss did not improve for 16 epoch(s). Current best: 1.3261\n",
      "\n",
      "Epoch 105/10000 | Current LR: 0.000001\n",
      "----------\n"
     ]
    },
    {
     "name": "stderr",
     "output_type": "stream",
     "text": [
      "                                                                                              \r"
     ]
    },
    {
     "name": "stdout",
     "output_type": "stream",
     "text": [
      "Epoch 105: Performing final optimizer step for remaining 2 steps' gradients.\n",
      "Train Loss: 1.3369 Acc: 0.3926\n"
     ]
    },
    {
     "name": "stderr",
     "output_type": "stream",
     "text": [
      "                                                                                              \r"
     ]
    },
    {
     "name": "stdout",
     "output_type": "stream",
     "text": [
      "Val Loss: 1.3265 Val Acc: 0.4096\n",
      "Validation loss did not improve for 17 epoch(s). Current best: 1.3261\n",
      "\n",
      "Epoch 106/10000 | Current LR: 0.000001\n",
      "----------\n"
     ]
    },
    {
     "name": "stderr",
     "output_type": "stream",
     "text": [
      "                                                                                              \r"
     ]
    },
    {
     "name": "stdout",
     "output_type": "stream",
     "text": [
      "Epoch 106: Performing final optimizer step for remaining 2 steps' gradients.\n",
      "Train Loss: 1.3397 Acc: 0.3969\n"
     ]
    },
    {
     "name": "stderr",
     "output_type": "stream",
     "text": [
      "                                                                                              \r"
     ]
    },
    {
     "name": "stdout",
     "output_type": "stream",
     "text": [
      "Val Loss: 1.3267 Val Acc: 0.4096\n",
      "Validation loss did not improve for 18 epoch(s). Current best: 1.3261\n",
      "\n",
      "Epoch 107/10000 | Current LR: 0.000000\n",
      "----------\n"
     ]
    },
    {
     "name": "stderr",
     "output_type": "stream",
     "text": [
      "                                                                                              \r"
     ]
    },
    {
     "name": "stdout",
     "output_type": "stream",
     "text": [
      "Epoch 107: Performing final optimizer step for remaining 2 steps' gradients.\n",
      "Train Loss: 1.3399 Acc: 0.3952\n"
     ]
    },
    {
     "name": "stderr",
     "output_type": "stream",
     "text": [
      "                                                                                              \r"
     ]
    },
    {
     "name": "stdout",
     "output_type": "stream",
     "text": [
      "Val Loss: 1.3264 Val Acc: 0.4096\n",
      "Validation loss did not improve for 19 epoch(s). Current best: 1.3261\n",
      "\n",
      "Epoch 108/10000 | Current LR: 0.000000\n",
      "----------\n"
     ]
    },
    {
     "name": "stderr",
     "output_type": "stream",
     "text": [
      "                                                                                              \r"
     ]
    },
    {
     "name": "stdout",
     "output_type": "stream",
     "text": [
      "Epoch 108: Performing final optimizer step for remaining 2 steps' gradients.\n",
      "Train Loss: 1.3364 Acc: 0.3943\n"
     ]
    },
    {
     "name": "stderr",
     "output_type": "stream",
     "text": [
      "                                                                                              \r"
     ]
    },
    {
     "name": "stdout",
     "output_type": "stream",
     "text": [
      "Val Loss: 1.3268 Val Acc: 0.4096\n",
      "Validation loss did not improve for 20 epoch(s). Current best: 1.3261\n",
      "Early stopping triggered after 108 epochs!\n",
      "\n",
      "Training complete in 296m 59s\n",
      "Best Validation Loss: 1.3261\n",
      "Validation Accuracy at Best Loss: 0.4096\n",
      "Loading best model weights from runs\\best_model.pth\n",
      "Visualizing loss curves...\n"
     ]
    },
    {
     "data": {
      "image/png": "[encoded data removed]",
      "text/plain": [
       "<Figure size 1000x600 with 1 Axes>"
      ]
     },
     "metadata": {},
     "output_type": "display_data"
    }
   ],
   "source": [
    "%run train.py --task A --model_name Attention --epochs 10000 --learning_rate 1e-4 --optimizer sgd --momentum 0.9 --weight_decay 5e-4 --loss_function label_smoothing --label_smoothing_epsilon 0.1 --augmentation_level strong --patience 20 --area_attn_heads 16 --area_attn_split_factor 8 --batch_size 8 --accumulation_steps 4 --num_relan_blocks 2 2 4 2 --warmup_epochs 3 --scheduler_patience 5 --scheduler_factor 0.5"
   ]
  }
 ],
 "metadata": {
  "kernelspec": {
   "display_name": ".venv",
   "language": "python",
   "name": "python3"
  },
  "language_info": {
   "codemirror_mode": {
    "name": "ipython",
    "version": 3
   },
   "file_extension": ".py",
   "mimetype": "text/x-python",
   "name": "python",
   "nbconvert_exporter": "python",
   "pygments_lexer": "ipython3",
   "version": "3.12.4"
  }
 },
 "nbformat": 4,
 "nbformat_minor": 5
}
